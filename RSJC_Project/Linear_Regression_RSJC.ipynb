{
 "cells": [
  {
   "cell_type": "markdown",
   "metadata": {},
   "source": [
    "## Context and Content"
   ]
  },
  {
   "cell_type": "markdown",
   "metadata": {},
   "source": [
    "Clinical measures for a comprehensive assessment of the posture of the rearfoot-shank joint complex.\n",
    "\n",
    "The abstract of the paper I wrote:\n",
    "\n",
    "Increased lower-limb internal rotation and low/high foot arch are postural characteristics associated to musculoskeletal conditions. One of the possible causes for these postural abnormalities is altered pronation posture of the rearfoot-shank joint complex (RSJC), involving the frontal and transverse planes. Therefore, valid and reliable clinical measures to characterize the pronation posture of the RSJC, considering both motion planes, are needed.\n",
    "\n",
    "Objective: To investigate the intra and inter-examiner reliabilities and the validity of clinical measures characterizing RFJC pronation posture.\n",
    "\n",
    "Design: Reliability and concurrent validity study.\n",
    "\n",
    "Participants: Twenty-two able-bodied, asymptomatic subjects with 23.2 years-old (SD± 3.76 ).\n",
    "\n",
    "Setting: Laboratory.\n",
    "\n",
    "Interventions: Not applicable.\n",
    "\n",
    "Main Outcome Measures: Clinical measures and three-dimensional (3D) motion-capture system obtained the following angles: (a) RSJC frontal-plane posture, (b) RSJC transverse-plane posture, (c) RSJC pronation posture magnitude, defined as the mean value between the frontal-plane and transverse-plane postures of the calcaneus relative to the shank. The clinical measurements were taken with the digital inclinometer and compass of a smartphone application.\n",
    "\n",
    "Results: The clinical measures proposed to assess posture of pronation, eversion and rotation of the RSJC showed high intra and inter-examiner reliabilities, with Intraclass Correlation Coefficients (ICC) between 0.884 and 0.980 (p<0.05).\n",
    "These three proposed clinical measures are highly similar to the measures obtained with the 3D motion-capture system, with ICCs between 0.854 and 0.918 (p<0.05). \n",
    "\n",
    "Conclusion: Three clinical measures proposed (i.e. pronation, eversion and rotation of the RSJC) proved to be valid and reliable. Therefore, they can be used for a comprehensive characterization of the RSJC pronation posture."
   ]
  },
  {
   "cell_type": "code",
   "execution_count": 1,
   "metadata": {},
   "outputs": [
    {
     "name": "stdout",
     "output_type": "stream",
     "text": [
      "Setup complete!\n"
     ]
    }
   ],
   "source": [
    "# Imports\n",
    "import numpy as np\n",
    "import pandas as pd\n",
    "import matplotlib.pyplot as plt\n",
    "import seaborn as sns\n",
    "%matplotlib inline\n",
    "\n",
    "from sklearn.model_selection import train_test_split\n",
    "\n",
    "from sklearn.linear_model import LinearRegression\n",
    "\n",
    "from sklearn import metrics\n",
    "print('Setup complete!')"
   ]
  },
  {
   "cell_type": "markdown",
   "metadata": {},
   "source": [
    "## The Data"
   ]
  },
  {
   "cell_type": "markdown",
   "metadata": {},
   "source": [
    "Summary of the data:\n",
    "\n",
    "- VOLUNTÁRIO: The subject.\n",
    "\n",
    "- Dia: Collect date.\n",
    "\n",
    "- Altura do navicular (cm): The navicular measurement.\n",
    "\n",
    "- Medida: Mult-index\n",
    "\n",
    "- CN Inclinômetro: Calcaneus measurement in neutral position.\n",
    "\n",
    "- Calcâneo Neutro: Calcaneus measurement in neutral position.\n",
    "\n",
    "- PN Inclinômetro: Shank measurement in neutral position.\n",
    "\n",
    "- Perna Neutro: Shank measurement in neutral position.\n",
    "\n",
    "- Rotação (°): Amount of rotation in degrees.\n",
    "\n",
    "- CR Inclinômetro: Calcaneus measurement in relaxed position.\n",
    "\n",
    "- Calcâneo Relaxado: Calcaneus measurement in relaxed position.\n",
    "\n",
    "- PR Inclinômetro: Shank measurement in relaxed position.\n",
    "\n",
    "- Perna Relaxado: Shank measurement in relaxed position.\n",
    "\n",
    "- Calcâneo - perna NEUTRO: Difference between calcaneaus and shank in neutral position.\n",
    "\n",
    "- Calcâneo - perna RELAXADO: Difference between calcaneaus and shank in relaxed position.\n",
    "\n",
    "- DIFERENÇA NEUTRO - RELAXADO: Difference neutral relaxed.\n",
    "\n",
    "- ÍNDICE DE POSTURA: The posture index (target).\n",
    "\n",
    "- ÍNDICE MÉDIO: The average values of the posture index.\n",
    "\n",
    "- OBSERVAÇÃO VISUAL: Visual observation during the collect.\n",
    "\n",
    "- MÉDIA DIF_SN_RX: The average measurement between neutral and relaxed subtalar joint."
   ]
  },
  {
   "cell_type": "code",
   "execution_count": 2,
   "metadata": {},
   "outputs": [],
   "source": [
    "# Loading the data\n",
    "df = pd.read_excel('MEDIDA_DE_POSTURA_DE_PÉ_MEDIDA CLÍNICA.xlsx', sheet_name=1)\n",
    "df_2 = pd.read_excel('MEDIDA_DE_POSTURA_DE_PÉ_MEDIDA CLÍNICA.xlsx', sheet_name=0)"
   ]
  },
  {
   "cell_type": "code",
   "execution_count": 3,
   "metadata": {},
   "outputs": [],
   "source": [
    "# Using the concat func\n",
    "mp = pd.concat([df, df_2])"
   ]
  },
  {
   "cell_type": "code",
   "execution_count": 4,
   "metadata": {
    "scrolled": true
   },
   "outputs": [
    {
     "data": {
      "text/html": [
       "<div>\n",
       "<style scoped>\n",
       "    .dataframe tbody tr th:only-of-type {\n",
       "        vertical-align: middle;\n",
       "    }\n",
       "\n",
       "    .dataframe tbody tr th {\n",
       "        vertical-align: top;\n",
       "    }\n",
       "\n",
       "    .dataframe thead th {\n",
       "        text-align: right;\n",
       "    }\n",
       "</style>\n",
       "<table border=\"1\" class=\"dataframe\">\n",
       "  <thead>\n",
       "    <tr style=\"text-align: right;\">\n",
       "      <th></th>\n",
       "      <th>VOLUNTÁRIO</th>\n",
       "      <th>Dia</th>\n",
       "      <th>Altura do navicular (cm)</th>\n",
       "      <th>Medida</th>\n",
       "      <th>CN Inclinômetro</th>\n",
       "      <th>Calcâneo Neutro</th>\n",
       "      <th>PN Inclinômetro</th>\n",
       "      <th>Perna Neutro</th>\n",
       "      <th>Rotação (°)</th>\n",
       "      <th>CR Inclinômetro</th>\n",
       "      <th>Calcâneo Relaxado</th>\n",
       "      <th>PR Inclinômetro</th>\n",
       "      <th>Perna Relaxado</th>\n",
       "      <th>Calcâneo - perna NEUTRO</th>\n",
       "      <th>Calcâneo - perna RELAXADO</th>\n",
       "      <th>DIFERENÇA NEUTRO - RELAXADO</th>\n",
       "      <th>ÍNDICE DE POSTURA</th>\n",
       "      <th>ÍNDICE MÉDIO</th>\n",
       "      <th>OBSERVAÇÃO VISUAL</th>\n",
       "      <th>MÉDIA DIF_SN_RX</th>\n",
       "    </tr>\n",
       "  </thead>\n",
       "  <tbody>\n",
       "    <tr>\n",
       "      <th>0</th>\n",
       "      <td>AFS0398</td>\n",
       "      <td>1.0</td>\n",
       "      <td>4.7</td>\n",
       "      <td>1.0</td>\n",
       "      <td>90.2</td>\n",
       "      <td>0.2</td>\n",
       "      <td>91.3</td>\n",
       "      <td>1.3</td>\n",
       "      <td>17.0</td>\n",
       "      <td>96.3</td>\n",
       "      <td>6.3</td>\n",
       "      <td>84.0</td>\n",
       "      <td>-6.0</td>\n",
       "      <td>-1.1</td>\n",
       "      <td>12.3</td>\n",
       "      <td>13.4</td>\n",
       "      <td>15.20</td>\n",
       "      <td>14.333333</td>\n",
       "      <td>NaN</td>\n",
       "      <td>NaN</td>\n",
       "    </tr>\n",
       "    <tr>\n",
       "      <th>1</th>\n",
       "      <td>NaN</td>\n",
       "      <td>NaN</td>\n",
       "      <td>NaN</td>\n",
       "      <td>2.0</td>\n",
       "      <td>90.5</td>\n",
       "      <td>0.5</td>\n",
       "      <td>90.2</td>\n",
       "      <td>0.2</td>\n",
       "      <td>15.0</td>\n",
       "      <td>97.3</td>\n",
       "      <td>7.3</td>\n",
       "      <td>84.3</td>\n",
       "      <td>-5.7</td>\n",
       "      <td>0.3</td>\n",
       "      <td>13.0</td>\n",
       "      <td>12.7</td>\n",
       "      <td>13.85</td>\n",
       "      <td>NaN</td>\n",
       "      <td>NaN</td>\n",
       "      <td>NaN</td>\n",
       "    </tr>\n",
       "    <tr>\n",
       "      <th>2</th>\n",
       "      <td>NaN</td>\n",
       "      <td>NaN</td>\n",
       "      <td>NaN</td>\n",
       "      <td>3.0</td>\n",
       "      <td>91.0</td>\n",
       "      <td>1.0</td>\n",
       "      <td>91.9</td>\n",
       "      <td>1.9</td>\n",
       "      <td>15.0</td>\n",
       "      <td>96.3</td>\n",
       "      <td>6.3</td>\n",
       "      <td>84.3</td>\n",
       "      <td>-5.7</td>\n",
       "      <td>-0.9</td>\n",
       "      <td>12.0</td>\n",
       "      <td>12.9</td>\n",
       "      <td>13.95</td>\n",
       "      <td>NaN</td>\n",
       "      <td>NaN</td>\n",
       "      <td>NaN</td>\n",
       "    </tr>\n",
       "    <tr>\n",
       "      <th>3</th>\n",
       "      <td>NaN</td>\n",
       "      <td>2.0</td>\n",
       "      <td>4.5</td>\n",
       "      <td>1.0</td>\n",
       "      <td>90.4</td>\n",
       "      <td>0.4</td>\n",
       "      <td>89.4</td>\n",
       "      <td>-0.6</td>\n",
       "      <td>17.0</td>\n",
       "      <td>95.4</td>\n",
       "      <td>5.4</td>\n",
       "      <td>82.8</td>\n",
       "      <td>-7.2</td>\n",
       "      <td>1.0</td>\n",
       "      <td>12.6</td>\n",
       "      <td>11.6</td>\n",
       "      <td>14.30</td>\n",
       "      <td>13.650000</td>\n",
       "      <td>NaN</td>\n",
       "      <td>NaN</td>\n",
       "    </tr>\n",
       "    <tr>\n",
       "      <th>4</th>\n",
       "      <td>NaN</td>\n",
       "      <td>NaN</td>\n",
       "      <td>NaN</td>\n",
       "      <td>2.0</td>\n",
       "      <td>90.1</td>\n",
       "      <td>0.1</td>\n",
       "      <td>88.6</td>\n",
       "      <td>-1.4</td>\n",
       "      <td>15.0</td>\n",
       "      <td>95.5</td>\n",
       "      <td>5.5</td>\n",
       "      <td>82.3</td>\n",
       "      <td>-7.7</td>\n",
       "      <td>1.5</td>\n",
       "      <td>13.2</td>\n",
       "      <td>11.7</td>\n",
       "      <td>13.35</td>\n",
       "      <td>NaN</td>\n",
       "      <td>NaN</td>\n",
       "      <td>NaN</td>\n",
       "    </tr>\n",
       "  </tbody>\n",
       "</table>\n",
       "</div>"
      ],
      "text/plain": [
       "  VOLUNTÁRIO  Dia  Altura do navicular (cm)  Medida  CN Inclinômetro  \\\n",
       "0    AFS0398  1.0                       4.7     1.0             90.2   \n",
       "1        NaN  NaN                       NaN     2.0             90.5   \n",
       "2        NaN  NaN                       NaN     3.0             91.0   \n",
       "3        NaN  2.0                       4.5     1.0             90.4   \n",
       "4        NaN  NaN                       NaN     2.0             90.1   \n",
       "\n",
       "   Calcâneo Neutro  PN Inclinômetro  Perna Neutro  Rotação (°)  \\\n",
       "0              0.2             91.3           1.3         17.0   \n",
       "1              0.5             90.2           0.2         15.0   \n",
       "2              1.0             91.9           1.9         15.0   \n",
       "3              0.4             89.4          -0.6         17.0   \n",
       "4              0.1             88.6          -1.4         15.0   \n",
       "\n",
       "   CR Inclinômetro  Calcâneo Relaxado  PR Inclinômetro  Perna Relaxado  \\\n",
       "0             96.3                6.3             84.0            -6.0   \n",
       "1             97.3                7.3             84.3            -5.7   \n",
       "2             96.3                6.3             84.3            -5.7   \n",
       "3             95.4                5.4             82.8            -7.2   \n",
       "4             95.5                5.5             82.3            -7.7   \n",
       "\n",
       "   Calcâneo - perna NEUTRO  Calcâneo - perna RELAXADO  \\\n",
       "0                     -1.1                       12.3   \n",
       "1                      0.3                       13.0   \n",
       "2                     -0.9                       12.0   \n",
       "3                      1.0                       12.6   \n",
       "4                      1.5                       13.2   \n",
       "\n",
       "   DIFERENÇA NEUTRO - RELAXADO  ÍNDICE DE POSTURA  ÍNDICE MÉDIO  \\\n",
       "0                         13.4              15.20     14.333333   \n",
       "1                         12.7              13.85           NaN   \n",
       "2                         12.9              13.95           NaN   \n",
       "3                         11.6              14.30     13.650000   \n",
       "4                         11.7              13.35           NaN   \n",
       "\n",
       "  OBSERVAÇÃO VISUAL  MÉDIA DIF_SN_RX  \n",
       "0               NaN              NaN  \n",
       "1               NaN              NaN  \n",
       "2               NaN              NaN  \n",
       "3               NaN              NaN  \n",
       "4               NaN              NaN  "
      ]
     },
     "execution_count": 4,
     "metadata": {},
     "output_type": "execute_result"
    }
   ],
   "source": [
    "# Checking the head and info\n",
    "mp.head()"
   ]
  },
  {
   "cell_type": "code",
   "execution_count": 5,
   "metadata": {},
   "outputs": [
    {
     "name": "stdout",
     "output_type": "stream",
     "text": [
      "<class 'pandas.core.frame.DataFrame'>\n",
      "Int64Index: 279 entries, 0 to 140\n",
      "Data columns (total 20 columns):\n",
      " #   Column                       Non-Null Count  Dtype  \n",
      "---  ------                       --------------  -----  \n",
      " 0   VOLUNTÁRIO                   44 non-null     object \n",
      " 1   Dia                          88 non-null     float64\n",
      " 2   Altura do navicular (cm)     88 non-null     float64\n",
      " 3   Medida                       264 non-null    float64\n",
      " 4   CN Inclinômetro              246 non-null    float64\n",
      " 5   Calcâneo Neutro              264 non-null    float64\n",
      " 6   PN Inclinômetro              246 non-null    float64\n",
      " 7   Perna Neutro                 264 non-null    float64\n",
      " 8   Rotação (°)                  264 non-null    float64\n",
      " 9   CR Inclinômetro              246 non-null    float64\n",
      " 10  Calcâneo Relaxado            264 non-null    float64\n",
      " 11  PR Inclinômetro              246 non-null    float64\n",
      " 12  Perna Relaxado               264 non-null    float64\n",
      " 13  Calcâneo - perna NEUTRO      264 non-null    float64\n",
      " 14  Calcâneo - perna RELAXADO    264 non-null    float64\n",
      " 15  DIFERENÇA NEUTRO - RELAXADO  264 non-null    float64\n",
      " 16  ÍNDICE DE POSTURA            264 non-null    float64\n",
      " 17  ÍNDICE MÉDIO                 88 non-null     float64\n",
      " 18  OBSERVAÇÃO VISUAL            4 non-null      object \n",
      " 19  MÉDIA DIF_SN_RX              44 non-null     float64\n",
      "dtypes: float64(18), object(2)\n",
      "memory usage: 45.8+ KB\n"
     ]
    }
   ],
   "source": [
    "mp.info()"
   ]
  },
  {
   "cell_type": "markdown",
   "metadata": {},
   "source": [
    "## Cleaning the Data"
   ]
  },
  {
   "cell_type": "code",
   "execution_count": 6,
   "metadata": {},
   "outputs": [],
   "source": [
    "# Cut out the unnecessary columns for the model\n",
    "mp.drop(['MÉDIA DIF_SN_RX','ÍNDICE MÉDIO','Altura do navicular (cm)','VOLUNTÁRIO','OBSERVAÇÃO VISUAL', 'Dia', 'Medida'], \n",
    "        axis=1, inplace=True)"
   ]
  },
  {
   "cell_type": "markdown",
   "metadata": {},
   "source": [
    "## Check Outliers"
   ]
  },
  {
   "cell_type": "code",
   "execution_count": 7,
   "metadata": {},
   "outputs": [
    {
     "data": {
      "text/plain": [
       "<matplotlib.axes._subplots.AxesSubplot at 0x7f7f66a55ed0>"
      ]
     },
     "execution_count": 7,
     "metadata": {},
     "output_type": "execute_result"
    },
    {
     "data": {
      "image/png": "[encoded data removed]",
      "text/plain": [
       "<Figure size 432x288 with 1 Axes>"
      ]
     },
     "metadata": {
      "needs_background": "light"
     },
     "output_type": "display_data"
    }
   ],
   "source": [
    "sns.boxplot(x='CN Inclinômetro',data=mp)"
   ]
  },
  {
   "cell_type": "code",
   "execution_count": 8,
   "metadata": {},
   "outputs": [
    {
     "data": {
      "text/plain": [
       "<matplotlib.axes._subplots.AxesSubplot at 0x7f7f66a97c90>"
      ]
     },
     "execution_count": 8,
     "metadata": {},
     "output_type": "execute_result"
    },
    {
     "data": {
      "image/png": "[encoded data removed]",
      "text/plain": [
       "<Figure size 432x288 with 1 Axes>"
      ]
     },
     "metadata": {
      "needs_background": "light"
     },
     "output_type": "display_data"
    }
   ],
   "source": [
    "sns.boxplot(x='PN Inclinômetro',data=mp)"
   ]
  },
  {
   "cell_type": "code",
   "execution_count": 9,
   "metadata": {},
   "outputs": [
    {
     "data": {
      "text/plain": [
       "<matplotlib.axes._subplots.AxesSubplot at 0x7f7f66ad6d50>"
      ]
     },
     "execution_count": 9,
     "metadata": {},
     "output_type": "execute_result"
    },
    {
     "data": {
      "image/png": "[encoded data removed]",
      "text/plain": [
       "<Figure size 432x288 with 1 Axes>"
      ]
     },
     "metadata": {
      "needs_background": "light"
     },
     "output_type": "display_data"
    }
   ],
   "source": [
    "sns.boxplot(x='CR Inclinômetro',data=mp)"
   ]
  },
  {
   "cell_type": "code",
   "execution_count": 10,
   "metadata": {},
   "outputs": [
    {
     "data": {
      "text/plain": [
       "<matplotlib.axes._subplots.AxesSubplot at 0x7f7f66c00610>"
      ]
     },
     "execution_count": 10,
     "metadata": {},
     "output_type": "execute_result"
    },
    {
     "data": {
      "image/png": "[encoded data removed]",
      "text/plain": [
       "<Figure size 432x288 with 1 Axes>"
      ]
     },
     "metadata": {
      "needs_background": "light"
     },
     "output_type": "display_data"
    }
   ],
   "source": [
    "sns.boxplot(x='PR Inclinômetro',data=mp)"
   ]
  },
  {
   "cell_type": "markdown",
   "metadata": {},
   "source": [
    "## Outlier Treatment"
   ]
  },
  {
   "cell_type": "code",
   "execution_count": 11,
   "metadata": {},
   "outputs": [],
   "source": [
    "# Checking for outliers\n",
    "Q1 = mp['PN Inclinômetro'].quantile(0.25)\n",
    "Q3 = mp['PN Inclinômetro'].quantile(0.75)\n",
    "IQR = Q3-Q1"
   ]
  },
  {
   "cell_type": "code",
   "execution_count": 12,
   "metadata": {},
   "outputs": [],
   "source": [
    "# Calculating the lower and upper whiskers\n",
    "lower = Q1-1.5*IQR\n",
    "upper = Q3-1.5*IQR"
   ]
  },
  {
   "cell_type": "code",
   "execution_count": 14,
   "metadata": {},
   "outputs": [],
   "source": [
    "df = mp[mp['PN Inclinômetro'] < upper]"
   ]
  },
  {
   "cell_type": "code",
   "execution_count": 15,
   "metadata": {},
   "outputs": [],
   "source": [
    "# Removing the NaN values\n",
    "mp.dropna(inplace=True)"
   ]
  },
  {
   "cell_type": "code",
   "execution_count": 16,
   "metadata": {},
   "outputs": [
    {
     "data": {
      "text/html": [
       "<div>\n",
       "<style scoped>\n",
       "    .dataframe tbody tr th:only-of-type {\n",
       "        vertical-align: middle;\n",
       "    }\n",
       "\n",
       "    .dataframe tbody tr th {\n",
       "        vertical-align: top;\n",
       "    }\n",
       "\n",
       "    .dataframe thead th {\n",
       "        text-align: right;\n",
       "    }\n",
       "</style>\n",
       "<table border=\"1\" class=\"dataframe\">\n",
       "  <thead>\n",
       "    <tr style=\"text-align: right;\">\n",
       "      <th></th>\n",
       "      <th>CN Inclinômetro</th>\n",
       "      <th>Calcâneo Neutro</th>\n",
       "      <th>PN Inclinômetro</th>\n",
       "      <th>Perna Neutro</th>\n",
       "      <th>Rotação (°)</th>\n",
       "      <th>CR Inclinômetro</th>\n",
       "      <th>Calcâneo Relaxado</th>\n",
       "      <th>PR Inclinômetro</th>\n",
       "      <th>Perna Relaxado</th>\n",
       "      <th>Calcâneo - perna NEUTRO</th>\n",
       "      <th>Calcâneo - perna RELAXADO</th>\n",
       "      <th>DIFERENÇA NEUTRO - RELAXADO</th>\n",
       "      <th>ÍNDICE DE POSTURA</th>\n",
       "    </tr>\n",
       "  </thead>\n",
       "  <tbody>\n",
       "    <tr>\n",
       "      <th>0</th>\n",
       "      <td>90.2</td>\n",
       "      <td>0.2</td>\n",
       "      <td>91.3</td>\n",
       "      <td>1.3</td>\n",
       "      <td>17.0</td>\n",
       "      <td>96.3</td>\n",
       "      <td>6.3</td>\n",
       "      <td>84.0</td>\n",
       "      <td>-6.0</td>\n",
       "      <td>-1.1</td>\n",
       "      <td>12.3</td>\n",
       "      <td>13.4</td>\n",
       "      <td>15.20</td>\n",
       "    </tr>\n",
       "    <tr>\n",
       "      <th>1</th>\n",
       "      <td>90.5</td>\n",
       "      <td>0.5</td>\n",
       "      <td>90.2</td>\n",
       "      <td>0.2</td>\n",
       "      <td>15.0</td>\n",
       "      <td>97.3</td>\n",
       "      <td>7.3</td>\n",
       "      <td>84.3</td>\n",
       "      <td>-5.7</td>\n",
       "      <td>0.3</td>\n",
       "      <td>13.0</td>\n",
       "      <td>12.7</td>\n",
       "      <td>13.85</td>\n",
       "    </tr>\n",
       "    <tr>\n",
       "      <th>2</th>\n",
       "      <td>91.0</td>\n",
       "      <td>1.0</td>\n",
       "      <td>91.9</td>\n",
       "      <td>1.9</td>\n",
       "      <td>15.0</td>\n",
       "      <td>96.3</td>\n",
       "      <td>6.3</td>\n",
       "      <td>84.3</td>\n",
       "      <td>-5.7</td>\n",
       "      <td>-0.9</td>\n",
       "      <td>12.0</td>\n",
       "      <td>12.9</td>\n",
       "      <td>13.95</td>\n",
       "    </tr>\n",
       "    <tr>\n",
       "      <th>3</th>\n",
       "      <td>90.4</td>\n",
       "      <td>0.4</td>\n",
       "      <td>89.4</td>\n",
       "      <td>-0.6</td>\n",
       "      <td>17.0</td>\n",
       "      <td>95.4</td>\n",
       "      <td>5.4</td>\n",
       "      <td>82.8</td>\n",
       "      <td>-7.2</td>\n",
       "      <td>1.0</td>\n",
       "      <td>12.6</td>\n",
       "      <td>11.6</td>\n",
       "      <td>14.30</td>\n",
       "    </tr>\n",
       "    <tr>\n",
       "      <th>4</th>\n",
       "      <td>90.1</td>\n",
       "      <td>0.1</td>\n",
       "      <td>88.6</td>\n",
       "      <td>-1.4</td>\n",
       "      <td>15.0</td>\n",
       "      <td>95.5</td>\n",
       "      <td>5.5</td>\n",
       "      <td>82.3</td>\n",
       "      <td>-7.7</td>\n",
       "      <td>1.5</td>\n",
       "      <td>13.2</td>\n",
       "      <td>11.7</td>\n",
       "      <td>13.35</td>\n",
       "    </tr>\n",
       "  </tbody>\n",
       "</table>\n",
       "</div>"
      ],
      "text/plain": [
       "   CN Inclinômetro  Calcâneo Neutro  PN Inclinômetro  Perna Neutro  \\\n",
       "0             90.2              0.2             91.3           1.3   \n",
       "1             90.5              0.5             90.2           0.2   \n",
       "2             91.0              1.0             91.9           1.9   \n",
       "3             90.4              0.4             89.4          -0.6   \n",
       "4             90.1              0.1             88.6          -1.4   \n",
       "\n",
       "   Rotação (°)  CR Inclinômetro  Calcâneo Relaxado  PR Inclinômetro  \\\n",
       "0         17.0             96.3                6.3             84.0   \n",
       "1         15.0             97.3                7.3             84.3   \n",
       "2         15.0             96.3                6.3             84.3   \n",
       "3         17.0             95.4                5.4             82.8   \n",
       "4         15.0             95.5                5.5             82.3   \n",
       "\n",
       "   Perna Relaxado  Calcâneo - perna NEUTRO  Calcâneo - perna RELAXADO  \\\n",
       "0            -6.0                     -1.1                       12.3   \n",
       "1            -5.7                      0.3                       13.0   \n",
       "2            -5.7                     -0.9                       12.0   \n",
       "3            -7.2                      1.0                       12.6   \n",
       "4            -7.7                      1.5                       13.2   \n",
       "\n",
       "   DIFERENÇA NEUTRO - RELAXADO  ÍNDICE DE POSTURA  \n",
       "0                         13.4              15.20  \n",
       "1                         12.7              13.85  \n",
       "2                         12.9              13.95  \n",
       "3                         11.6              14.30  \n",
       "4                         11.7              13.35  "
      ]
     },
     "execution_count": 16,
     "metadata": {},
     "output_type": "execute_result"
    }
   ],
   "source": [
    "# Checking the head and info again\n",
    "mp.head()"
   ]
  },
  {
   "cell_type": "code",
   "execution_count": 17,
   "metadata": {},
   "outputs": [
    {
     "name": "stdout",
     "output_type": "stream",
     "text": [
      "<class 'pandas.core.frame.DataFrame'>\n",
      "Int64Index: 246 entries, 0 to 131\n",
      "Data columns (total 13 columns):\n",
      " #   Column                       Non-Null Count  Dtype  \n",
      "---  ------                       --------------  -----  \n",
      " 0   CN Inclinômetro              246 non-null    float64\n",
      " 1   Calcâneo Neutro              246 non-null    float64\n",
      " 2   PN Inclinômetro              246 non-null    float64\n",
      " 3   Perna Neutro                 246 non-null    float64\n",
      " 4   Rotação (°)                  246 non-null    float64\n",
      " 5   CR Inclinômetro              246 non-null    float64\n",
      " 6   Calcâneo Relaxado            246 non-null    float64\n",
      " 7   PR Inclinômetro              246 non-null    float64\n",
      " 8   Perna Relaxado               246 non-null    float64\n",
      " 9   Calcâneo - perna NEUTRO      246 non-null    float64\n",
      " 10  Calcâneo - perna RELAXADO    246 non-null    float64\n",
      " 11  DIFERENÇA NEUTRO - RELAXADO  246 non-null    float64\n",
      " 12  ÍNDICE DE POSTURA            246 non-null    float64\n",
      "dtypes: float64(13)\n",
      "memory usage: 26.9 KB\n"
     ]
    }
   ],
   "source": [
    "mp.info()"
   ]
  },
  {
   "cell_type": "markdown",
   "metadata": {},
   "source": [
    "### Exploratory Data Analysis"
   ]
  },
  {
   "cell_type": "code",
   "execution_count": 18,
   "metadata": {},
   "outputs": [
    {
     "data": {
      "text/html": [
       "<div>\n",
       "<style scoped>\n",
       "    .dataframe tbody tr th:only-of-type {\n",
       "        vertical-align: middle;\n",
       "    }\n",
       "\n",
       "    .dataframe tbody tr th {\n",
       "        vertical-align: top;\n",
       "    }\n",
       "\n",
       "    .dataframe thead th {\n",
       "        text-align: right;\n",
       "    }\n",
       "</style>\n",
       "<table border=\"1\" class=\"dataframe\">\n",
       "  <thead>\n",
       "    <tr style=\"text-align: right;\">\n",
       "      <th></th>\n",
       "      <th>count</th>\n",
       "      <th>mean</th>\n",
       "      <th>std</th>\n",
       "      <th>min</th>\n",
       "      <th>25%</th>\n",
       "      <th>50%</th>\n",
       "      <th>75%</th>\n",
       "      <th>max</th>\n",
       "    </tr>\n",
       "  </thead>\n",
       "  <tbody>\n",
       "    <tr>\n",
       "      <th>CN Inclinômetro</th>\n",
       "      <td>246.0</td>\n",
       "      <td>89.200813</td>\n",
       "      <td>2.656651</td>\n",
       "      <td>82.40</td>\n",
       "      <td>87.500</td>\n",
       "      <td>89.75</td>\n",
       "      <td>90.8000</td>\n",
       "      <td>96.9</td>\n",
       "    </tr>\n",
       "    <tr>\n",
       "      <th>Calcâneo Neutro</th>\n",
       "      <td>246.0</td>\n",
       "      <td>-0.799187</td>\n",
       "      <td>2.656651</td>\n",
       "      <td>-7.60</td>\n",
       "      <td>-2.500</td>\n",
       "      <td>-0.25</td>\n",
       "      <td>0.8000</td>\n",
       "      <td>6.9</td>\n",
       "    </tr>\n",
       "    <tr>\n",
       "      <th>PN Inclinômetro</th>\n",
       "      <td>246.0</td>\n",
       "      <td>89.725203</td>\n",
       "      <td>3.252028</td>\n",
       "      <td>80.00</td>\n",
       "      <td>88.400</td>\n",
       "      <td>90.20</td>\n",
       "      <td>91.6000</td>\n",
       "      <td>97.1</td>\n",
       "    </tr>\n",
       "    <tr>\n",
       "      <th>Perna Neutro</th>\n",
       "      <td>246.0</td>\n",
       "      <td>-0.274797</td>\n",
       "      <td>3.252028</td>\n",
       "      <td>-10.00</td>\n",
       "      <td>-1.600</td>\n",
       "      <td>0.20</td>\n",
       "      <td>1.6000</td>\n",
       "      <td>7.1</td>\n",
       "    </tr>\n",
       "    <tr>\n",
       "      <th>Rotação (°)</th>\n",
       "      <td>246.0</td>\n",
       "      <td>9.528455</td>\n",
       "      <td>4.491852</td>\n",
       "      <td>0.00</td>\n",
       "      <td>7.000</td>\n",
       "      <td>9.00</td>\n",
       "      <td>13.0000</td>\n",
       "      <td>20.0</td>\n",
       "    </tr>\n",
       "    <tr>\n",
       "      <th>CR Inclinômetro</th>\n",
       "      <td>246.0</td>\n",
       "      <td>93.013008</td>\n",
       "      <td>3.908378</td>\n",
       "      <td>82.20</td>\n",
       "      <td>91.300</td>\n",
       "      <td>92.90</td>\n",
       "      <td>95.5000</td>\n",
       "      <td>105.5</td>\n",
       "    </tr>\n",
       "    <tr>\n",
       "      <th>Calcâneo Relaxado</th>\n",
       "      <td>246.0</td>\n",
       "      <td>3.013008</td>\n",
       "      <td>3.908378</td>\n",
       "      <td>-7.80</td>\n",
       "      <td>1.300</td>\n",
       "      <td>2.90</td>\n",
       "      <td>5.5000</td>\n",
       "      <td>15.5</td>\n",
       "    </tr>\n",
       "    <tr>\n",
       "      <th>PR Inclinômetro</th>\n",
       "      <td>246.0</td>\n",
       "      <td>86.518780</td>\n",
       "      <td>3.165117</td>\n",
       "      <td>78.30</td>\n",
       "      <td>84.300</td>\n",
       "      <td>86.75</td>\n",
       "      <td>88.9750</td>\n",
       "      <td>95.1</td>\n",
       "    </tr>\n",
       "    <tr>\n",
       "      <th>Perna Relaxado</th>\n",
       "      <td>246.0</td>\n",
       "      <td>-3.481220</td>\n",
       "      <td>3.165117</td>\n",
       "      <td>-11.70</td>\n",
       "      <td>-5.700</td>\n",
       "      <td>-3.25</td>\n",
       "      <td>-1.0250</td>\n",
       "      <td>5.1</td>\n",
       "    </tr>\n",
       "    <tr>\n",
       "      <th>Calcâneo - perna NEUTRO</th>\n",
       "      <td>246.0</td>\n",
       "      <td>-0.524390</td>\n",
       "      <td>3.476225</td>\n",
       "      <td>-11.60</td>\n",
       "      <td>-2.400</td>\n",
       "      <td>0.00</td>\n",
       "      <td>1.5750</td>\n",
       "      <td>7.1</td>\n",
       "    </tr>\n",
       "    <tr>\n",
       "      <th>Calcâneo - perna RELAXADO</th>\n",
       "      <td>246.0</td>\n",
       "      <td>6.494228</td>\n",
       "      <td>4.379585</td>\n",
       "      <td>-3.20</td>\n",
       "      <td>3.050</td>\n",
       "      <td>6.00</td>\n",
       "      <td>10.0000</td>\n",
       "      <td>18.5</td>\n",
       "    </tr>\n",
       "    <tr>\n",
       "      <th>DIFERENÇA NEUTRO - RELAXADO</th>\n",
       "      <td>246.0</td>\n",
       "      <td>7.018618</td>\n",
       "      <td>4.120315</td>\n",
       "      <td>-7.70</td>\n",
       "      <td>5.125</td>\n",
       "      <td>6.95</td>\n",
       "      <td>9.5000</td>\n",
       "      <td>16.9</td>\n",
       "    </tr>\n",
       "    <tr>\n",
       "      <th>ÍNDICE DE POSTURA</th>\n",
       "      <td>246.0</td>\n",
       "      <td>8.273537</td>\n",
       "      <td>4.007053</td>\n",
       "      <td>-3.35</td>\n",
       "      <td>6.375</td>\n",
       "      <td>8.20</td>\n",
       "      <td>10.2875</td>\n",
       "      <td>17.3</td>\n",
       "    </tr>\n",
       "  </tbody>\n",
       "</table>\n",
       "</div>"
      ],
      "text/plain": [
       "                             count       mean       std    min     25%    50%  \\\n",
       "CN Inclinômetro              246.0  89.200813  2.656651  82.40  87.500  89.75   \n",
       "Calcâneo Neutro              246.0  -0.799187  2.656651  -7.60  -2.500  -0.25   \n",
       "PN Inclinômetro              246.0  89.725203  3.252028  80.00  88.400  90.20   \n",
       "Perna Neutro                 246.0  -0.274797  3.252028 -10.00  -1.600   0.20   \n",
       "Rotação (°)                  246.0   9.528455  4.491852   0.00   7.000   9.00   \n",
       "CR Inclinômetro              246.0  93.013008  3.908378  82.20  91.300  92.90   \n",
       "Calcâneo Relaxado            246.0   3.013008  3.908378  -7.80   1.300   2.90   \n",
       "PR Inclinômetro              246.0  86.518780  3.165117  78.30  84.300  86.75   \n",
       "Perna Relaxado               246.0  -3.481220  3.165117 -11.70  -5.700  -3.25   \n",
       "Calcâneo - perna NEUTRO      246.0  -0.524390  3.476225 -11.60  -2.400   0.00   \n",
       "Calcâneo - perna RELAXADO    246.0   6.494228  4.379585  -3.20   3.050   6.00   \n",
       "DIFERENÇA NEUTRO - RELAXADO  246.0   7.018618  4.120315  -7.70   5.125   6.95   \n",
       "ÍNDICE DE POSTURA            246.0   8.273537  4.007053  -3.35   6.375   8.20   \n",
       "\n",
       "                                 75%    max  \n",
       "CN Inclinômetro              90.8000   96.9  \n",
       "Calcâneo Neutro               0.8000    6.9  \n",
       "PN Inclinômetro              91.6000   97.1  \n",
       "Perna Neutro                  1.6000    7.1  \n",
       "Rotação (°)                  13.0000   20.0  \n",
       "CR Inclinômetro              95.5000  105.5  \n",
       "Calcâneo Relaxado             5.5000   15.5  \n",
       "PR Inclinômetro              88.9750   95.1  \n",
       "Perna Relaxado               -1.0250    5.1  \n",
       "Calcâneo - perna NEUTRO       1.5750    7.1  \n",
       "Calcâneo - perna RELAXADO    10.0000   18.5  \n",
       "DIFERENÇA NEUTRO - RELAXADO   9.5000   16.9  \n",
       "ÍNDICE DE POSTURA            10.2875   17.3  "
      ]
     },
     "execution_count": 18,
     "metadata": {},
     "output_type": "execute_result"
    }
   ],
   "source": [
    "# Let's see the describe\n",
    "mp.describe().transpose()"
   ]
  },
  {
   "cell_type": "code",
   "execution_count": 19,
   "metadata": {},
   "outputs": [],
   "source": [
    "# By these two plots, we can see that a linear regression may be appropriate to solve our problem"
   ]
  },
  {
   "cell_type": "code",
   "execution_count": 20,
   "metadata": {},
   "outputs": [
    {
     "data": {
      "text/plain": [
       "<matplotlib.axes._subplots.AxesSubplot at 0x7f7f66f366d0>"
      ]
     },
     "execution_count": 20,
     "metadata": {},
     "output_type": "execute_result"
    },
    {
     "data": {
      "image/png": "[encoded data removed]",
      "text/plain": [
       "<Figure size 432x288 with 1 Axes>"
      ]
     },
     "metadata": {
      "needs_background": "light"
     },
     "output_type": "display_data"
    }
   ],
   "source": [
    "sns.scatterplot(x='ÍNDICE DE POSTURA',y='DIFERENÇA NEUTRO - RELAXADO',data=mp)"
   ]
  },
  {
   "cell_type": "code",
   "execution_count": 21,
   "metadata": {},
   "outputs": [
    {
     "data": {
      "text/plain": [
       "<matplotlib.axes._subplots.AxesSubplot at 0x7f7f67370cd0>"
      ]
     },
     "execution_count": 21,
     "metadata": {},
     "output_type": "execute_result"
    },
    {
     "data": {
      "image/png": "[encoded data removed]",
      "text/plain": [
       "<Figure size 432x288 with 1 Axes>"
      ]
     },
     "metadata": {
      "needs_background": "light"
     },
     "output_type": "display_data"
    }
   ],
   "source": [
    "sns.scatterplot(x='ÍNDICE DE POSTURA',y='Rotação (°)',data=mp)"
   ]
  },
  {
   "cell_type": "code",
   "execution_count": 39,
   "metadata": {},
   "outputs": [
    {
     "data": {
      "text/plain": [
       "<matplotlib.axes._subplots.AxesSubplot at 0x7f7f67baf650>"
      ]
     },
     "execution_count": 39,
     "metadata": {},
     "output_type": "execute_result"
    },
    {
     "data": {
      "image/png": "[encoded data removed]",
      "text/plain": [
       "<Figure size 864x432 with 2 Axes>"
      ]
     },
     "metadata": {
      "needs_background": "light"
     },
     "output_type": "display_data"
    }
   ],
   "source": [
    "# Correlations\n",
    "plt.figure(figsize=(12,6))\n",
    "sns.heatmap(mp.corr(), annot=True, cmap='ocean')"
   ]
  },
  {
   "cell_type": "markdown",
   "metadata": {},
   "source": [
    "## Train Test Split"
   ]
  },
  {
   "cell_type": "code",
   "execution_count": 23,
   "metadata": {},
   "outputs": [],
   "source": [
    "# The variables that will be relevant for the model\n",
    "X = mp[['Calcâneo Neutro', 'Perna Neutro', 'Rotação (°)', 'Calcâneo Relaxado',\n",
    "       'Perna Relaxado','Calcâneo - perna NEUTRO','Calcâneo - perna RELAXADO', 'DIFERENÇA NEUTRO - RELAXADO']]\n",
    "# The target\n",
    "y = mp['ÍNDICE DE POSTURA']"
   ]
  },
  {
   "cell_type": "code",
   "execution_count": 24,
   "metadata": {},
   "outputs": [],
   "source": [
    "# Spliting the data\n",
    "X_train, X_test, y_train, y_test = train_test_split(X, y, test_size=0.2, random_state=42)"
   ]
  },
  {
   "cell_type": "markdown",
   "metadata": {},
   "source": [
    "## Modeling using XG boost"
   ]
  },
  {
   "cell_type": "code",
   "execution_count": 25,
   "metadata": {},
   "outputs": [
    {
     "name": "stdout",
     "output_type": "stream",
     "text": [
      "XG boost ready!\n"
     ]
    }
   ],
   "source": [
    "import xgboost as xgb\n",
    "from xgboost import XGBClassifier\n",
    "from sklearn.metrics import accuracy_score\n",
    "from xgboost import plot_importance, plot_tree\n",
    "print('XG boost ready!')"
   ]
  },
  {
   "cell_type": "markdown",
   "metadata": {},
   "source": [
    "### Creating and Training the Model"
   ]
  },
  {
   "cell_type": "code",
   "execution_count": 26,
   "metadata": {},
   "outputs": [],
   "source": [
    "XG_model = xgb.XGBRegressor(n_estimators=1000)"
   ]
  },
  {
   "cell_type": "code",
   "execution_count": 27,
   "metadata": {},
   "outputs": [
    {
     "data": {
      "text/plain": [
       "XGBRegressor(base_score=0.5, booster='gbtree', colsample_bylevel=1,\n",
       "             colsample_bynode=1, colsample_bytree=1, gamma=0, gpu_id=-1,\n",
       "             importance_type='gain', interaction_constraints='',\n",
       "             learning_rate=0.300000012, max_delta_step=0, max_depth=6,\n",
       "             min_child_weight=1, missing=nan, monotone_constraints='()',\n",
       "             n_estimators=1000, n_jobs=4, num_parallel_tree=1, random_state=0,\n",
       "             reg_alpha=0, reg_lambda=1, scale_pos_weight=1, subsample=1,\n",
       "             tree_method='exact', validate_parameters=1, verbosity=None)"
      ]
     },
     "execution_count": 27,
     "metadata": {},
     "output_type": "execute_result"
    }
   ],
   "source": [
    "XG_model.fit(X_train, y_train,eval_set=[(X_test, y_test)],early_stopping_rounds=50,verbose=False)"
   ]
  },
  {
   "cell_type": "markdown",
   "metadata": {},
   "source": [
    "### Predictions from our Model"
   ]
  },
  {
   "cell_type": "code",
   "execution_count": 28,
   "metadata": {},
   "outputs": [
    {
     "data": {
      "image/png": "[encoded data removed]",
      "text/plain": [
       "<Figure size 432x288 with 1 Axes>"
      ]
     },
     "metadata": {
      "needs_background": "light"
     },
     "output_type": "display_data"
    }
   ],
   "source": [
    "importance = plot_importance(XG_model, height=0.9)"
   ]
  },
  {
   "cell_type": "code",
   "execution_count": 29,
   "metadata": {},
   "outputs": [],
   "source": [
    "XG_test_prediction = XG_model.predict(X_test)"
   ]
  },
  {
   "cell_type": "code",
   "execution_count": 31,
   "metadata": {},
   "outputs": [
    {
     "data": {
      "text/plain": [
       "Text(0, 0.5, 'predictions')"
      ]
     },
     "execution_count": 31,
     "metadata": {},
     "output_type": "execute_result"
    },
    {
     "data": {
      "image/png": "[encoded data removed]",
      "text/plain": [
       "<Figure size 576x360 with 1 Axes>"
      ]
     },
     "metadata": {
      "needs_background": "light"
     },
     "output_type": "display_data"
    }
   ],
   "source": [
    "fig, ax = plt.subplots(figsize=(8,5))\n",
    "plt.scatter(y_test,XG_test_prediction)\n",
    "plt.title('XGB Scatterplot')\n",
    "plt.xlabel('Y test')\n",
    "plt.ylabel('predictions')"
   ]
  },
  {
   "cell_type": "code",
   "execution_count": 32,
   "metadata": {},
   "outputs": [
    {
     "data": {
      "text/plain": [
       "<matplotlib.axes._subplots.AxesSubplot at 0x7f7f68300610>"
      ]
     },
     "execution_count": 32,
     "metadata": {},
     "output_type": "execute_result"
    },
    {
     "data": {
      "image/png": "[encoded data removed]",
      "text/plain": [
       "<Figure size 432x288 with 1 Axes>"
      ]
     },
     "metadata": {
      "needs_background": "light"
     },
     "output_type": "display_data"
    }
   ],
   "source": [
    "# Residual Histogram\n",
    "sns.distplot((y_test,XG_test_prediction),bins=6)"
   ]
  },
  {
   "cell_type": "markdown",
   "metadata": {},
   "source": [
    "### Regression Evaluation Metrics"
   ]
  },
  {
   "cell_type": "code",
   "execution_count": 33,
   "metadata": {},
   "outputs": [],
   "source": [
    "MAE_XG = metrics.mean_absolute_error(y_test, XG_test_prediction)\n",
    "MSE_XG = metrics.mean_squared_error(y_test, XG_test_prediction)\n",
    "RMSE_XG = np.sqrt(metrics.mean_squared_error(y_test, XG_test_prediction))"
   ]
  },
  {
   "cell_type": "code",
   "execution_count": 34,
   "metadata": {},
   "outputs": [
    {
     "name": "stdout",
     "output_type": "stream",
     "text": [
      "MAE: 0.2777311863899227\n",
      "MSE: 0.14864682267313678\n",
      "RMSE: 0.38554743245564066\n"
     ]
    }
   ],
   "source": [
    "print('MAE:', MAE_XG)\n",
    "print('MSE:', MSE_XG)\n",
    "print('RMSE:', RMSE_XG)"
   ]
  },
  {
   "cell_type": "code",
   "execution_count": 36,
   "metadata": {},
   "outputs": [],
   "source": [
    "# Our model was able to accurately predict the values of the posture index. "
   ]
  },
  {
   "cell_type": "markdown",
   "metadata": {},
   "source": [
    "### Saving the model"
   ]
  },
  {
   "cell_type": "code",
   "execution_count": 35,
   "metadata": {},
   "outputs": [],
   "source": [
    "import joblib"
   ]
  },
  {
   "cell_type": "code",
   "execution_count": 40,
   "metadata": {},
   "outputs": [],
   "source": [
    "filename = 'XG_boost.sav'"
   ]
  },
  {
   "cell_type": "code",
   "execution_count": 41,
   "metadata": {},
   "outputs": [
    {
     "data": {
      "text/plain": [
       "['XG_boost.sav']"
      ]
     },
     "execution_count": 41,
     "metadata": {},
     "output_type": "execute_result"
    }
   ],
   "source": [
    "joblib.dump(XG_model, filename)"
   ]
  }
 ],
 "metadata": {
  "kernelspec": {
   "display_name": "Python 3",
   "language": "python",
   "name": "python3"
  },
  "language_info": {
   "codemirror_mode": {
    "name": "ipython",
    "version": 3
   },
   "file_extension": ".py",
   "mimetype": "text/x-python",
   "name": "python",
   "nbconvert_exporter": "python",
   "pygments_lexer": "ipython3",
   "version": "3.7.6"
  }
 },
 "nbformat": 4,
 "nbformat_minor": 4
}
