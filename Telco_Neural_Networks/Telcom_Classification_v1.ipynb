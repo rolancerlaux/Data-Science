{
 "cells": [
  {
   "cell_type": "markdown",
   "metadata": {},
   "source": [
    "## Import Libraries"
   ]
  },
  {
   "cell_type": "code",
   "execution_count": 1,
   "metadata": {},
   "outputs": [],
   "source": [
    "import numpy as np\n",
    "import pandas as pd"
   ]
  },
  {
   "cell_type": "markdown",
   "metadata": {},
   "source": [
    "## Load the Data"
   ]
  },
  {
   "cell_type": "code",
   "execution_count": 2,
   "metadata": {
    "scrolled": true
   },
   "outputs": [
    {
     "data": {
      "text/html": [
       "<div>\n",
       "<style scoped>\n",
       "    .dataframe tbody tr th:only-of-type {\n",
       "        vertical-align: middle;\n",
       "    }\n",
       "\n",
       "    .dataframe tbody tr th {\n",
       "        vertical-align: top;\n",
       "    }\n",
       "\n",
       "    .dataframe thead th {\n",
       "        text-align: right;\n",
       "    }\n",
       "</style>\n",
       "<table border=\"1\" class=\"dataframe\">\n",
       "  <thead>\n",
       "    <tr style=\"text-align: right;\">\n",
       "      <th></th>\n",
       "      <th>gender</th>\n",
       "      <th>SeniorCitizen</th>\n",
       "      <th>Partner</th>\n",
       "      <th>Dependents</th>\n",
       "      <th>tenure</th>\n",
       "      <th>PhoneService</th>\n",
       "      <th>MultipleLines</th>\n",
       "      <th>InternetService</th>\n",
       "      <th>OnlineSecurity</th>\n",
       "      <th>OnlineBackup</th>\n",
       "      <th>DeviceProtection</th>\n",
       "      <th>TechSupport</th>\n",
       "      <th>StreamingTV</th>\n",
       "      <th>StreamingMovies</th>\n",
       "      <th>Contract</th>\n",
       "      <th>PaperlessBilling</th>\n",
       "      <th>PaymentMethod</th>\n",
       "      <th>MonthlyCharges</th>\n",
       "      <th>TotalCharges</th>\n",
       "      <th>Churn</th>\n",
       "    </tr>\n",
       "    <tr>\n",
       "      <th>customerID</th>\n",
       "      <th></th>\n",
       "      <th></th>\n",
       "      <th></th>\n",
       "      <th></th>\n",
       "      <th></th>\n",
       "      <th></th>\n",
       "      <th></th>\n",
       "      <th></th>\n",
       "      <th></th>\n",
       "      <th></th>\n",
       "      <th></th>\n",
       "      <th></th>\n",
       "      <th></th>\n",
       "      <th></th>\n",
       "      <th></th>\n",
       "      <th></th>\n",
       "      <th></th>\n",
       "      <th></th>\n",
       "      <th></th>\n",
       "      <th></th>\n",
       "    </tr>\n",
       "  </thead>\n",
       "  <tbody>\n",
       "    <tr>\n",
       "      <th>7590-VHVEG</th>\n",
       "      <td>Female</td>\n",
       "      <td>0</td>\n",
       "      <td>Yes</td>\n",
       "      <td>No</td>\n",
       "      <td>1</td>\n",
       "      <td>No</td>\n",
       "      <td>No phone service</td>\n",
       "      <td>DSL</td>\n",
       "      <td>No</td>\n",
       "      <td>Yes</td>\n",
       "      <td>No</td>\n",
       "      <td>No</td>\n",
       "      <td>No</td>\n",
       "      <td>No</td>\n",
       "      <td>Month-to-month</td>\n",
       "      <td>Yes</td>\n",
       "      <td>Electronic check</td>\n",
       "      <td>29.85</td>\n",
       "      <td>29.85</td>\n",
       "      <td>No</td>\n",
       "    </tr>\n",
       "    <tr>\n",
       "      <th>5575-GNVDE</th>\n",
       "      <td>Male</td>\n",
       "      <td>0</td>\n",
       "      <td>No</td>\n",
       "      <td>No</td>\n",
       "      <td>34</td>\n",
       "      <td>Yes</td>\n",
       "      <td>No</td>\n",
       "      <td>DSL</td>\n",
       "      <td>Yes</td>\n",
       "      <td>No</td>\n",
       "      <td>Yes</td>\n",
       "      <td>No</td>\n",
       "      <td>No</td>\n",
       "      <td>No</td>\n",
       "      <td>One year</td>\n",
       "      <td>No</td>\n",
       "      <td>Mailed check</td>\n",
       "      <td>56.95</td>\n",
       "      <td>1889.5</td>\n",
       "      <td>No</td>\n",
       "    </tr>\n",
       "    <tr>\n",
       "      <th>3668-QPYBK</th>\n",
       "      <td>Male</td>\n",
       "      <td>0</td>\n",
       "      <td>No</td>\n",
       "      <td>No</td>\n",
       "      <td>2</td>\n",
       "      <td>Yes</td>\n",
       "      <td>No</td>\n",
       "      <td>DSL</td>\n",
       "      <td>Yes</td>\n",
       "      <td>Yes</td>\n",
       "      <td>No</td>\n",
       "      <td>No</td>\n",
       "      <td>No</td>\n",
       "      <td>No</td>\n",
       "      <td>Month-to-month</td>\n",
       "      <td>Yes</td>\n",
       "      <td>Mailed check</td>\n",
       "      <td>53.85</td>\n",
       "      <td>108.15</td>\n",
       "      <td>Yes</td>\n",
       "    </tr>\n",
       "    <tr>\n",
       "      <th>7795-CFOCW</th>\n",
       "      <td>Male</td>\n",
       "      <td>0</td>\n",
       "      <td>No</td>\n",
       "      <td>No</td>\n",
       "      <td>45</td>\n",
       "      <td>No</td>\n",
       "      <td>No phone service</td>\n",
       "      <td>DSL</td>\n",
       "      <td>Yes</td>\n",
       "      <td>No</td>\n",
       "      <td>Yes</td>\n",
       "      <td>Yes</td>\n",
       "      <td>No</td>\n",
       "      <td>No</td>\n",
       "      <td>One year</td>\n",
       "      <td>No</td>\n",
       "      <td>Bank transfer (automatic)</td>\n",
       "      <td>42.30</td>\n",
       "      <td>1840.75</td>\n",
       "      <td>No</td>\n",
       "    </tr>\n",
       "    <tr>\n",
       "      <th>9237-HQITU</th>\n",
       "      <td>Female</td>\n",
       "      <td>0</td>\n",
       "      <td>No</td>\n",
       "      <td>No</td>\n",
       "      <td>2</td>\n",
       "      <td>Yes</td>\n",
       "      <td>No</td>\n",
       "      <td>Fiber optic</td>\n",
       "      <td>No</td>\n",
       "      <td>No</td>\n",
       "      <td>No</td>\n",
       "      <td>No</td>\n",
       "      <td>No</td>\n",
       "      <td>No</td>\n",
       "      <td>Month-to-month</td>\n",
       "      <td>Yes</td>\n",
       "      <td>Electronic check</td>\n",
       "      <td>70.70</td>\n",
       "      <td>151.65</td>\n",
       "      <td>Yes</td>\n",
       "    </tr>\n",
       "  </tbody>\n",
       "</table>\n",
       "</div>"
      ],
      "text/plain": [
       "            gender  SeniorCitizen Partner Dependents  tenure PhoneService  \\\n",
       "customerID                                                                  \n",
       "7590-VHVEG  Female              0     Yes         No       1           No   \n",
       "5575-GNVDE    Male              0      No         No      34          Yes   \n",
       "3668-QPYBK    Male              0      No         No       2          Yes   \n",
       "7795-CFOCW    Male              0      No         No      45           No   \n",
       "9237-HQITU  Female              0      No         No       2          Yes   \n",
       "\n",
       "               MultipleLines InternetService OnlineSecurity OnlineBackup  \\\n",
       "customerID                                                                 \n",
       "7590-VHVEG  No phone service             DSL             No          Yes   \n",
       "5575-GNVDE                No             DSL            Yes           No   \n",
       "3668-QPYBK                No             DSL            Yes          Yes   \n",
       "7795-CFOCW  No phone service             DSL            Yes           No   \n",
       "9237-HQITU                No     Fiber optic             No           No   \n",
       "\n",
       "           DeviceProtection TechSupport StreamingTV StreamingMovies  \\\n",
       "customerID                                                            \n",
       "7590-VHVEG               No          No          No              No   \n",
       "5575-GNVDE              Yes          No          No              No   \n",
       "3668-QPYBK               No          No          No              No   \n",
       "7795-CFOCW              Yes         Yes          No              No   \n",
       "9237-HQITU               No          No          No              No   \n",
       "\n",
       "                  Contract PaperlessBilling              PaymentMethod  \\\n",
       "customerID                                                               \n",
       "7590-VHVEG  Month-to-month              Yes           Electronic check   \n",
       "5575-GNVDE        One year               No               Mailed check   \n",
       "3668-QPYBK  Month-to-month              Yes               Mailed check   \n",
       "7795-CFOCW        One year               No  Bank transfer (automatic)   \n",
       "9237-HQITU  Month-to-month              Yes           Electronic check   \n",
       "\n",
       "            MonthlyCharges TotalCharges Churn  \n",
       "customerID                                     \n",
       "7590-VHVEG           29.85        29.85    No  \n",
       "5575-GNVDE           56.95       1889.5    No  \n",
       "3668-QPYBK           53.85       108.15   Yes  \n",
       "7795-CFOCW           42.30      1840.75    No  \n",
       "9237-HQITU           70.70       151.65   Yes  "
      ]
     },
     "execution_count": 2,
     "metadata": {},
     "output_type": "execute_result"
    }
   ],
   "source": [
    "data = pd.read_csv('WA_Fn-UseC_-Telco-Customer-Churn.csv',index_col='customerID')\n",
    "data.head()"
   ]
  },
  {
   "cell_type": "code",
   "execution_count": 3,
   "metadata": {},
   "outputs": [
    {
     "data": {
      "text/plain": [
       "(7043, 20)"
      ]
     },
     "execution_count": 3,
     "metadata": {},
     "output_type": "execute_result"
    }
   ],
   "source": [
    "data.shape"
   ]
  },
  {
   "cell_type": "code",
   "execution_count": 4,
   "metadata": {},
   "outputs": [
    {
     "name": "stdout",
     "output_type": "stream",
     "text": [
      "<class 'pandas.core.frame.DataFrame'>\n",
      "Index: 7043 entries, 7590-VHVEG to 3186-AJIEK\n",
      "Data columns (total 20 columns):\n",
      " #   Column            Non-Null Count  Dtype  \n",
      "---  ------            --------------  -----  \n",
      " 0   gender            7043 non-null   object \n",
      " 1   SeniorCitizen     7043 non-null   int64  \n",
      " 2   Partner           7043 non-null   object \n",
      " 3   Dependents        7043 non-null   object \n",
      " 4   tenure            7043 non-null   int64  \n",
      " 5   PhoneService      7043 non-null   object \n",
      " 6   MultipleLines     7043 non-null   object \n",
      " 7   InternetService   7043 non-null   object \n",
      " 8   OnlineSecurity    7043 non-null   object \n",
      " 9   OnlineBackup      7043 non-null   object \n",
      " 10  DeviceProtection  7043 non-null   object \n",
      " 11  TechSupport       7043 non-null   object \n",
      " 12  StreamingTV       7043 non-null   object \n",
      " 13  StreamingMovies   7043 non-null   object \n",
      " 14  Contract          7043 non-null   object \n",
      " 15  PaperlessBilling  7043 non-null   object \n",
      " 16  PaymentMethod     7043 non-null   object \n",
      " 17  MonthlyCharges    7043 non-null   float64\n",
      " 18  TotalCharges      7043 non-null   object \n",
      " 19  Churn             7043 non-null   object \n",
      "dtypes: float64(1), int64(2), object(17)\n",
      "memory usage: 1.1+ MB\n"
     ]
    }
   ],
   "source": [
    "data.info()"
   ]
  },
  {
   "cell_type": "code",
   "execution_count": 5,
   "metadata": {},
   "outputs": [
    {
     "data": {
      "text/plain": [
       "gender              0\n",
       "SeniorCitizen       0\n",
       "Partner             0\n",
       "Dependents          0\n",
       "tenure              0\n",
       "PhoneService        0\n",
       "MultipleLines       0\n",
       "InternetService     0\n",
       "OnlineSecurity      0\n",
       "OnlineBackup        0\n",
       "DeviceProtection    0\n",
       "TechSupport         0\n",
       "StreamingTV         0\n",
       "StreamingMovies     0\n",
       "Contract            0\n",
       "PaperlessBilling    0\n",
       "PaymentMethod       0\n",
       "MonthlyCharges      0\n",
       "TotalCharges        0\n",
       "Churn               0\n",
       "dtype: int64"
      ]
     },
     "execution_count": 5,
     "metadata": {},
     "output_type": "execute_result"
    }
   ],
   "source": [
    "# Check null values\n",
    "data.isnull().sum()"
   ]
  },
  {
   "cell_type": "code",
   "execution_count": 6,
   "metadata": {},
   "outputs": [
    {
     "name": "stdout",
     "output_type": "stream",
     "text": [
      "Categorical variables:\n",
      "['gender', 'Partner', 'Dependents', 'PhoneService', 'MultipleLines', 'InternetService', 'OnlineSecurity', 'OnlineBackup', 'DeviceProtection', 'TechSupport', 'StreamingTV', 'StreamingMovies', 'Contract', 'PaperlessBilling', 'PaymentMethod', 'TotalCharges', 'Churn']\n"
     ]
    }
   ],
   "source": [
    "# Categorical features\n",
    "columns = (data.dtypes == 'object')\n",
    "object_cols = list(columns[columns].index)\n",
    "print('Categorical variables:')\n",
    "print(object_cols)"
   ]
  },
  {
   "cell_type": "code",
   "execution_count": 7,
   "metadata": {},
   "outputs": [],
   "source": [
    "# The feature \"TotalCharges\" is in the wrong format, let's solve this\n",
    "data['TotalCharges']=pd.to_numeric(data['TotalCharges'],errors='coerce')"
   ]
  },
  {
   "cell_type": "code",
   "execution_count": 8,
   "metadata": {},
   "outputs": [
    {
     "data": {
      "text/html": [
       "<div>\n",
       "<style scoped>\n",
       "    .dataframe tbody tr th:only-of-type {\n",
       "        vertical-align: middle;\n",
       "    }\n",
       "\n",
       "    .dataframe tbody tr th {\n",
       "        vertical-align: top;\n",
       "    }\n",
       "\n",
       "    .dataframe thead th {\n",
       "        text-align: right;\n",
       "    }\n",
       "</style>\n",
       "<table border=\"1\" class=\"dataframe\">\n",
       "  <thead>\n",
       "    <tr style=\"text-align: right;\">\n",
       "      <th></th>\n",
       "      <th>count</th>\n",
       "      <th>mean</th>\n",
       "      <th>std</th>\n",
       "      <th>min</th>\n",
       "      <th>25%</th>\n",
       "      <th>50%</th>\n",
       "      <th>75%</th>\n",
       "      <th>max</th>\n",
       "    </tr>\n",
       "  </thead>\n",
       "  <tbody>\n",
       "    <tr>\n",
       "      <th>SeniorCitizen</th>\n",
       "      <td>7043.0</td>\n",
       "      <td>0.162147</td>\n",
       "      <td>0.368612</td>\n",
       "      <td>0.00</td>\n",
       "      <td>0.00</td>\n",
       "      <td>0.000</td>\n",
       "      <td>0.0000</td>\n",
       "      <td>1.00</td>\n",
       "    </tr>\n",
       "    <tr>\n",
       "      <th>tenure</th>\n",
       "      <td>7043.0</td>\n",
       "      <td>32.371149</td>\n",
       "      <td>24.559481</td>\n",
       "      <td>0.00</td>\n",
       "      <td>9.00</td>\n",
       "      <td>29.000</td>\n",
       "      <td>55.0000</td>\n",
       "      <td>72.00</td>\n",
       "    </tr>\n",
       "    <tr>\n",
       "      <th>MonthlyCharges</th>\n",
       "      <td>7043.0</td>\n",
       "      <td>64.761692</td>\n",
       "      <td>30.090047</td>\n",
       "      <td>18.25</td>\n",
       "      <td>35.50</td>\n",
       "      <td>70.350</td>\n",
       "      <td>89.8500</td>\n",
       "      <td>118.75</td>\n",
       "    </tr>\n",
       "    <tr>\n",
       "      <th>TotalCharges</th>\n",
       "      <td>7032.0</td>\n",
       "      <td>2283.300441</td>\n",
       "      <td>2266.771362</td>\n",
       "      <td>18.80</td>\n",
       "      <td>401.45</td>\n",
       "      <td>1397.475</td>\n",
       "      <td>3794.7375</td>\n",
       "      <td>8684.80</td>\n",
       "    </tr>\n",
       "  </tbody>\n",
       "</table>\n",
       "</div>"
      ],
      "text/plain": [
       "                 count         mean          std    min     25%       50%  \\\n",
       "SeniorCitizen   7043.0     0.162147     0.368612   0.00    0.00     0.000   \n",
       "tenure          7043.0    32.371149    24.559481   0.00    9.00    29.000   \n",
       "MonthlyCharges  7043.0    64.761692    30.090047  18.25   35.50    70.350   \n",
       "TotalCharges    7032.0  2283.300441  2266.771362  18.80  401.45  1397.475   \n",
       "\n",
       "                      75%      max  \n",
       "SeniorCitizen      0.0000     1.00  \n",
       "tenure            55.0000    72.00  \n",
       "MonthlyCharges    89.8500   118.75  \n",
       "TotalCharges    3794.7375  8684.80  "
      ]
     },
     "execution_count": 8,
     "metadata": {},
     "output_type": "execute_result"
    }
   ],
   "source": [
    "# Statistical resume\n",
    "data.describe().T"
   ]
  },
  {
   "cell_type": "code",
   "execution_count": 9,
   "metadata": {},
   "outputs": [],
   "source": [
    "# More imports\n",
    "import matplotlib.pyplot as plt\n",
    "import seaborn as sns\n",
    "%matplotlib inline"
   ]
  },
  {
   "cell_type": "markdown",
   "metadata": {},
   "source": [
    "## Exploratory Data Analysis"
   ]
  },
  {
   "cell_type": "code",
   "execution_count": 10,
   "metadata": {},
   "outputs": [
    {
     "data": {
      "text/plain": [
       "<matplotlib.legend.Legend at 0x7fb087022790>"
      ]
     },
     "execution_count": 10,
     "metadata": {},
     "output_type": "execute_result"
    },
    {
     "data": {
      "image/png": "[encoded data removed]",
      "text/plain": [
       "<Figure size 432x288 with 1 Axes>"
      ]
     },
     "metadata": {
      "needs_background": "light"
     },
     "output_type": "display_data"
    }
   ],
   "source": [
    "# Let's explore the data\n",
    "sns.countplot(x='Churn',data=data,hue='Contract',palette='Blues')\n",
    "plt.legend(bbox_to_anchor=(1.01,1),loc=2,borderaxespad=0)"
   ]
  },
  {
   "cell_type": "code",
   "execution_count": 11,
   "metadata": {},
   "outputs": [
    {
     "data": {
      "text/plain": [
       "<matplotlib.legend.Legend at 0x7fb0890676d0>"
      ]
     },
     "execution_count": 11,
     "metadata": {},
     "output_type": "execute_result"
    },
    {
     "data": {
      "image/png": "[encoded data removed]",
      "text/plain": [
       "<Figure size 432x288 with 1 Axes>"
      ]
     },
     "metadata": {
      "needs_background": "light"
     },
     "output_type": "display_data"
    }
   ],
   "source": [
    "sns.countplot(x='Churn',data=data,hue='Dependents',palette='Blues')\n",
    "plt.legend(bbox_to_anchor=(1.01,1),loc=2,borderaxespad=0)"
   ]
  },
  {
   "cell_type": "code",
   "execution_count": 12,
   "metadata": {},
   "outputs": [
    {
     "data": {
      "text/plain": [
       "<matplotlib.axes._subplots.AxesSubplot at 0x7fb089252190>"
      ]
     },
     "execution_count": 12,
     "metadata": {},
     "output_type": "execute_result"
    },
    {
     "data": {
      "image/png": "[encoded data removed]",
      "text/plain": [
       "<Figure size 432x288 with 2 Axes>"
      ]
     },
     "metadata": {
      "needs_background": "light"
     },
     "output_type": "display_data"
    }
   ],
   "source": [
    "sns.heatmap(data.corr(),annot=True,cmap='Blues')"
   ]
  },
  {
   "cell_type": "markdown",
   "metadata": {},
   "source": [
    "## Modeling the data"
   ]
  },
  {
   "cell_type": "code",
   "execution_count": 13,
   "metadata": {},
   "outputs": [],
   "source": [
    "from sklearn.model_selection import train_test_split\n",
    "from sklearn.preprocessing import LabelEncoder"
   ]
  },
  {
   "cell_type": "code",
   "execution_count": 14,
   "metadata": {},
   "outputs": [],
   "source": [
    "label_encoder = LabelEncoder()"
   ]
  },
  {
   "cell_type": "code",
   "execution_count": 15,
   "metadata": {},
   "outputs": [
    {
     "data": {
      "text/html": [
       "<div>\n",
       "<style scoped>\n",
       "    .dataframe tbody tr th:only-of-type {\n",
       "        vertical-align: middle;\n",
       "    }\n",
       "\n",
       "    .dataframe tbody tr th {\n",
       "        vertical-align: top;\n",
       "    }\n",
       "\n",
       "    .dataframe thead th {\n",
       "        text-align: right;\n",
       "    }\n",
       "</style>\n",
       "<table border=\"1\" class=\"dataframe\">\n",
       "  <thead>\n",
       "    <tr style=\"text-align: right;\">\n",
       "      <th></th>\n",
       "      <th>gender</th>\n",
       "      <th>SeniorCitizen</th>\n",
       "      <th>Partner</th>\n",
       "      <th>Dependents</th>\n",
       "      <th>tenure</th>\n",
       "      <th>PhoneService</th>\n",
       "      <th>MultipleLines</th>\n",
       "      <th>InternetService</th>\n",
       "      <th>OnlineSecurity</th>\n",
       "      <th>OnlineBackup</th>\n",
       "      <th>DeviceProtection</th>\n",
       "      <th>TechSupport</th>\n",
       "      <th>StreamingTV</th>\n",
       "      <th>StreamingMovies</th>\n",
       "      <th>Contract</th>\n",
       "      <th>PaperlessBilling</th>\n",
       "      <th>PaymentMethod</th>\n",
       "      <th>MonthlyCharges</th>\n",
       "      <th>TotalCharges</th>\n",
       "      <th>Churn</th>\n",
       "    </tr>\n",
       "    <tr>\n",
       "      <th>customerID</th>\n",
       "      <th></th>\n",
       "      <th></th>\n",
       "      <th></th>\n",
       "      <th></th>\n",
       "      <th></th>\n",
       "      <th></th>\n",
       "      <th></th>\n",
       "      <th></th>\n",
       "      <th></th>\n",
       "      <th></th>\n",
       "      <th></th>\n",
       "      <th></th>\n",
       "      <th></th>\n",
       "      <th></th>\n",
       "      <th></th>\n",
       "      <th></th>\n",
       "      <th></th>\n",
       "      <th></th>\n",
       "      <th></th>\n",
       "      <th></th>\n",
       "    </tr>\n",
       "  </thead>\n",
       "  <tbody>\n",
       "    <tr>\n",
       "      <th>7590-VHVEG</th>\n",
       "      <td>0</td>\n",
       "      <td>0</td>\n",
       "      <td>1</td>\n",
       "      <td>0</td>\n",
       "      <td>1</td>\n",
       "      <td>0</td>\n",
       "      <td>1</td>\n",
       "      <td>0</td>\n",
       "      <td>0</td>\n",
       "      <td>2</td>\n",
       "      <td>0</td>\n",
       "      <td>0</td>\n",
       "      <td>0</td>\n",
       "      <td>0</td>\n",
       "      <td>0</td>\n",
       "      <td>1</td>\n",
       "      <td>2</td>\n",
       "      <td>29.85</td>\n",
       "      <td>74</td>\n",
       "      <td>0</td>\n",
       "    </tr>\n",
       "    <tr>\n",
       "      <th>5575-GNVDE</th>\n",
       "      <td>1</td>\n",
       "      <td>0</td>\n",
       "      <td>0</td>\n",
       "      <td>0</td>\n",
       "      <td>34</td>\n",
       "      <td>1</td>\n",
       "      <td>0</td>\n",
       "      <td>0</td>\n",
       "      <td>2</td>\n",
       "      <td>0</td>\n",
       "      <td>2</td>\n",
       "      <td>0</td>\n",
       "      <td>0</td>\n",
       "      <td>0</td>\n",
       "      <td>1</td>\n",
       "      <td>0</td>\n",
       "      <td>3</td>\n",
       "      <td>56.95</td>\n",
       "      <td>3624</td>\n",
       "      <td>0</td>\n",
       "    </tr>\n",
       "    <tr>\n",
       "      <th>3668-QPYBK</th>\n",
       "      <td>1</td>\n",
       "      <td>0</td>\n",
       "      <td>0</td>\n",
       "      <td>0</td>\n",
       "      <td>2</td>\n",
       "      <td>1</td>\n",
       "      <td>0</td>\n",
       "      <td>0</td>\n",
       "      <td>2</td>\n",
       "      <td>2</td>\n",
       "      <td>0</td>\n",
       "      <td>0</td>\n",
       "      <td>0</td>\n",
       "      <td>0</td>\n",
       "      <td>0</td>\n",
       "      <td>1</td>\n",
       "      <td>3</td>\n",
       "      <td>53.85</td>\n",
       "      <td>536</td>\n",
       "      <td>1</td>\n",
       "    </tr>\n",
       "    <tr>\n",
       "      <th>7795-CFOCW</th>\n",
       "      <td>1</td>\n",
       "      <td>0</td>\n",
       "      <td>0</td>\n",
       "      <td>0</td>\n",
       "      <td>45</td>\n",
       "      <td>0</td>\n",
       "      <td>1</td>\n",
       "      <td>0</td>\n",
       "      <td>2</td>\n",
       "      <td>0</td>\n",
       "      <td>2</td>\n",
       "      <td>2</td>\n",
       "      <td>0</td>\n",
       "      <td>0</td>\n",
       "      <td>1</td>\n",
       "      <td>0</td>\n",
       "      <td>0</td>\n",
       "      <td>42.30</td>\n",
       "      <td>3570</td>\n",
       "      <td>0</td>\n",
       "    </tr>\n",
       "    <tr>\n",
       "      <th>9237-HQITU</th>\n",
       "      <td>0</td>\n",
       "      <td>0</td>\n",
       "      <td>0</td>\n",
       "      <td>0</td>\n",
       "      <td>2</td>\n",
       "      <td>1</td>\n",
       "      <td>0</td>\n",
       "      <td>1</td>\n",
       "      <td>0</td>\n",
       "      <td>0</td>\n",
       "      <td>0</td>\n",
       "      <td>0</td>\n",
       "      <td>0</td>\n",
       "      <td>0</td>\n",
       "      <td>0</td>\n",
       "      <td>1</td>\n",
       "      <td>2</td>\n",
       "      <td>70.70</td>\n",
       "      <td>674</td>\n",
       "      <td>1</td>\n",
       "    </tr>\n",
       "  </tbody>\n",
       "</table>\n",
       "</div>"
      ],
      "text/plain": [
       "            gender  SeniorCitizen  Partner  Dependents  tenure  PhoneService  \\\n",
       "customerID                                                                     \n",
       "7590-VHVEG       0              0        1           0       1             0   \n",
       "5575-GNVDE       1              0        0           0      34             1   \n",
       "3668-QPYBK       1              0        0           0       2             1   \n",
       "7795-CFOCW       1              0        0           0      45             0   \n",
       "9237-HQITU       0              0        0           0       2             1   \n",
       "\n",
       "            MultipleLines  InternetService  OnlineSecurity  OnlineBackup  \\\n",
       "customerID                                                                 \n",
       "7590-VHVEG              1                0               0             2   \n",
       "5575-GNVDE              0                0               2             0   \n",
       "3668-QPYBK              0                0               2             2   \n",
       "7795-CFOCW              1                0               2             0   \n",
       "9237-HQITU              0                1               0             0   \n",
       "\n",
       "            DeviceProtection  TechSupport  StreamingTV  StreamingMovies  \\\n",
       "customerID                                                                \n",
       "7590-VHVEG                 0            0            0                0   \n",
       "5575-GNVDE                 2            0            0                0   \n",
       "3668-QPYBK                 0            0            0                0   \n",
       "7795-CFOCW                 2            2            0                0   \n",
       "9237-HQITU                 0            0            0                0   \n",
       "\n",
       "            Contract  PaperlessBilling  PaymentMethod  MonthlyCharges  \\\n",
       "customerID                                                              \n",
       "7590-VHVEG         0                 1              2           29.85   \n",
       "5575-GNVDE         1                 0              3           56.95   \n",
       "3668-QPYBK         0                 1              3           53.85   \n",
       "7795-CFOCW         1                 0              0           42.30   \n",
       "9237-HQITU         0                 1              2           70.70   \n",
       "\n",
       "            TotalCharges  Churn  \n",
       "customerID                       \n",
       "7590-VHVEG            74      0  \n",
       "5575-GNVDE          3624      0  \n",
       "3668-QPYBK           536      1  \n",
       "7795-CFOCW          3570      0  \n",
       "9237-HQITU           674      1  "
      ]
     },
     "execution_count": 15,
     "metadata": {},
     "output_type": "execute_result"
    }
   ],
   "source": [
    "for col in object_cols:\n",
    "    data[col] = label_encoder.fit_transform(data[col])\n",
    "data.head()"
   ]
  },
  {
   "cell_type": "markdown",
   "metadata": {},
   "source": [
    "## Spliting and Creating a NN model"
   ]
  },
  {
   "cell_type": "code",
   "execution_count": 16,
   "metadata": {},
   "outputs": [],
   "source": [
    "from tensorflow.keras.models import Sequential\n",
    "from tensorflow.keras.layers import Dense, Activation,Dropout"
   ]
  },
  {
   "cell_type": "code",
   "execution_count": 17,
   "metadata": {},
   "outputs": [],
   "source": [
    "X = data.drop('Churn',axis=1).values\n",
    "y = data['Churn'].values"
   ]
  },
  {
   "cell_type": "code",
   "execution_count": 18,
   "metadata": {},
   "outputs": [],
   "source": [
    "X_train, X_test, y_train, y_test = train_test_split(X, y, test_size=0.3, random_state=42)"
   ]
  },
  {
   "cell_type": "code",
   "execution_count": 19,
   "metadata": {},
   "outputs": [
    {
     "data": {
      "text/plain": [
       "MinMaxScaler()"
      ]
     },
     "execution_count": 19,
     "metadata": {},
     "output_type": "execute_result"
    }
   ],
   "source": [
    "from sklearn.preprocessing import MinMaxScaler\n",
    "scaler = MinMaxScaler()\n",
    "scaler.fit(X_train)"
   ]
  },
  {
   "cell_type": "code",
   "execution_count": 20,
   "metadata": {},
   "outputs": [],
   "source": [
    "X_train = scaler.transform(X_train)\n",
    "X_test = scaler.transform(X_test)"
   ]
  },
  {
   "cell_type": "code",
   "execution_count": 21,
   "metadata": {},
   "outputs": [],
   "source": [
    "from tensorflow.keras.callbacks import EarlyStopping"
   ]
  },
  {
   "cell_type": "code",
   "execution_count": 22,
   "metadata": {},
   "outputs": [],
   "source": [
    "early_stop = EarlyStopping(monitor='val_loss', mode='min', verbose=1, patience=25)"
   ]
  },
  {
   "cell_type": "code",
   "execution_count": 30,
   "metadata": {},
   "outputs": [],
   "source": [
    "model = Sequential()\n",
    "\n",
    "model.add(Dense(units=19,activation='relu'))\n",
    "model.add(Dropout(0.3))\n",
    "\n",
    "model.add(Dense(units=10,activation='relu'))\n",
    "model.add(Dropout(0.3))\n",
    "\n",
    "model.add(Dense(units=1,activation='sigmoid'))\n",
    "model.compile(loss='binary_crossentropy', optimizer='sgd', metrics=['accuracy'])"
   ]
  },
  {
   "cell_type": "code",
   "execution_count": 31,
   "metadata": {},
   "outputs": [
    {
     "name": "stdout",
     "output_type": "stream",
     "text": [
      "Train on 4930 samples, validate on 2113 samples\n",
      "Epoch 1/300\n",
      "4930/4930 [==============================] - 1s 187us/sample - loss: 0.5828 - accuracy: 0.7373 - val_loss: 0.5459 - val_accuracy: 0.7283\n",
      "Epoch 2/300\n",
      "4930/4930 [==============================] - 0s 75us/sample - loss: 0.5477 - accuracy: 0.7373 - val_loss: 0.5192 - val_accuracy: 0.7283\n",
      "Epoch 3/300\n",
      "4930/4930 [==============================] - 0s 75us/sample - loss: 0.5417 - accuracy: 0.7373 - val_loss: 0.5051 - val_accuracy: 0.7283\n",
      "Epoch 4/300\n",
      "4930/4930 [==============================] - 0s 78us/sample - loss: 0.5244 - accuracy: 0.7373 - val_loss: 0.4939 - val_accuracy: 0.7283\n",
      "Epoch 5/300\n",
      "4930/4930 [==============================] - 0s 77us/sample - loss: 0.5216 - accuracy: 0.7373 - val_loss: 0.4886 - val_accuracy: 0.7283\n",
      "Epoch 6/300\n",
      "4930/4930 [==============================] - 0s 76us/sample - loss: 0.5131 - accuracy: 0.7373 - val_loss: 0.4832 - val_accuracy: 0.7283\n",
      "Epoch 7/300\n",
      "4930/4930 [==============================] - 0s 77us/sample - loss: 0.5024 - accuracy: 0.7377 - val_loss: 0.4731 - val_accuracy: 0.7283\n",
      "Epoch 8/300\n",
      "4930/4930 [==============================] - 0s 79us/sample - loss: 0.5001 - accuracy: 0.7371 - val_loss: 0.4710 - val_accuracy: 0.7283\n",
      "Epoch 9/300\n",
      "4930/4930 [==============================] - 0s 78us/sample - loss: 0.4952 - accuracy: 0.7373 - val_loss: 0.4662 - val_accuracy: 0.7283\n",
      "Epoch 10/300\n",
      "4930/4930 [==============================] - 0s 77us/sample - loss: 0.4899 - accuracy: 0.7379 - val_loss: 0.4615 - val_accuracy: 0.7283\n",
      "Epoch 11/300\n",
      "4930/4930 [==============================] - 0s 78us/sample - loss: 0.4918 - accuracy: 0.7371 - val_loss: 0.4577 - val_accuracy: 0.7283\n",
      "Epoch 12/300\n",
      "4930/4930 [==============================] - 0s 77us/sample - loss: 0.4896 - accuracy: 0.7361 - val_loss: 0.4564 - val_accuracy: 0.7283\n",
      "Epoch 13/300\n",
      "4930/4930 [==============================] - 0s 79us/sample - loss: 0.4846 - accuracy: 0.7391 - val_loss: 0.4570 - val_accuracy: 0.7283\n",
      "Epoch 14/300\n",
      "4930/4930 [==============================] - 0s 78us/sample - loss: 0.4863 - accuracy: 0.7394 - val_loss: 0.4530 - val_accuracy: 0.7283\n",
      "Epoch 15/300\n",
      "4930/4930 [==============================] - 0s 77us/sample - loss: 0.4798 - accuracy: 0.7422 - val_loss: 0.4512 - val_accuracy: 0.7293\n",
      "Epoch 16/300\n",
      "4930/4930 [==============================] - 0s 79us/sample - loss: 0.4791 - accuracy: 0.7394 - val_loss: 0.4486 - val_accuracy: 0.7302\n",
      "Epoch 17/300\n",
      "4930/4930 [==============================] - 0s 80us/sample - loss: 0.4757 - accuracy: 0.7396 - val_loss: 0.4496 - val_accuracy: 0.7312\n",
      "Epoch 18/300\n",
      "4930/4930 [==============================] - 0s 80us/sample - loss: 0.4806 - accuracy: 0.7410 - val_loss: 0.4478 - val_accuracy: 0.7317\n",
      "Epoch 19/300\n",
      "4930/4930 [==============================] - 0s 78us/sample - loss: 0.4692 - accuracy: 0.7406 - val_loss: 0.4464 - val_accuracy: 0.7312\n",
      "Epoch 20/300\n",
      "4930/4930 [==============================] - 0s 78us/sample - loss: 0.4723 - accuracy: 0.7442 - val_loss: 0.4456 - val_accuracy: 0.7350\n",
      "Epoch 21/300\n",
      "4930/4930 [==============================] - 0s 80us/sample - loss: 0.4702 - accuracy: 0.7394 - val_loss: 0.4451 - val_accuracy: 0.7383\n",
      "Epoch 22/300\n",
      "4930/4930 [==============================] - 0s 78us/sample - loss: 0.4770 - accuracy: 0.7446 - val_loss: 0.4445 - val_accuracy: 0.7383\n",
      "Epoch 23/300\n",
      "4930/4930 [==============================] - 0s 80us/sample - loss: 0.4788 - accuracy: 0.7462 - val_loss: 0.4445 - val_accuracy: 0.7435\n",
      "Epoch 24/300\n",
      "4930/4930 [==============================] - 0s 78us/sample - loss: 0.4733 - accuracy: 0.7509 - val_loss: 0.4436 - val_accuracy: 0.7534\n",
      "Epoch 25/300\n",
      "4930/4930 [==============================] - 0s 81us/sample - loss: 0.4715 - accuracy: 0.7491 - val_loss: 0.4442 - val_accuracy: 0.7823\n",
      "Epoch 26/300\n",
      "4930/4930 [==============================] - 0s 80us/sample - loss: 0.4644 - accuracy: 0.7690 - val_loss: 0.4400 - val_accuracy: 0.7809\n",
      "Epoch 27/300\n",
      "4930/4930 [==============================] - 0s 79us/sample - loss: 0.4667 - accuracy: 0.7631 - val_loss: 0.4389 - val_accuracy: 0.7828\n",
      "Epoch 28/300\n",
      "4930/4930 [==============================] - 0s 79us/sample - loss: 0.4711 - accuracy: 0.7655 - val_loss: 0.4394 - val_accuracy: 0.7851\n",
      "Epoch 29/300\n",
      "4930/4930 [==============================] - 0s 80us/sample - loss: 0.4642 - accuracy: 0.7625 - val_loss: 0.4388 - val_accuracy: 0.7899\n",
      "Epoch 30/300\n",
      "4930/4930 [==============================] - 0s 79us/sample - loss: 0.4643 - accuracy: 0.7688 - val_loss: 0.4382 - val_accuracy: 0.7903\n",
      "Epoch 31/300\n",
      "4930/4930 [==============================] - 0s 79us/sample - loss: 0.4642 - accuracy: 0.7724 - val_loss: 0.4378 - val_accuracy: 0.7894\n",
      "Epoch 32/300\n",
      "4930/4930 [==============================] - 0s 83us/sample - loss: 0.4688 - accuracy: 0.7647 - val_loss: 0.4368 - val_accuracy: 0.7951\n",
      "Epoch 33/300\n",
      "4930/4930 [==============================] - 0s 81us/sample - loss: 0.4661 - accuracy: 0.7680 - val_loss: 0.4368 - val_accuracy: 0.7946\n",
      "Epoch 34/300\n",
      "4930/4930 [==============================] - 0s 80us/sample - loss: 0.4644 - accuracy: 0.7669 - val_loss: 0.4368 - val_accuracy: 0.7922\n",
      "Epoch 35/300\n",
      "4930/4930 [==============================] - 0s 79us/sample - loss: 0.4623 - accuracy: 0.7799 - val_loss: 0.4358 - val_accuracy: 0.7927\n",
      "Epoch 36/300\n",
      "4930/4930 [==============================] - 0s 83us/sample - loss: 0.4622 - accuracy: 0.7698 - val_loss: 0.4357 - val_accuracy: 0.7932\n",
      "Epoch 37/300\n",
      "4930/4930 [==============================] - 0s 79us/sample - loss: 0.4619 - accuracy: 0.7736 - val_loss: 0.4352 - val_accuracy: 0.7927\n",
      "Epoch 38/300\n",
      "4930/4930 [==============================] - 0s 79us/sample - loss: 0.4573 - accuracy: 0.7688 - val_loss: 0.4335 - val_accuracy: 0.7918\n",
      "Epoch 39/300\n",
      "4930/4930 [==============================] - 0s 80us/sample - loss: 0.4640 - accuracy: 0.7740 - val_loss: 0.4340 - val_accuracy: 0.7941\n",
      "Epoch 40/300\n",
      "4930/4930 [==============================] - 0s 82us/sample - loss: 0.4566 - accuracy: 0.7742 - val_loss: 0.4328 - val_accuracy: 0.7946\n",
      "Epoch 41/300\n",
      "4930/4930 [==============================] - 0s 88us/sample - loss: 0.4598 - accuracy: 0.7755 - val_loss: 0.4324 - val_accuracy: 0.7979\n",
      "Epoch 42/300\n",
      "4930/4930 [==============================] - 0s 84us/sample - loss: 0.4606 - accuracy: 0.7807 - val_loss: 0.4312 - val_accuracy: 0.7960\n",
      "Epoch 43/300\n",
      "4930/4930 [==============================] - 0s 83us/sample - loss: 0.4595 - accuracy: 0.7751 - val_loss: 0.4303 - val_accuracy: 0.7979\n",
      "Epoch 44/300\n",
      "4930/4930 [==============================] - 0s 83us/sample - loss: 0.4569 - accuracy: 0.7682 - val_loss: 0.4302 - val_accuracy: 0.7979\n",
      "Epoch 45/300\n",
      "4930/4930 [==============================] - 0s 81us/sample - loss: 0.4533 - accuracy: 0.7785 - val_loss: 0.4300 - val_accuracy: 0.7998\n",
      "Epoch 46/300\n",
      "4930/4930 [==============================] - 0s 84us/sample - loss: 0.4572 - accuracy: 0.7781 - val_loss: 0.4310 - val_accuracy: 0.7989\n",
      "Epoch 47/300\n",
      "4930/4930 [==============================] - 0s 84us/sample - loss: 0.4567 - accuracy: 0.7765 - val_loss: 0.4304 - val_accuracy: 0.7998\n",
      "Epoch 48/300\n",
      "4930/4930 [==============================] - 0s 85us/sample - loss: 0.4585 - accuracy: 0.7813 - val_loss: 0.4291 - val_accuracy: 0.8008\n",
      "Epoch 49/300\n",
      "4930/4930 [==============================] - 0s 84us/sample - loss: 0.4530 - accuracy: 0.7822 - val_loss: 0.4283 - val_accuracy: 0.8003\n",
      "Epoch 50/300\n",
      "4930/4930 [==============================] - 0s 84us/sample - loss: 0.4469 - accuracy: 0.7929 - val_loss: 0.4273 - val_accuracy: 0.8003\n",
      "Epoch 51/300\n",
      "4930/4930 [==============================] - 0s 81us/sample - loss: 0.4544 - accuracy: 0.7793 - val_loss: 0.4288 - val_accuracy: 0.7984\n",
      "Epoch 52/300\n",
      "4930/4930 [==============================] - 0s 84us/sample - loss: 0.4558 - accuracy: 0.7797 - val_loss: 0.4275 - val_accuracy: 0.8008\n",
      "Epoch 53/300\n",
      "4930/4930 [==============================] - 0s 85us/sample - loss: 0.4502 - accuracy: 0.7809 - val_loss: 0.4273 - val_accuracy: 0.7998\n",
      "Epoch 54/300\n",
      "4930/4930 [==============================] - 0s 84us/sample - loss: 0.4560 - accuracy: 0.7785 - val_loss: 0.4278 - val_accuracy: 0.8012\n",
      "Epoch 55/300\n",
      "4930/4930 [==============================] - 0s 84us/sample - loss: 0.4515 - accuracy: 0.7872 - val_loss: 0.4270 - val_accuracy: 0.8012\n"
     ]
    },
    {
     "name": "stdout",
     "output_type": "stream",
     "text": [
      "Epoch 56/300\n",
      "4930/4930 [==============================] - 0s 77us/sample - loss: 0.4565 - accuracy: 0.7830 - val_loss: 0.4267 - val_accuracy: 0.8022\n",
      "Epoch 57/300\n",
      "4930/4930 [==============================] - 0s 76us/sample - loss: 0.4552 - accuracy: 0.7783 - val_loss: 0.4271 - val_accuracy: 0.8003\n",
      "Epoch 58/300\n",
      "4930/4930 [==============================] - 0s 76us/sample - loss: 0.4519 - accuracy: 0.7763 - val_loss: 0.4261 - val_accuracy: 0.8003\n",
      "Epoch 59/300\n",
      "4930/4930 [==============================] - 0s 76us/sample - loss: 0.4541 - accuracy: 0.7779 - val_loss: 0.4261 - val_accuracy: 0.7998\n",
      "Epoch 60/300\n",
      "4930/4930 [==============================] - 0s 76us/sample - loss: 0.4492 - accuracy: 0.7848 - val_loss: 0.4261 - val_accuracy: 0.7989\n",
      "Epoch 61/300\n",
      "4930/4930 [==============================] - 0s 76us/sample - loss: 0.4528 - accuracy: 0.7783 - val_loss: 0.4260 - val_accuracy: 0.8012\n",
      "Epoch 62/300\n",
      "4930/4930 [==============================] - 0s 75us/sample - loss: 0.4514 - accuracy: 0.7809 - val_loss: 0.4258 - val_accuracy: 0.8008\n",
      "Epoch 63/300\n",
      "4930/4930 [==============================] - 0s 76us/sample - loss: 0.4529 - accuracy: 0.7828 - val_loss: 0.4258 - val_accuracy: 0.8017\n",
      "Epoch 64/300\n",
      "4930/4930 [==============================] - 0s 77us/sample - loss: 0.4489 - accuracy: 0.7761 - val_loss: 0.4261 - val_accuracy: 0.7993\n",
      "Epoch 65/300\n",
      "4930/4930 [==============================] - 0s 76us/sample - loss: 0.4569 - accuracy: 0.7836 - val_loss: 0.4254 - val_accuracy: 0.8012\n",
      "Epoch 66/300\n",
      "4930/4930 [==============================] - 0s 76us/sample - loss: 0.4496 - accuracy: 0.7880 - val_loss: 0.4250 - val_accuracy: 0.8027\n",
      "Epoch 67/300\n",
      "4930/4930 [==============================] - 0s 75us/sample - loss: 0.4429 - accuracy: 0.7744 - val_loss: 0.4241 - val_accuracy: 0.8008\n",
      "Epoch 68/300\n",
      "4930/4930 [==============================] - 0s 76us/sample - loss: 0.4521 - accuracy: 0.7828 - val_loss: 0.4245 - val_accuracy: 0.8008\n",
      "Epoch 69/300\n",
      "4930/4930 [==============================] - 0s 76us/sample - loss: 0.4505 - accuracy: 0.7811 - val_loss: 0.4242 - val_accuracy: 0.7998\n",
      "Epoch 70/300\n",
      "4930/4930 [==============================] - 0s 77us/sample - loss: 0.4474 - accuracy: 0.7854 - val_loss: 0.4239 - val_accuracy: 0.8027\n",
      "Epoch 71/300\n",
      "4930/4930 [==============================] - 0s 76us/sample - loss: 0.4505 - accuracy: 0.7783 - val_loss: 0.4237 - val_accuracy: 0.8012\n",
      "Epoch 72/300\n",
      "4930/4930 [==============================] - 0s 77us/sample - loss: 0.4492 - accuracy: 0.7813 - val_loss: 0.4239 - val_accuracy: 0.8003\n",
      "Epoch 73/300\n",
      "4930/4930 [==============================] - 0s 77us/sample - loss: 0.4445 - accuracy: 0.7836 - val_loss: 0.4237 - val_accuracy: 0.8031\n",
      "Epoch 74/300\n",
      "4930/4930 [==============================] - 0s 76us/sample - loss: 0.4525 - accuracy: 0.7777 - val_loss: 0.4247 - val_accuracy: 0.7989\n",
      "Epoch 75/300\n",
      "4930/4930 [==============================] - 0s 76us/sample - loss: 0.4449 - accuracy: 0.7901 - val_loss: 0.4232 - val_accuracy: 0.7984\n",
      "Epoch 76/300\n",
      "4930/4930 [==============================] - 0s 76us/sample - loss: 0.4477 - accuracy: 0.7834 - val_loss: 0.4233 - val_accuracy: 0.8003\n",
      "Epoch 77/300\n",
      "4930/4930 [==============================] - 0s 76us/sample - loss: 0.4519 - accuracy: 0.7777 - val_loss: 0.4233 - val_accuracy: 0.8008\n",
      "Epoch 78/300\n",
      "4930/4930 [==============================] - 0s 76us/sample - loss: 0.4482 - accuracy: 0.7844 - val_loss: 0.4219 - val_accuracy: 0.8031\n",
      "Epoch 79/300\n",
      "4930/4930 [==============================] - 0s 76us/sample - loss: 0.4493 - accuracy: 0.7769 - val_loss: 0.4225 - val_accuracy: 0.8012\n",
      "Epoch 80/300\n",
      "4930/4930 [==============================] - 0s 77us/sample - loss: 0.4413 - accuracy: 0.7897 - val_loss: 0.4234 - val_accuracy: 0.7998\n",
      "Epoch 81/300\n",
      "4930/4930 [==============================] - 0s 77us/sample - loss: 0.4500 - accuracy: 0.7856 - val_loss: 0.4226 - val_accuracy: 0.8012\n",
      "Epoch 82/300\n",
      "4930/4930 [==============================] - 0s 76us/sample - loss: 0.4532 - accuracy: 0.7791 - val_loss: 0.4222 - val_accuracy: 0.8017\n",
      "Epoch 83/300\n",
      "4930/4930 [==============================] - 0s 76us/sample - loss: 0.4439 - accuracy: 0.7838 - val_loss: 0.4225 - val_accuracy: 0.8022\n",
      "Epoch 84/300\n",
      "4930/4930 [==============================] - 0s 76us/sample - loss: 0.4457 - accuracy: 0.7874 - val_loss: 0.4230 - val_accuracy: 0.7989\n",
      "Epoch 85/300\n",
      "4930/4930 [==============================] - 0s 76us/sample - loss: 0.4417 - accuracy: 0.7882 - val_loss: 0.4234 - val_accuracy: 0.7993\n",
      "Epoch 86/300\n",
      "4930/4930 [==============================] - 0s 76us/sample - loss: 0.4458 - accuracy: 0.7783 - val_loss: 0.4225 - val_accuracy: 0.7984\n",
      "Epoch 87/300\n",
      "4930/4930 [==============================] - 0s 76us/sample - loss: 0.4481 - accuracy: 0.7844 - val_loss: 0.4213 - val_accuracy: 0.8003\n",
      "Epoch 88/300\n",
      "4930/4930 [==============================] - 0s 77us/sample - loss: 0.4462 - accuracy: 0.7830 - val_loss: 0.4218 - val_accuracy: 0.8022\n",
      "Epoch 89/300\n",
      "4930/4930 [==============================] - 0s 76us/sample - loss: 0.4450 - accuracy: 0.7890 - val_loss: 0.4231 - val_accuracy: 0.7998\n",
      "Epoch 90/300\n",
      "4930/4930 [==============================] - 0s 76us/sample - loss: 0.4478 - accuracy: 0.7858 - val_loss: 0.4230 - val_accuracy: 0.8008\n",
      "Epoch 91/300\n",
      "4930/4930 [==============================] - 0s 76us/sample - loss: 0.4500 - accuracy: 0.7838 - val_loss: 0.4218 - val_accuracy: 0.7989\n",
      "Epoch 92/300\n",
      "4930/4930 [==============================] - 0s 76us/sample - loss: 0.4429 - accuracy: 0.7864 - val_loss: 0.4231 - val_accuracy: 0.8017\n",
      "Epoch 93/300\n",
      "4930/4930 [==============================] - 0s 78us/sample - loss: 0.4433 - accuracy: 0.7846 - val_loss: 0.4216 - val_accuracy: 0.8012\n",
      "Epoch 94/300\n",
      "4930/4930 [==============================] - 0s 78us/sample - loss: 0.4462 - accuracy: 0.7870 - val_loss: 0.4216 - val_accuracy: 0.7993\n",
      "Epoch 95/300\n",
      "4930/4930 [==============================] - 0s 78us/sample - loss: 0.4432 - accuracy: 0.7895 - val_loss: 0.4202 - val_accuracy: 0.8017\n",
      "Epoch 96/300\n",
      "4930/4930 [==============================] - 0s 76us/sample - loss: 0.4448 - accuracy: 0.7824 - val_loss: 0.4210 - val_accuracy: 0.8012\n",
      "Epoch 97/300\n",
      "4930/4930 [==============================] - 0s 76us/sample - loss: 0.4470 - accuracy: 0.7795 - val_loss: 0.4211 - val_accuracy: 0.8012\n",
      "Epoch 98/300\n",
      "4930/4930 [==============================] - 0s 77us/sample - loss: 0.4457 - accuracy: 0.7771 - val_loss: 0.4209 - val_accuracy: 0.7984\n",
      "Epoch 99/300\n",
      "4930/4930 [==============================] - 0s 76us/sample - loss: 0.4454 - accuracy: 0.7742 - val_loss: 0.4205 - val_accuracy: 0.7993\n",
      "Epoch 100/300\n",
      "4930/4930 [==============================] - 0s 76us/sample - loss: 0.4441 - accuracy: 0.7765 - val_loss: 0.4207 - val_accuracy: 0.8003\n",
      "Epoch 101/300\n",
      "4930/4930 [==============================] - 0s 76us/sample - loss: 0.4414 - accuracy: 0.7708 - val_loss: 0.4213 - val_accuracy: 0.8008\n",
      "Epoch 102/300\n",
      "4930/4930 [==============================] - 0s 78us/sample - loss: 0.4487 - accuracy: 0.7769 - val_loss: 0.4216 - val_accuracy: 0.8041\n",
      "Epoch 103/300\n",
      "4930/4930 [==============================] - 0s 78us/sample - loss: 0.4403 - accuracy: 0.7732 - val_loss: 0.4200 - val_accuracy: 0.7998\n",
      "Epoch 104/300\n",
      "4930/4930 [==============================] - 0s 76us/sample - loss: 0.4432 - accuracy: 0.7803 - val_loss: 0.4202 - val_accuracy: 0.7993\n",
      "Epoch 105/300\n",
      "4930/4930 [==============================] - 0s 76us/sample - loss: 0.4462 - accuracy: 0.7773 - val_loss: 0.4219 - val_accuracy: 0.8008\n",
      "Epoch 106/300\n",
      "4930/4930 [==============================] - 0s 77us/sample - loss: 0.4426 - accuracy: 0.7734 - val_loss: 0.4210 - val_accuracy: 0.7993\n",
      "Epoch 107/300\n",
      "4930/4930 [==============================] - 0s 78us/sample - loss: 0.4430 - accuracy: 0.7811 - val_loss: 0.4207 - val_accuracy: 0.8008\n",
      "Epoch 108/300\n",
      "4930/4930 [==============================] - 0s 77us/sample - loss: 0.4456 - accuracy: 0.7706 - val_loss: 0.4203 - val_accuracy: 0.8008\n",
      "Epoch 109/300\n",
      "4930/4930 [==============================] - 0s 76us/sample - loss: 0.4428 - accuracy: 0.7777 - val_loss: 0.4202 - val_accuracy: 0.8012\n",
      "Epoch 110/300\n",
      "4930/4930 [==============================] - 0s 77us/sample - loss: 0.4442 - accuracy: 0.7777 - val_loss: 0.4202 - val_accuracy: 0.8012\n"
     ]
    },
    {
     "name": "stdout",
     "output_type": "stream",
     "text": [
      "Epoch 111/300\n",
      "4930/4930 [==============================] - 0s 76us/sample - loss: 0.4435 - accuracy: 0.7724 - val_loss: 0.4205 - val_accuracy: 0.8003\n",
      "Epoch 112/300\n",
      "4930/4930 [==============================] - 0s 76us/sample - loss: 0.4447 - accuracy: 0.7726 - val_loss: 0.4212 - val_accuracy: 0.8003\n",
      "Epoch 113/300\n",
      "4930/4930 [==============================] - 0s 75us/sample - loss: 0.4423 - accuracy: 0.7704 - val_loss: 0.4198 - val_accuracy: 0.8022\n",
      "Epoch 114/300\n",
      "4930/4930 [==============================] - 0s 76us/sample - loss: 0.4392 - accuracy: 0.7775 - val_loss: 0.4199 - val_accuracy: 0.8008\n",
      "Epoch 115/300\n",
      "4930/4930 [==============================] - 0s 75us/sample - loss: 0.4381 - accuracy: 0.7803 - val_loss: 0.4198 - val_accuracy: 0.8022\n",
      "Epoch 116/300\n",
      "4930/4930 [==============================] - 0s 76us/sample - loss: 0.4410 - accuracy: 0.7824 - val_loss: 0.4194 - val_accuracy: 0.8027\n",
      "Epoch 117/300\n",
      "4930/4930 [==============================] - 0s 75us/sample - loss: 0.4446 - accuracy: 0.7742 - val_loss: 0.4200 - val_accuracy: 0.8027\n",
      "Epoch 118/300\n",
      "4930/4930 [==============================] - 0s 78us/sample - loss: 0.4365 - accuracy: 0.7832 - val_loss: 0.4191 - val_accuracy: 0.8008\n",
      "Epoch 119/300\n",
      "4930/4930 [==============================] - 0s 77us/sample - loss: 0.4424 - accuracy: 0.7789 - val_loss: 0.4202 - val_accuracy: 0.8031\n",
      "Epoch 120/300\n",
      "4930/4930 [==============================] - 0s 76us/sample - loss: 0.4414 - accuracy: 0.7773 - val_loss: 0.4186 - val_accuracy: 0.8003\n",
      "Epoch 121/300\n",
      "4930/4930 [==============================] - 0s 76us/sample - loss: 0.4376 - accuracy: 0.7838 - val_loss: 0.4179 - val_accuracy: 0.8012\n",
      "Epoch 122/300\n",
      "4930/4930 [==============================] - 0s 79us/sample - loss: 0.4418 - accuracy: 0.7801 - val_loss: 0.4187 - val_accuracy: 0.8012\n",
      "Epoch 123/300\n",
      "4930/4930 [==============================] - 0s 76us/sample - loss: 0.4439 - accuracy: 0.7838 - val_loss: 0.4192 - val_accuracy: 0.8036\n",
      "Epoch 124/300\n",
      "4930/4930 [==============================] - 0s 76us/sample - loss: 0.4424 - accuracy: 0.7706 - val_loss: 0.4195 - val_accuracy: 0.8008\n",
      "Epoch 125/300\n",
      "4930/4930 [==============================] - 0s 75us/sample - loss: 0.4413 - accuracy: 0.7791 - val_loss: 0.4206 - val_accuracy: 0.7993\n",
      "Epoch 126/300\n",
      "4930/4930 [==============================] - 0s 76us/sample - loss: 0.4406 - accuracy: 0.7791 - val_loss: 0.4193 - val_accuracy: 0.8008\n",
      "Epoch 127/300\n",
      "4930/4930 [==============================] - 0s 76us/sample - loss: 0.4418 - accuracy: 0.7771 - val_loss: 0.4196 - val_accuracy: 0.7998\n",
      "Epoch 128/300\n",
      "4930/4930 [==============================] - 0s 76us/sample - loss: 0.4411 - accuracy: 0.7819 - val_loss: 0.4189 - val_accuracy: 0.8003\n",
      "Epoch 129/300\n",
      "4930/4930 [==============================] - 0s 76us/sample - loss: 0.4395 - accuracy: 0.7765 - val_loss: 0.4192 - val_accuracy: 0.8027\n",
      "Epoch 130/300\n",
      "4930/4930 [==============================] - 0s 77us/sample - loss: 0.4385 - accuracy: 0.7815 - val_loss: 0.4194 - val_accuracy: 0.7993\n",
      "Epoch 131/300\n",
      "4930/4930 [==============================] - 0s 77us/sample - loss: 0.4371 - accuracy: 0.7783 - val_loss: 0.4185 - val_accuracy: 0.8022\n",
      "Epoch 132/300\n",
      "4930/4930 [==============================] - 0s 77us/sample - loss: 0.4372 - accuracy: 0.7785 - val_loss: 0.4188 - val_accuracy: 0.8012\n",
      "Epoch 133/300\n",
      "4930/4930 [==============================] - 0s 76us/sample - loss: 0.4366 - accuracy: 0.7819 - val_loss: 0.4179 - val_accuracy: 0.8008\n",
      "Epoch 134/300\n",
      "4930/4930 [==============================] - 0s 76us/sample - loss: 0.4385 - accuracy: 0.7785 - val_loss: 0.4188 - val_accuracy: 0.7998\n",
      "Epoch 135/300\n",
      "4930/4930 [==============================] - 0s 76us/sample - loss: 0.4374 - accuracy: 0.7783 - val_loss: 0.4218 - val_accuracy: 0.8017\n",
      "Epoch 136/300\n",
      "4930/4930 [==============================] - 0s 76us/sample - loss: 0.4396 - accuracy: 0.7746 - val_loss: 0.4197 - val_accuracy: 0.8017\n",
      "Epoch 137/300\n",
      "4930/4930 [==============================] - 0s 76us/sample - loss: 0.4386 - accuracy: 0.7799 - val_loss: 0.4187 - val_accuracy: 0.8022\n",
      "Epoch 138/300\n",
      "4930/4930 [==============================] - 0s 78us/sample - loss: 0.4378 - accuracy: 0.7726 - val_loss: 0.4184 - val_accuracy: 0.8012\n",
      "Epoch 139/300\n",
      "4930/4930 [==============================] - 0s 77us/sample - loss: 0.4384 - accuracy: 0.7773 - val_loss: 0.4182 - val_accuracy: 0.8031\n",
      "Epoch 140/300\n",
      "4930/4930 [==============================] - 0s 78us/sample - loss: 0.4386 - accuracy: 0.7834 - val_loss: 0.4191 - val_accuracy: 0.8022\n",
      "Epoch 141/300\n",
      "4930/4930 [==============================] - 0s 77us/sample - loss: 0.4412 - accuracy: 0.7759 - val_loss: 0.4187 - val_accuracy: 0.8022\n",
      "Epoch 142/300\n",
      "4930/4930 [==============================] - 0s 76us/sample - loss: 0.4367 - accuracy: 0.7805 - val_loss: 0.4180 - val_accuracy: 0.8027\n",
      "Epoch 143/300\n",
      "4930/4930 [==============================] - 0s 76us/sample - loss: 0.4328 - accuracy: 0.7852 - val_loss: 0.4196 - val_accuracy: 0.8012\n",
      "Epoch 144/300\n",
      "4930/4930 [==============================] - 0s 77us/sample - loss: 0.4410 - accuracy: 0.7795 - val_loss: 0.4184 - val_accuracy: 0.8022\n",
      "Epoch 145/300\n",
      "4930/4930 [==============================] - 0s 77us/sample - loss: 0.4354 - accuracy: 0.7759 - val_loss: 0.4187 - val_accuracy: 0.8036\n",
      "Epoch 146/300\n",
      "4930/4930 [==============================] - 0s 77us/sample - loss: 0.4362 - accuracy: 0.7852 - val_loss: 0.4177 - val_accuracy: 0.8031\n",
      "Epoch 147/300\n",
      "4930/4930 [==============================] - 0s 76us/sample - loss: 0.4378 - accuracy: 0.7789 - val_loss: 0.4179 - val_accuracy: 0.8031\n",
      "Epoch 148/300\n",
      "4930/4930 [==============================] - 0s 79us/sample - loss: 0.4356 - accuracy: 0.7793 - val_loss: 0.4175 - val_accuracy: 0.8036\n",
      "Epoch 149/300\n",
      "4930/4930 [==============================] - 0s 76us/sample - loss: 0.4367 - accuracy: 0.7722 - val_loss: 0.4178 - val_accuracy: 0.8036\n",
      "Epoch 150/300\n",
      "4930/4930 [==============================] - 0s 76us/sample - loss: 0.4390 - accuracy: 0.7785 - val_loss: 0.4185 - val_accuracy: 0.8074\n",
      "Epoch 151/300\n",
      "4930/4930 [==============================] - 0s 76us/sample - loss: 0.4385 - accuracy: 0.7781 - val_loss: 0.4186 - val_accuracy: 0.8041\n",
      "Epoch 152/300\n",
      "4930/4930 [==============================] - 0s 76us/sample - loss: 0.4374 - accuracy: 0.7777 - val_loss: 0.4184 - val_accuracy: 0.8055\n",
      "Epoch 153/300\n",
      "4930/4930 [==============================] - 0s 77us/sample - loss: 0.4351 - accuracy: 0.7803 - val_loss: 0.4179 - val_accuracy: 0.8031\n",
      "Epoch 154/300\n",
      "4930/4930 [==============================] - 0s 77us/sample - loss: 0.4350 - accuracy: 0.7748 - val_loss: 0.4176 - val_accuracy: 0.8027\n",
      "Epoch 155/300\n",
      "4930/4930 [==============================] - 0s 76us/sample - loss: 0.4365 - accuracy: 0.7755 - val_loss: 0.4177 - val_accuracy: 0.8041\n",
      "Epoch 156/300\n",
      "4930/4930 [==============================] - 0s 77us/sample - loss: 0.4344 - accuracy: 0.7769 - val_loss: 0.4175 - val_accuracy: 0.8036\n",
      "Epoch 157/300\n",
      "4930/4930 [==============================] - 0s 77us/sample - loss: 0.4353 - accuracy: 0.7753 - val_loss: 0.4174 - val_accuracy: 0.8041\n",
      "Epoch 158/300\n",
      "4930/4930 [==============================] - 0s 78us/sample - loss: 0.4382 - accuracy: 0.7848 - val_loss: 0.4181 - val_accuracy: 0.8027\n",
      "Epoch 159/300\n",
      "4930/4930 [==============================] - 0s 77us/sample - loss: 0.4405 - accuracy: 0.7809 - val_loss: 0.4181 - val_accuracy: 0.8045\n",
      "Epoch 160/300\n",
      "4930/4930 [==============================] - 0s 77us/sample - loss: 0.4357 - accuracy: 0.7813 - val_loss: 0.4182 - val_accuracy: 0.8022\n",
      "Epoch 161/300\n",
      "4930/4930 [==============================] - 0s 77us/sample - loss: 0.4310 - accuracy: 0.7890 - val_loss: 0.4171 - val_accuracy: 0.8036\n",
      "Epoch 162/300\n",
      "4930/4930 [==============================] - 0s 77us/sample - loss: 0.4352 - accuracy: 0.7807 - val_loss: 0.4183 - val_accuracy: 0.8045\n",
      "Epoch 163/300\n",
      "4930/4930 [==============================] - 0s 76us/sample - loss: 0.4384 - accuracy: 0.7746 - val_loss: 0.4184 - val_accuracy: 0.8045\n",
      "Epoch 164/300\n",
      "4930/4930 [==============================] - 0s 78us/sample - loss: 0.4335 - accuracy: 0.7826 - val_loss: 0.4181 - val_accuracy: 0.8031\n",
      "Epoch 165/300\n"
     ]
    },
    {
     "name": "stdout",
     "output_type": "stream",
     "text": [
      "4930/4930 [==============================] - 0s 77us/sample - loss: 0.4395 - accuracy: 0.7759 - val_loss: 0.4186 - val_accuracy: 0.8031\n",
      "Epoch 166/300\n",
      "4930/4930 [==============================] - 0s 77us/sample - loss: 0.4377 - accuracy: 0.7838 - val_loss: 0.4221 - val_accuracy: 0.8003\n",
      "Epoch 167/300\n",
      "4930/4930 [==============================] - 0s 76us/sample - loss: 0.4347 - accuracy: 0.7826 - val_loss: 0.4181 - val_accuracy: 0.8088\n",
      "Epoch 168/300\n",
      "4930/4930 [==============================] - 0s 77us/sample - loss: 0.4349 - accuracy: 0.7838 - val_loss: 0.4181 - val_accuracy: 0.8045\n",
      "Epoch 169/300\n",
      "4930/4930 [==============================] - 0s 77us/sample - loss: 0.4381 - accuracy: 0.7828 - val_loss: 0.4193 - val_accuracy: 0.8027\n",
      "Epoch 170/300\n",
      "4930/4930 [==============================] - 0s 80us/sample - loss: 0.4337 - accuracy: 0.7815 - val_loss: 0.4175 - val_accuracy: 0.8017\n",
      "Epoch 171/300\n",
      "4930/4930 [==============================] - 0s 76us/sample - loss: 0.4355 - accuracy: 0.7809 - val_loss: 0.4179 - val_accuracy: 0.8036\n",
      "Epoch 172/300\n",
      "4930/4930 [==============================] - 0s 77us/sample - loss: 0.4316 - accuracy: 0.7787 - val_loss: 0.4173 - val_accuracy: 0.8036\n",
      "Epoch 173/300\n",
      "4930/4930 [==============================] - 0s 77us/sample - loss: 0.4400 - accuracy: 0.7746 - val_loss: 0.4186 - val_accuracy: 0.8060\n",
      "Epoch 174/300\n",
      "4930/4930 [==============================] - 0s 79us/sample - loss: 0.4290 - accuracy: 0.7828 - val_loss: 0.4177 - val_accuracy: 0.8036\n",
      "Epoch 175/300\n",
      "4930/4930 [==============================] - 0s 76us/sample - loss: 0.4348 - accuracy: 0.7797 - val_loss: 0.4178 - val_accuracy: 0.8022\n",
      "Epoch 176/300\n",
      "4930/4930 [==============================] - 0s 78us/sample - loss: 0.4324 - accuracy: 0.7783 - val_loss: 0.4174 - val_accuracy: 0.8031\n",
      "Epoch 177/300\n",
      "4930/4930 [==============================] - 0s 76us/sample - loss: 0.4355 - accuracy: 0.7809 - val_loss: 0.4174 - val_accuracy: 0.8041\n",
      "Epoch 178/300\n",
      "4930/4930 [==============================] - 0s 76us/sample - loss: 0.4351 - accuracy: 0.7801 - val_loss: 0.4172 - val_accuracy: 0.8027\n",
      "Epoch 179/300\n",
      "4930/4930 [==============================] - 0s 76us/sample - loss: 0.4312 - accuracy: 0.7876 - val_loss: 0.4172 - val_accuracy: 0.8031\n",
      "Epoch 180/300\n",
      "4930/4930 [==============================] - 0s 77us/sample - loss: 0.4359 - accuracy: 0.7761 - val_loss: 0.4182 - val_accuracy: 0.8036\n",
      "Epoch 181/300\n",
      "4930/4930 [==============================] - 0s 76us/sample - loss: 0.4338 - accuracy: 0.7817 - val_loss: 0.4178 - val_accuracy: 0.8045\n",
      "Epoch 182/300\n",
      "4930/4930 [==============================] - 0s 76us/sample - loss: 0.4356 - accuracy: 0.7809 - val_loss: 0.4172 - val_accuracy: 0.8050\n",
      "Epoch 183/300\n",
      "4930/4930 [==============================] - 0s 76us/sample - loss: 0.4332 - accuracy: 0.7773 - val_loss: 0.4167 - val_accuracy: 0.8060\n",
      "Epoch 184/300\n",
      "4930/4930 [==============================] - 0s 80us/sample - loss: 0.4340 - accuracy: 0.7822 - val_loss: 0.4178 - val_accuracy: 0.8022\n",
      "Epoch 185/300\n",
      "4930/4930 [==============================] - 0s 93us/sample - loss: 0.4280 - accuracy: 0.7787 - val_loss: 0.4168 - val_accuracy: 0.8055\n",
      "Epoch 186/300\n",
      "4930/4930 [==============================] - 0s 94us/sample - loss: 0.4305 - accuracy: 0.7917 - val_loss: 0.4169 - val_accuracy: 0.8027\n",
      "Epoch 187/300\n",
      "4930/4930 [==============================] - 0s 95us/sample - loss: 0.4289 - accuracy: 0.7899 - val_loss: 0.4161 - val_accuracy: 0.8083\n",
      "Epoch 188/300\n",
      "4930/4930 [==============================] - 0s 92us/sample - loss: 0.4363 - accuracy: 0.7882 - val_loss: 0.4159 - val_accuracy: 0.8064\n",
      "Epoch 189/300\n",
      "4930/4930 [==============================] - 0s 98us/sample - loss: 0.4325 - accuracy: 0.7941 - val_loss: 0.4169 - val_accuracy: 0.8074\n",
      "Epoch 190/300\n",
      "4930/4930 [==============================] - 0s 92us/sample - loss: 0.4327 - accuracy: 0.7929 - val_loss: 0.4191 - val_accuracy: 0.8027\n",
      "Epoch 191/300\n",
      "4930/4930 [==============================] - 0s 87us/sample - loss: 0.4343 - accuracy: 0.7897 - val_loss: 0.4169 - val_accuracy: 0.8050\n",
      "Epoch 192/300\n",
      "4930/4930 [==============================] - 0s 89us/sample - loss: 0.4311 - accuracy: 0.7937 - val_loss: 0.4171 - val_accuracy: 0.8045\n",
      "Epoch 193/300\n",
      "4930/4930 [==============================] - 0s 88us/sample - loss: 0.4314 - accuracy: 0.7880 - val_loss: 0.4173 - val_accuracy: 0.8079\n",
      "Epoch 194/300\n",
      "4930/4930 [==============================] - 0s 81us/sample - loss: 0.4268 - accuracy: 0.7972 - val_loss: 0.4164 - val_accuracy: 0.8083\n",
      "Epoch 195/300\n",
      "4930/4930 [==============================] - 0s 77us/sample - loss: 0.4373 - accuracy: 0.7953 - val_loss: 0.4172 - val_accuracy: 0.8079\n",
      "Epoch 196/300\n",
      "4930/4930 [==============================] - 0s 78us/sample - loss: 0.4340 - accuracy: 0.7933 - val_loss: 0.4168 - val_accuracy: 0.8079\n",
      "Epoch 197/300\n",
      "4930/4930 [==============================] - 0s 84us/sample - loss: 0.4320 - accuracy: 0.7939 - val_loss: 0.4171 - val_accuracy: 0.8064\n",
      "Epoch 198/300\n",
      "4930/4930 [==============================] - 0s 92us/sample - loss: 0.4310 - accuracy: 0.8018 - val_loss: 0.4163 - val_accuracy: 0.8060\n",
      "Epoch 199/300\n",
      "4930/4930 [==============================] - 0s 82us/sample - loss: 0.4304 - accuracy: 0.7961 - val_loss: 0.4166 - val_accuracy: 0.8069\n",
      "Epoch 200/300\n",
      "4930/4930 [==============================] - 0s 76us/sample - loss: 0.4314 - accuracy: 0.7937 - val_loss: 0.4161 - val_accuracy: 0.8055\n",
      "Epoch 201/300\n",
      "4930/4930 [==============================] - 0s 78us/sample - loss: 0.4266 - accuracy: 0.7949 - val_loss: 0.4172 - val_accuracy: 0.8064\n",
      "Epoch 202/300\n",
      "4930/4930 [==============================] - 0s 77us/sample - loss: 0.4284 - accuracy: 0.8004 - val_loss: 0.4169 - val_accuracy: 0.8079\n",
      "Epoch 203/300\n",
      "4930/4930 [==============================] - 0s 76us/sample - loss: 0.4302 - accuracy: 0.8016 - val_loss: 0.4166 - val_accuracy: 0.8093\n",
      "Epoch 204/300\n",
      "4930/4930 [==============================] - 0s 76us/sample - loss: 0.4309 - accuracy: 0.7955 - val_loss: 0.4168 - val_accuracy: 0.8074\n",
      "Epoch 205/300\n",
      "4930/4930 [==============================] - 0s 77us/sample - loss: 0.4295 - accuracy: 0.7996 - val_loss: 0.4168 - val_accuracy: 0.8064\n",
      "Epoch 206/300\n",
      "4930/4930 [==============================] - 0s 77us/sample - loss: 0.4318 - accuracy: 0.7953 - val_loss: 0.4168 - val_accuracy: 0.8074\n",
      "Epoch 207/300\n",
      "4930/4930 [==============================] - 0s 76us/sample - loss: 0.4345 - accuracy: 0.7943 - val_loss: 0.4183 - val_accuracy: 0.8055\n",
      "Epoch 208/300\n",
      "4930/4930 [==============================] - 0s 76us/sample - loss: 0.4348 - accuracy: 0.8010 - val_loss: 0.4175 - val_accuracy: 0.8064\n",
      "Epoch 209/300\n",
      "4930/4930 [==============================] - 0s 77us/sample - loss: 0.4319 - accuracy: 0.8024 - val_loss: 0.4167 - val_accuracy: 0.8093\n",
      "Epoch 210/300\n",
      "4930/4930 [==============================] - 0s 76us/sample - loss: 0.4266 - accuracy: 0.8032 - val_loss: 0.4173 - val_accuracy: 0.8083\n",
      "Epoch 211/300\n",
      "4930/4930 [==============================] - 0s 76us/sample - loss: 0.4370 - accuracy: 0.7937 - val_loss: 0.4190 - val_accuracy: 0.8069\n",
      "Epoch 212/300\n",
      "4930/4930 [==============================] - 0s 78us/sample - loss: 0.4297 - accuracy: 0.8020 - val_loss: 0.4173 - val_accuracy: 0.8097\n",
      "Epoch 213/300\n",
      "4930/4930 [==============================] - 0s 76us/sample - loss: 0.4299 - accuracy: 0.7976 - val_loss: 0.4173 - val_accuracy: 0.8097\n",
      "Epoch 00213: early stopping\n"
     ]
    },
    {
     "data": {
      "text/plain": [
       "<tensorflow.python.keras.callbacks.History at 0x7fb090663c90>"
      ]
     },
     "execution_count": 31,
     "metadata": {},
     "output_type": "execute_result"
    }
   ],
   "source": [
    "model.fit(x=X_train, \n",
    "          y=y_train, \n",
    "          epochs=300,\n",
    "          validation_data=(X_test, y_test), verbose=1,\n",
    "          callbacks=[early_stop]\n",
    "          )"
   ]
  },
  {
   "cell_type": "code",
   "execution_count": 32,
   "metadata": {},
   "outputs": [
    {
     "data": {
      "text/plain": [
       "<matplotlib.axes._subplots.AxesSubplot at 0x7fb0912bb9d0>"
      ]
     },
     "execution_count": 32,
     "metadata": {},
     "output_type": "execute_result"
    },
    {
     "data": {
      "image/png": "[encoded data removed]",
      "text/plain": [
       "<Figure size 432x288 with 1 Axes>"
      ]
     },
     "metadata": {
      "needs_background": "light"
     },
     "output_type": "display_data"
    }
   ],
   "source": [
    "model_loss = pd.DataFrame(model.history.history)\n",
    "model_loss.plot()"
   ]
  },
  {
   "cell_type": "code",
   "execution_count": null,
   "metadata": {},
   "outputs": [],
   "source": [
    "# These plots show us a good fit of our model to the data"
   ]
  },
  {
   "cell_type": "code",
   "execution_count": 33,
   "metadata": {},
   "outputs": [],
   "source": [
    "predictions = model.predict_classes(X_test)"
   ]
  },
  {
   "cell_type": "code",
   "execution_count": 34,
   "metadata": {},
   "outputs": [],
   "source": [
    "from sklearn.metrics import classification_report,confusion_matrix,roc_auc_score"
   ]
  },
  {
   "cell_type": "code",
   "execution_count": 35,
   "metadata": {},
   "outputs": [
    {
     "name": "stdout",
     "output_type": "stream",
     "text": [
      "              precision    recall  f1-score   support\n",
      "\n",
      "           0       0.84      0.91      0.87      1539\n",
      "           1       0.69      0.55      0.61       574\n",
      "\n",
      "    accuracy                           0.81      2113\n",
      "   macro avg       0.77      0.73      0.74      2113\n",
      "weighted avg       0.80      0.81      0.80      2113\n",
      "\n"
     ]
    }
   ],
   "source": [
    "print(classification_report(y_test,predictions))"
   ]
  },
  {
   "cell_type": "code",
   "execution_count": 38,
   "metadata": {},
   "outputs": [
    {
     "name": "stdout",
     "output_type": "stream",
     "text": [
      "Test Loss: 0.417\n",
      "Test Accuracy: 0.81\n"
     ]
    }
   ],
   "source": [
    "accuracy = model.evaluate(X_test, y_test, verbose=False)\n",
    "print('Test Loss:',round(accuracy[0],3))\n",
    "print('Test Accuracy:',round(accuracy[1],3))"
   ]
  },
  {
   "cell_type": "code",
   "execution_count": null,
   "metadata": {},
   "outputs": [],
   "source": [
    "# Our model was good to explain loyal customers."
   ]
  }
 ],
 "metadata": {
  "kernelspec": {
   "display_name": "Python 3",
   "language": "python",
   "name": "python3"
  },
  "language_info": {
   "codemirror_mode": {
    "name": "ipython",
    "version": 3
   },
   "file_extension": ".py",
   "mimetype": "text/x-python",
   "name": "python",
   "nbconvert_exporter": "python",
   "pygments_lexer": "ipython3",
   "version": "3.7.6"
  }
 },
 "nbformat": 4,
 "nbformat_minor": 4
}
