{
 "cells": [
  {
   "cell_type": "markdown",
   "metadata": {},
   "source": [
    "## Import Libraries"
   ]
  },
  {
   "cell_type": "code",
   "execution_count": 1,
   "metadata": {},
   "outputs": [],
   "source": [
    "import numpy as np\n",
    "import pandas as pd"
   ]
  },
  {
   "cell_type": "markdown",
   "metadata": {},
   "source": [
    "## Load the Data"
   ]
  },
  {
   "cell_type": "code",
   "execution_count": 2,
   "metadata": {
    "scrolled": true
   },
   "outputs": [
    {
     "data": {
      "text/html": [
       "<div>\n",
       "<style scoped>\n",
       "    .dataframe tbody tr th:only-of-type {\n",
       "        vertical-align: middle;\n",
       "    }\n",
       "\n",
       "    .dataframe tbody tr th {\n",
       "        vertical-align: top;\n",
       "    }\n",
       "\n",
       "    .dataframe thead th {\n",
       "        text-align: right;\n",
       "    }\n",
       "</style>\n",
       "<table border=\"1\" class=\"dataframe\">\n",
       "  <thead>\n",
       "    <tr style=\"text-align: right;\">\n",
       "      <th></th>\n",
       "      <th>gender</th>\n",
       "      <th>SeniorCitizen</th>\n",
       "      <th>Partner</th>\n",
       "      <th>Dependents</th>\n",
       "      <th>tenure</th>\n",
       "      <th>PhoneService</th>\n",
       "      <th>MultipleLines</th>\n",
       "      <th>InternetService</th>\n",
       "      <th>OnlineSecurity</th>\n",
       "      <th>OnlineBackup</th>\n",
       "      <th>DeviceProtection</th>\n",
       "      <th>TechSupport</th>\n",
       "      <th>StreamingTV</th>\n",
       "      <th>StreamingMovies</th>\n",
       "      <th>Contract</th>\n",
       "      <th>PaperlessBilling</th>\n",
       "      <th>PaymentMethod</th>\n",
       "      <th>MonthlyCharges</th>\n",
       "      <th>TotalCharges</th>\n",
       "      <th>Churn</th>\n",
       "    </tr>\n",
       "    <tr>\n",
       "      <th>customerID</th>\n",
       "      <th></th>\n",
       "      <th></th>\n",
       "      <th></th>\n",
       "      <th></th>\n",
       "      <th></th>\n",
       "      <th></th>\n",
       "      <th></th>\n",
       "      <th></th>\n",
       "      <th></th>\n",
       "      <th></th>\n",
       "      <th></th>\n",
       "      <th></th>\n",
       "      <th></th>\n",
       "      <th></th>\n",
       "      <th></th>\n",
       "      <th></th>\n",
       "      <th></th>\n",
       "      <th></th>\n",
       "      <th></th>\n",
       "      <th></th>\n",
       "    </tr>\n",
       "  </thead>\n",
       "  <tbody>\n",
       "    <tr>\n",
       "      <th>7590-VHVEG</th>\n",
       "      <td>Female</td>\n",
       "      <td>0</td>\n",
       "      <td>Yes</td>\n",
       "      <td>No</td>\n",
       "      <td>1</td>\n",
       "      <td>No</td>\n",
       "      <td>No phone service</td>\n",
       "      <td>DSL</td>\n",
       "      <td>No</td>\n",
       "      <td>Yes</td>\n",
       "      <td>No</td>\n",
       "      <td>No</td>\n",
       "      <td>No</td>\n",
       "      <td>No</td>\n",
       "      <td>Month-to-month</td>\n",
       "      <td>Yes</td>\n",
       "      <td>Electronic check</td>\n",
       "      <td>29.85</td>\n",
       "      <td>29.85</td>\n",
       "      <td>No</td>\n",
       "    </tr>\n",
       "    <tr>\n",
       "      <th>5575-GNVDE</th>\n",
       "      <td>Male</td>\n",
       "      <td>0</td>\n",
       "      <td>No</td>\n",
       "      <td>No</td>\n",
       "      <td>34</td>\n",
       "      <td>Yes</td>\n",
       "      <td>No</td>\n",
       "      <td>DSL</td>\n",
       "      <td>Yes</td>\n",
       "      <td>No</td>\n",
       "      <td>Yes</td>\n",
       "      <td>No</td>\n",
       "      <td>No</td>\n",
       "      <td>No</td>\n",
       "      <td>One year</td>\n",
       "      <td>No</td>\n",
       "      <td>Mailed check</td>\n",
       "      <td>56.95</td>\n",
       "      <td>1889.5</td>\n",
       "      <td>No</td>\n",
       "    </tr>\n",
       "    <tr>\n",
       "      <th>3668-QPYBK</th>\n",
       "      <td>Male</td>\n",
       "      <td>0</td>\n",
       "      <td>No</td>\n",
       "      <td>No</td>\n",
       "      <td>2</td>\n",
       "      <td>Yes</td>\n",
       "      <td>No</td>\n",
       "      <td>DSL</td>\n",
       "      <td>Yes</td>\n",
       "      <td>Yes</td>\n",
       "      <td>No</td>\n",
       "      <td>No</td>\n",
       "      <td>No</td>\n",
       "      <td>No</td>\n",
       "      <td>Month-to-month</td>\n",
       "      <td>Yes</td>\n",
       "      <td>Mailed check</td>\n",
       "      <td>53.85</td>\n",
       "      <td>108.15</td>\n",
       "      <td>Yes</td>\n",
       "    </tr>\n",
       "    <tr>\n",
       "      <th>7795-CFOCW</th>\n",
       "      <td>Male</td>\n",
       "      <td>0</td>\n",
       "      <td>No</td>\n",
       "      <td>No</td>\n",
       "      <td>45</td>\n",
       "      <td>No</td>\n",
       "      <td>No phone service</td>\n",
       "      <td>DSL</td>\n",
       "      <td>Yes</td>\n",
       "      <td>No</td>\n",
       "      <td>Yes</td>\n",
       "      <td>Yes</td>\n",
       "      <td>No</td>\n",
       "      <td>No</td>\n",
       "      <td>One year</td>\n",
       "      <td>No</td>\n",
       "      <td>Bank transfer (automatic)</td>\n",
       "      <td>42.30</td>\n",
       "      <td>1840.75</td>\n",
       "      <td>No</td>\n",
       "    </tr>\n",
       "    <tr>\n",
       "      <th>9237-HQITU</th>\n",
       "      <td>Female</td>\n",
       "      <td>0</td>\n",
       "      <td>No</td>\n",
       "      <td>No</td>\n",
       "      <td>2</td>\n",
       "      <td>Yes</td>\n",
       "      <td>No</td>\n",
       "      <td>Fiber optic</td>\n",
       "      <td>No</td>\n",
       "      <td>No</td>\n",
       "      <td>No</td>\n",
       "      <td>No</td>\n",
       "      <td>No</td>\n",
       "      <td>No</td>\n",
       "      <td>Month-to-month</td>\n",
       "      <td>Yes</td>\n",
       "      <td>Electronic check</td>\n",
       "      <td>70.70</td>\n",
       "      <td>151.65</td>\n",
       "      <td>Yes</td>\n",
       "    </tr>\n",
       "  </tbody>\n",
       "</table>\n",
       "</div>"
      ],
      "text/plain": [
       "            gender  SeniorCitizen Partner Dependents  tenure PhoneService  \\\n",
       "customerID                                                                  \n",
       "7590-VHVEG  Female              0     Yes         No       1           No   \n",
       "5575-GNVDE    Male              0      No         No      34          Yes   \n",
       "3668-QPYBK    Male              0      No         No       2          Yes   \n",
       "7795-CFOCW    Male              0      No         No      45           No   \n",
       "9237-HQITU  Female              0      No         No       2          Yes   \n",
       "\n",
       "               MultipleLines InternetService OnlineSecurity OnlineBackup  \\\n",
       "customerID                                                                 \n",
       "7590-VHVEG  No phone service             DSL             No          Yes   \n",
       "5575-GNVDE                No             DSL            Yes           No   \n",
       "3668-QPYBK                No             DSL            Yes          Yes   \n",
       "7795-CFOCW  No phone service             DSL            Yes           No   \n",
       "9237-HQITU                No     Fiber optic             No           No   \n",
       "\n",
       "           DeviceProtection TechSupport StreamingTV StreamingMovies  \\\n",
       "customerID                                                            \n",
       "7590-VHVEG               No          No          No              No   \n",
       "5575-GNVDE              Yes          No          No              No   \n",
       "3668-QPYBK               No          No          No              No   \n",
       "7795-CFOCW              Yes         Yes          No              No   \n",
       "9237-HQITU               No          No          No              No   \n",
       "\n",
       "                  Contract PaperlessBilling              PaymentMethod  \\\n",
       "customerID                                                               \n",
       "7590-VHVEG  Month-to-month              Yes           Electronic check   \n",
       "5575-GNVDE        One year               No               Mailed check   \n",
       "3668-QPYBK  Month-to-month              Yes               Mailed check   \n",
       "7795-CFOCW        One year               No  Bank transfer (automatic)   \n",
       "9237-HQITU  Month-to-month              Yes           Electronic check   \n",
       "\n",
       "            MonthlyCharges TotalCharges Churn  \n",
       "customerID                                     \n",
       "7590-VHVEG           29.85        29.85    No  \n",
       "5575-GNVDE           56.95       1889.5    No  \n",
       "3668-QPYBK           53.85       108.15   Yes  \n",
       "7795-CFOCW           42.30      1840.75    No  \n",
       "9237-HQITU           70.70       151.65   Yes  "
      ]
     },
     "execution_count": 2,
     "metadata": {},
     "output_type": "execute_result"
    }
   ],
   "source": [
    "data = pd.read_csv('WA_Fn-UseC_-Telco-Customer-Churn.csv',index_col='customerID')\n",
    "# Checking the head, shape and info\n",
    "data.head()"
   ]
  },
  {
   "cell_type": "code",
   "execution_count": 3,
   "metadata": {},
   "outputs": [
    {
     "data": {
      "text/plain": [
       "(7043, 20)"
      ]
     },
     "execution_count": 3,
     "metadata": {},
     "output_type": "execute_result"
    }
   ],
   "source": [
    "data.shape"
   ]
  },
  {
   "cell_type": "code",
   "execution_count": 4,
   "metadata": {},
   "outputs": [
    {
     "name": "stdout",
     "output_type": "stream",
     "text": [
      "<class 'pandas.core.frame.DataFrame'>\n",
      "Index: 7043 entries, 7590-VHVEG to 3186-AJIEK\n",
      "Data columns (total 20 columns):\n",
      " #   Column            Non-Null Count  Dtype  \n",
      "---  ------            --------------  -----  \n",
      " 0   gender            7043 non-null   object \n",
      " 1   SeniorCitizen     7043 non-null   int64  \n",
      " 2   Partner           7043 non-null   object \n",
      " 3   Dependents        7043 non-null   object \n",
      " 4   tenure            7043 non-null   int64  \n",
      " 5   PhoneService      7043 non-null   object \n",
      " 6   MultipleLines     7043 non-null   object \n",
      " 7   InternetService   7043 non-null   object \n",
      " 8   OnlineSecurity    7043 non-null   object \n",
      " 9   OnlineBackup      7043 non-null   object \n",
      " 10  DeviceProtection  7043 non-null   object \n",
      " 11  TechSupport       7043 non-null   object \n",
      " 12  StreamingTV       7043 non-null   object \n",
      " 13  StreamingMovies   7043 non-null   object \n",
      " 14  Contract          7043 non-null   object \n",
      " 15  PaperlessBilling  7043 non-null   object \n",
      " 16  PaymentMethod     7043 non-null   object \n",
      " 17  MonthlyCharges    7043 non-null   float64\n",
      " 18  TotalCharges      7043 non-null   object \n",
      " 19  Churn             7043 non-null   object \n",
      "dtypes: float64(1), int64(2), object(17)\n",
      "memory usage: 1.1+ MB\n"
     ]
    }
   ],
   "source": [
    "data.info()"
   ]
  },
  {
   "cell_type": "code",
   "execution_count": 5,
   "metadata": {},
   "outputs": [
    {
     "data": {
      "text/plain": [
       "gender              0\n",
       "SeniorCitizen       0\n",
       "Partner             0\n",
       "Dependents          0\n",
       "tenure              0\n",
       "PhoneService        0\n",
       "MultipleLines       0\n",
       "InternetService     0\n",
       "OnlineSecurity      0\n",
       "OnlineBackup        0\n",
       "DeviceProtection    0\n",
       "TechSupport         0\n",
       "StreamingTV         0\n",
       "StreamingMovies     0\n",
       "Contract            0\n",
       "PaperlessBilling    0\n",
       "PaymentMethod       0\n",
       "MonthlyCharges      0\n",
       "TotalCharges        0\n",
       "Churn               0\n",
       "dtype: int64"
      ]
     },
     "execution_count": 5,
     "metadata": {},
     "output_type": "execute_result"
    }
   ],
   "source": [
    "# Check null values\n",
    "data.isnull().sum()"
   ]
  },
  {
   "cell_type": "code",
   "execution_count": 6,
   "metadata": {},
   "outputs": [
    {
     "name": "stdout",
     "output_type": "stream",
     "text": [
      "Categorical variables:\n",
      "['gender', 'Partner', 'Dependents', 'PhoneService', 'MultipleLines', 'InternetService', 'OnlineSecurity', 'OnlineBackup', 'DeviceProtection', 'TechSupport', 'StreamingTV', 'StreamingMovies', 'Contract', 'PaperlessBilling', 'PaymentMethod', 'TotalCharges', 'Churn']\n"
     ]
    }
   ],
   "source": [
    "# Categorical features\n",
    "columns = (data.dtypes == 'object')\n",
    "object_cols = list(columns[columns].index)\n",
    "print('Categorical variables:')\n",
    "print(object_cols)"
   ]
  },
  {
   "cell_type": "code",
   "execution_count": 7,
   "metadata": {},
   "outputs": [],
   "source": [
    "# The feature \"TotalCharges\" is in the wrong format, let's solve this\n",
    "data['TotalCharges'] = pd.to_numeric(data['TotalCharges'], errors = 'coerce')"
   ]
  },
  {
   "cell_type": "code",
   "execution_count": 8,
   "metadata": {},
   "outputs": [
    {
     "data": {
      "text/html": [
       "<div>\n",
       "<style scoped>\n",
       "    .dataframe tbody tr th:only-of-type {\n",
       "        vertical-align: middle;\n",
       "    }\n",
       "\n",
       "    .dataframe tbody tr th {\n",
       "        vertical-align: top;\n",
       "    }\n",
       "\n",
       "    .dataframe thead th {\n",
       "        text-align: right;\n",
       "    }\n",
       "</style>\n",
       "<table border=\"1\" class=\"dataframe\">\n",
       "  <thead>\n",
       "    <tr style=\"text-align: right;\">\n",
       "      <th></th>\n",
       "      <th>count</th>\n",
       "      <th>mean</th>\n",
       "      <th>std</th>\n",
       "      <th>min</th>\n",
       "      <th>25%</th>\n",
       "      <th>50%</th>\n",
       "      <th>75%</th>\n",
       "      <th>max</th>\n",
       "    </tr>\n",
       "  </thead>\n",
       "  <tbody>\n",
       "    <tr>\n",
       "      <th>SeniorCitizen</th>\n",
       "      <td>7043.0</td>\n",
       "      <td>0.162147</td>\n",
       "      <td>0.368612</td>\n",
       "      <td>0.00</td>\n",
       "      <td>0.00</td>\n",
       "      <td>0.000</td>\n",
       "      <td>0.0000</td>\n",
       "      <td>1.00</td>\n",
       "    </tr>\n",
       "    <tr>\n",
       "      <th>tenure</th>\n",
       "      <td>7043.0</td>\n",
       "      <td>32.371149</td>\n",
       "      <td>24.559481</td>\n",
       "      <td>0.00</td>\n",
       "      <td>9.00</td>\n",
       "      <td>29.000</td>\n",
       "      <td>55.0000</td>\n",
       "      <td>72.00</td>\n",
       "    </tr>\n",
       "    <tr>\n",
       "      <th>MonthlyCharges</th>\n",
       "      <td>7043.0</td>\n",
       "      <td>64.761692</td>\n",
       "      <td>30.090047</td>\n",
       "      <td>18.25</td>\n",
       "      <td>35.50</td>\n",
       "      <td>70.350</td>\n",
       "      <td>89.8500</td>\n",
       "      <td>118.75</td>\n",
       "    </tr>\n",
       "    <tr>\n",
       "      <th>TotalCharges</th>\n",
       "      <td>7032.0</td>\n",
       "      <td>2283.300441</td>\n",
       "      <td>2266.771362</td>\n",
       "      <td>18.80</td>\n",
       "      <td>401.45</td>\n",
       "      <td>1397.475</td>\n",
       "      <td>3794.7375</td>\n",
       "      <td>8684.80</td>\n",
       "    </tr>\n",
       "  </tbody>\n",
       "</table>\n",
       "</div>"
      ],
      "text/plain": [
       "                 count         mean          std    min     25%       50%  \\\n",
       "SeniorCitizen   7043.0     0.162147     0.368612   0.00    0.00     0.000   \n",
       "tenure          7043.0    32.371149    24.559481   0.00    9.00    29.000   \n",
       "MonthlyCharges  7043.0    64.761692    30.090047  18.25   35.50    70.350   \n",
       "TotalCharges    7032.0  2283.300441  2266.771362  18.80  401.45  1397.475   \n",
       "\n",
       "                      75%      max  \n",
       "SeniorCitizen      0.0000     1.00  \n",
       "tenure            55.0000    72.00  \n",
       "MonthlyCharges    89.8500   118.75  \n",
       "TotalCharges    3794.7375  8684.80  "
      ]
     },
     "execution_count": 8,
     "metadata": {},
     "output_type": "execute_result"
    }
   ],
   "source": [
    "# Statistical resume\n",
    "data.describe().T"
   ]
  },
  {
   "cell_type": "code",
   "execution_count": 9,
   "metadata": {},
   "outputs": [],
   "source": [
    "# More imports\n",
    "import matplotlib.pyplot as plt\n",
    "import seaborn as sns\n",
    "%matplotlib inline"
   ]
  },
  {
   "cell_type": "markdown",
   "metadata": {},
   "source": [
    "## Exploratory Data Analysis"
   ]
  },
  {
   "cell_type": "code",
   "execution_count": 10,
   "metadata": {},
   "outputs": [
    {
     "data": {
      "text/plain": [
       "<AxesSubplot:xlabel='Churn', ylabel='count'>"
      ]
     },
     "execution_count": 10,
     "metadata": {},
     "output_type": "execute_result"
    },
    {
     "data": {
      "image/png": "[encoded data removed]",
      "text/plain": [
       "<Figure size 432x288 with 1 Axes>"
      ]
     },
     "metadata": {
      "needs_background": "light"
     },
     "output_type": "display_data"
    }
   ],
   "source": [
    "# Let's explore the data\n",
    "sns.countplot(x='Churn',data = data,palette = 'Blues') # Unbalanced data (let's handle this later)"
   ]
  },
  {
   "cell_type": "code",
   "execution_count": 11,
   "metadata": {},
   "outputs": [
    {
     "data": {
      "text/plain": [
       "<matplotlib.legend.Legend at 0x7fa8205d5110>"
      ]
     },
     "execution_count": 11,
     "metadata": {},
     "output_type": "execute_result"
    },
    {
     "data": {
      "image/png": "[encoded data removed]",
      "text/plain": [
       "<Figure size 432x288 with 1 Axes>"
      ]
     },
     "metadata": {
      "needs_background": "light"
     },
     "output_type": "display_data"
    }
   ],
   "source": [
    "sns.countplot(x = 'Churn',data = data,hue = 'Contract',palette = 'Blues')\n",
    "plt.legend(bbox_to_anchor = (1.01,1),loc = 2, borderaxespad = 0)"
   ]
  },
  {
   "cell_type": "code",
   "execution_count": 12,
   "metadata": {},
   "outputs": [
    {
     "data": {
      "text/plain": [
       "<matplotlib.legend.Legend at 0x7fa82068bf90>"
      ]
     },
     "execution_count": 12,
     "metadata": {},
     "output_type": "execute_result"
    },
    {
     "data": {
      "image/png": "[encoded data removed]",
      "text/plain": [
       "<Figure size 432x288 with 1 Axes>"
      ]
     },
     "metadata": {
      "needs_background": "light"
     },
     "output_type": "display_data"
    }
   ],
   "source": [
    "sns.countplot(x = 'Churn',data = data,hue = 'Dependents',palette = 'Blues')\n",
    "plt.legend(bbox_to_anchor = (1.01,1),loc = 2, borderaxespad = 0)"
   ]
  },
  {
   "cell_type": "code",
   "execution_count": 13,
   "metadata": {},
   "outputs": [
    {
     "data": {
      "text/plain": [
       "<AxesSubplot:>"
      ]
     },
     "execution_count": 13,
     "metadata": {},
     "output_type": "execute_result"
    },
    {
     "data": {
      "image/png": "[encoded data removed]",
      "text/plain": [
       "<Figure size 432x288 with 2 Axes>"
      ]
     },
     "metadata": {
      "needs_background": "light"
     },
     "output_type": "display_data"
    }
   ],
   "source": [
    "sns.heatmap(data.corr(), annot = True, cmap = 'Blues')"
   ]
  },
  {
   "cell_type": "markdown",
   "metadata": {},
   "source": [
    "## Modeling the data"
   ]
  },
  {
   "cell_type": "code",
   "execution_count": 14,
   "metadata": {},
   "outputs": [],
   "source": [
    "from sklearn.model_selection import train_test_split\n",
    "from sklearn.preprocessing import LabelEncoder"
   ]
  },
  {
   "cell_type": "code",
   "execution_count": 15,
   "metadata": {},
   "outputs": [],
   "source": [
    "label_encoder = LabelEncoder()"
   ]
  },
  {
   "cell_type": "code",
   "execution_count": 16,
   "metadata": {},
   "outputs": [
    {
     "data": {
      "text/html": [
       "<div>\n",
       "<style scoped>\n",
       "    .dataframe tbody tr th:only-of-type {\n",
       "        vertical-align: middle;\n",
       "    }\n",
       "\n",
       "    .dataframe tbody tr th {\n",
       "        vertical-align: top;\n",
       "    }\n",
       "\n",
       "    .dataframe thead th {\n",
       "        text-align: right;\n",
       "    }\n",
       "</style>\n",
       "<table border=\"1\" class=\"dataframe\">\n",
       "  <thead>\n",
       "    <tr style=\"text-align: right;\">\n",
       "      <th></th>\n",
       "      <th>gender</th>\n",
       "      <th>SeniorCitizen</th>\n",
       "      <th>Partner</th>\n",
       "      <th>Dependents</th>\n",
       "      <th>tenure</th>\n",
       "      <th>PhoneService</th>\n",
       "      <th>MultipleLines</th>\n",
       "      <th>InternetService</th>\n",
       "      <th>OnlineSecurity</th>\n",
       "      <th>OnlineBackup</th>\n",
       "      <th>DeviceProtection</th>\n",
       "      <th>TechSupport</th>\n",
       "      <th>StreamingTV</th>\n",
       "      <th>StreamingMovies</th>\n",
       "      <th>Contract</th>\n",
       "      <th>PaperlessBilling</th>\n",
       "      <th>PaymentMethod</th>\n",
       "      <th>MonthlyCharges</th>\n",
       "      <th>TotalCharges</th>\n",
       "      <th>Churn</th>\n",
       "    </tr>\n",
       "    <tr>\n",
       "      <th>customerID</th>\n",
       "      <th></th>\n",
       "      <th></th>\n",
       "      <th></th>\n",
       "      <th></th>\n",
       "      <th></th>\n",
       "      <th></th>\n",
       "      <th></th>\n",
       "      <th></th>\n",
       "      <th></th>\n",
       "      <th></th>\n",
       "      <th></th>\n",
       "      <th></th>\n",
       "      <th></th>\n",
       "      <th></th>\n",
       "      <th></th>\n",
       "      <th></th>\n",
       "      <th></th>\n",
       "      <th></th>\n",
       "      <th></th>\n",
       "      <th></th>\n",
       "    </tr>\n",
       "  </thead>\n",
       "  <tbody>\n",
       "    <tr>\n",
       "      <th>7590-VHVEG</th>\n",
       "      <td>0</td>\n",
       "      <td>0</td>\n",
       "      <td>1</td>\n",
       "      <td>0</td>\n",
       "      <td>1</td>\n",
       "      <td>0</td>\n",
       "      <td>1</td>\n",
       "      <td>0</td>\n",
       "      <td>0</td>\n",
       "      <td>2</td>\n",
       "      <td>0</td>\n",
       "      <td>0</td>\n",
       "      <td>0</td>\n",
       "      <td>0</td>\n",
       "      <td>0</td>\n",
       "      <td>1</td>\n",
       "      <td>2</td>\n",
       "      <td>29.85</td>\n",
       "      <td>74</td>\n",
       "      <td>0</td>\n",
       "    </tr>\n",
       "    <tr>\n",
       "      <th>5575-GNVDE</th>\n",
       "      <td>1</td>\n",
       "      <td>0</td>\n",
       "      <td>0</td>\n",
       "      <td>0</td>\n",
       "      <td>34</td>\n",
       "      <td>1</td>\n",
       "      <td>0</td>\n",
       "      <td>0</td>\n",
       "      <td>2</td>\n",
       "      <td>0</td>\n",
       "      <td>2</td>\n",
       "      <td>0</td>\n",
       "      <td>0</td>\n",
       "      <td>0</td>\n",
       "      <td>1</td>\n",
       "      <td>0</td>\n",
       "      <td>3</td>\n",
       "      <td>56.95</td>\n",
       "      <td>3624</td>\n",
       "      <td>0</td>\n",
       "    </tr>\n",
       "    <tr>\n",
       "      <th>3668-QPYBK</th>\n",
       "      <td>1</td>\n",
       "      <td>0</td>\n",
       "      <td>0</td>\n",
       "      <td>0</td>\n",
       "      <td>2</td>\n",
       "      <td>1</td>\n",
       "      <td>0</td>\n",
       "      <td>0</td>\n",
       "      <td>2</td>\n",
       "      <td>2</td>\n",
       "      <td>0</td>\n",
       "      <td>0</td>\n",
       "      <td>0</td>\n",
       "      <td>0</td>\n",
       "      <td>0</td>\n",
       "      <td>1</td>\n",
       "      <td>3</td>\n",
       "      <td>53.85</td>\n",
       "      <td>536</td>\n",
       "      <td>1</td>\n",
       "    </tr>\n",
       "    <tr>\n",
       "      <th>7795-CFOCW</th>\n",
       "      <td>1</td>\n",
       "      <td>0</td>\n",
       "      <td>0</td>\n",
       "      <td>0</td>\n",
       "      <td>45</td>\n",
       "      <td>0</td>\n",
       "      <td>1</td>\n",
       "      <td>0</td>\n",
       "      <td>2</td>\n",
       "      <td>0</td>\n",
       "      <td>2</td>\n",
       "      <td>2</td>\n",
       "      <td>0</td>\n",
       "      <td>0</td>\n",
       "      <td>1</td>\n",
       "      <td>0</td>\n",
       "      <td>0</td>\n",
       "      <td>42.30</td>\n",
       "      <td>3570</td>\n",
       "      <td>0</td>\n",
       "    </tr>\n",
       "    <tr>\n",
       "      <th>9237-HQITU</th>\n",
       "      <td>0</td>\n",
       "      <td>0</td>\n",
       "      <td>0</td>\n",
       "      <td>0</td>\n",
       "      <td>2</td>\n",
       "      <td>1</td>\n",
       "      <td>0</td>\n",
       "      <td>1</td>\n",
       "      <td>0</td>\n",
       "      <td>0</td>\n",
       "      <td>0</td>\n",
       "      <td>0</td>\n",
       "      <td>0</td>\n",
       "      <td>0</td>\n",
       "      <td>0</td>\n",
       "      <td>1</td>\n",
       "      <td>2</td>\n",
       "      <td>70.70</td>\n",
       "      <td>674</td>\n",
       "      <td>1</td>\n",
       "    </tr>\n",
       "  </tbody>\n",
       "</table>\n",
       "</div>"
      ],
      "text/plain": [
       "            gender  SeniorCitizen  Partner  Dependents  tenure  PhoneService  \\\n",
       "customerID                                                                     \n",
       "7590-VHVEG       0              0        1           0       1             0   \n",
       "5575-GNVDE       1              0        0           0      34             1   \n",
       "3668-QPYBK       1              0        0           0       2             1   \n",
       "7795-CFOCW       1              0        0           0      45             0   \n",
       "9237-HQITU       0              0        0           0       2             1   \n",
       "\n",
       "            MultipleLines  InternetService  OnlineSecurity  OnlineBackup  \\\n",
       "customerID                                                                 \n",
       "7590-VHVEG              1                0               0             2   \n",
       "5575-GNVDE              0                0               2             0   \n",
       "3668-QPYBK              0                0               2             2   \n",
       "7795-CFOCW              1                0               2             0   \n",
       "9237-HQITU              0                1               0             0   \n",
       "\n",
       "            DeviceProtection  TechSupport  StreamingTV  StreamingMovies  \\\n",
       "customerID                                                                \n",
       "7590-VHVEG                 0            0            0                0   \n",
       "5575-GNVDE                 2            0            0                0   \n",
       "3668-QPYBK                 0            0            0                0   \n",
       "7795-CFOCW                 2            2            0                0   \n",
       "9237-HQITU                 0            0            0                0   \n",
       "\n",
       "            Contract  PaperlessBilling  PaymentMethod  MonthlyCharges  \\\n",
       "customerID                                                              \n",
       "7590-VHVEG         0                 1              2           29.85   \n",
       "5575-GNVDE         1                 0              3           56.95   \n",
       "3668-QPYBK         0                 1              3           53.85   \n",
       "7795-CFOCW         1                 0              0           42.30   \n",
       "9237-HQITU         0                 1              2           70.70   \n",
       "\n",
       "            TotalCharges  Churn  \n",
       "customerID                       \n",
       "7590-VHVEG            74      0  \n",
       "5575-GNVDE          3624      0  \n",
       "3668-QPYBK           536      1  \n",
       "7795-CFOCW          3570      0  \n",
       "9237-HQITU           674      1  "
      ]
     },
     "execution_count": 16,
     "metadata": {},
     "output_type": "execute_result"
    }
   ],
   "source": [
    "for col in object_cols:\n",
    "    data[col] = label_encoder.fit_transform(data[col])\n",
    "data.head()"
   ]
  },
  {
   "cell_type": "markdown",
   "metadata": {},
   "source": [
    "## Spliting and Creating a NN model"
   ]
  },
  {
   "cell_type": "code",
   "execution_count": 17,
   "metadata": {},
   "outputs": [],
   "source": [
    "from tensorflow.keras.models import Sequential\n",
    "from tensorflow.keras.layers import Dense, Activation, Dropout"
   ]
  },
  {
   "cell_type": "code",
   "execution_count": 18,
   "metadata": {},
   "outputs": [],
   "source": [
    "X = data.drop('Churn', axis=1).values\n",
    "y = data['Churn'].values"
   ]
  },
  {
   "cell_type": "code",
   "execution_count": 19,
   "metadata": {},
   "outputs": [],
   "source": [
    "X_train, X_test, y_train, y_test = train_test_split(X, y, test_size=0.3, random_state=42)"
   ]
  },
  {
   "cell_type": "code",
   "execution_count": 20,
   "metadata": {},
   "outputs": [
    {
     "data": {
      "text/plain": [
       "((4930, 19), (4930,))"
      ]
     },
     "execution_count": 20,
     "metadata": {},
     "output_type": "execute_result"
    }
   ],
   "source": [
    "X_train.shape, y_train.shape # Checking the shape"
   ]
  },
  {
   "cell_type": "markdown",
   "metadata": {},
   "source": [
    "### Let's use the Scaler"
   ]
  },
  {
   "cell_type": "code",
   "execution_count": 21,
   "metadata": {},
   "outputs": [
    {
     "data": {
      "text/plain": [
       "MinMaxScaler()"
      ]
     },
     "execution_count": 21,
     "metadata": {},
     "output_type": "execute_result"
    }
   ],
   "source": [
    "from sklearn.preprocessing import MinMaxScaler\n",
    "scaler = MinMaxScaler()\n",
    "scaler.fit(X_train)"
   ]
  },
  {
   "cell_type": "code",
   "execution_count": 22,
   "metadata": {},
   "outputs": [],
   "source": [
    "X_train = scaler.transform(X_train)\n",
    "X_test = scaler.transform(X_test)"
   ]
  },
  {
   "cell_type": "code",
   "execution_count": 23,
   "metadata": {},
   "outputs": [],
   "source": [
    "from tensorflow.keras.callbacks import EarlyStopping"
   ]
  },
  {
   "cell_type": "code",
   "execution_count": 24,
   "metadata": {},
   "outputs": [],
   "source": [
    "early_stop = EarlyStopping(monitor='val_loss', mode='min', verbose=1, restore_best_weights=True, patience=20)"
   ]
  },
  {
   "cell_type": "code",
   "execution_count": 25,
   "metadata": {},
   "outputs": [],
   "source": [
    "model = Sequential()\n",
    "\n",
    "model.add(Dense(units=19,activation='relu'))\n",
    "model.add(Dropout(0.5))\n",
    "\n",
    "model.add(Dense(units=9,activation='relu'))\n",
    "model.add(Dropout(0.3))\n",
    "\n",
    "model.add(Dense(units=1,activation='sigmoid'))\n",
    "model.compile(loss='binary_crossentropy', optimizer='adam', metrics=['accuracy'])"
   ]
  },
  {
   "cell_type": "code",
   "execution_count": 26,
   "metadata": {},
   "outputs": [],
   "source": [
    "# This atribute help us to handle with unbalanced data\n",
    "class_weight = {0:1.,\n",
    "                1:1.5}"
   ]
  },
  {
   "cell_type": "code",
   "execution_count": 27,
   "metadata": {},
   "outputs": [
    {
     "name": "stdout",
     "output_type": "stream",
     "text": [
      "Train on 4930 samples, validate on 2113 samples\n",
      "Epoch 1/300\n",
      "4930/4930 [==============================] - 1s 283us/sample - loss: 0.7839 - accuracy: 0.5675 - val_loss: 0.7062 - val_accuracy: 0.7283\n",
      "Epoch 2/300\n",
      "4930/4930 [==============================] - 0s 27us/sample - loss: 0.7251 - accuracy: 0.6807 - val_loss: 0.6870 - val_accuracy: 0.7283\n",
      "Epoch 3/300\n",
      "4930/4930 [==============================] - 0s 27us/sample - loss: 0.7013 - accuracy: 0.7055 - val_loss: 0.6692 - val_accuracy: 0.7288\n",
      "Epoch 4/300\n",
      "4930/4930 [==============================] - 0s 28us/sample - loss: 0.6815 - accuracy: 0.7233 - val_loss: 0.6405 - val_accuracy: 0.7397\n",
      "Epoch 5/300\n",
      "4930/4930 [==============================] - 0s 31us/sample - loss: 0.6691 - accuracy: 0.7298 - val_loss: 0.6189 - val_accuracy: 0.7657\n",
      "Epoch 6/300\n",
      "4930/4930 [==============================] - 0s 31us/sample - loss: 0.6653 - accuracy: 0.7343 - val_loss: 0.6037 - val_accuracy: 0.7780\n",
      "Epoch 7/300\n",
      "4930/4930 [==============================] - 0s 28us/sample - loss: 0.6418 - accuracy: 0.7355 - val_loss: 0.5822 - val_accuracy: 0.7823\n",
      "Epoch 8/300\n",
      "4930/4930 [==============================] - 0s 27us/sample - loss: 0.6272 - accuracy: 0.7426 - val_loss: 0.5684 - val_accuracy: 0.7847\n",
      "Epoch 9/300\n",
      "4930/4930 [==============================] - 0s 32us/sample - loss: 0.6229 - accuracy: 0.7517 - val_loss: 0.5617 - val_accuracy: 0.7861\n",
      "Epoch 10/300\n",
      "4930/4930 [==============================] - 0s 27us/sample - loss: 0.6113 - accuracy: 0.7416 - val_loss: 0.5560 - val_accuracy: 0.7851\n",
      "Epoch 11/300\n",
      "4930/4930 [==============================] - 0s 27us/sample - loss: 0.5991 - accuracy: 0.7621 - val_loss: 0.5491 - val_accuracy: 0.7856\n",
      "Epoch 12/300\n",
      "4930/4930 [==============================] - 0s 28us/sample - loss: 0.6006 - accuracy: 0.7546 - val_loss: 0.5442 - val_accuracy: 0.7894\n",
      "Epoch 13/300\n",
      "4930/4930 [==============================] - 0s 30us/sample - loss: 0.6008 - accuracy: 0.7576 - val_loss: 0.5455 - val_accuracy: 0.7903\n",
      "Epoch 14/300\n",
      "4930/4930 [==============================] - 0s 32us/sample - loss: 0.5959 - accuracy: 0.7572 - val_loss: 0.5429 - val_accuracy: 0.7922\n",
      "Epoch 15/300\n",
      "4930/4930 [==============================] - 0s 31us/sample - loss: 0.5928 - accuracy: 0.7552 - val_loss: 0.5408 - val_accuracy: 0.7927\n",
      "Epoch 16/300\n",
      "4930/4930 [==============================] - 0s 28us/sample - loss: 0.5891 - accuracy: 0.7700 - val_loss: 0.5377 - val_accuracy: 0.7927\n",
      "Epoch 17/300\n",
      "4930/4930 [==============================] - 0s 27us/sample - loss: 0.5775 - accuracy: 0.7712 - val_loss: 0.5367 - val_accuracy: 0.7913\n",
      "Epoch 18/300\n",
      "4930/4930 [==============================] - 0s 29us/sample - loss: 0.5804 - accuracy: 0.7692 - val_loss: 0.5345 - val_accuracy: 0.7889\n",
      "Epoch 19/300\n",
      "4930/4930 [==============================] - 0s 28us/sample - loss: 0.5783 - accuracy: 0.7665 - val_loss: 0.5330 - val_accuracy: 0.7894\n",
      "Epoch 20/300\n",
      "4930/4930 [==============================] - 0s 28us/sample - loss: 0.5776 - accuracy: 0.7637 - val_loss: 0.5340 - val_accuracy: 0.7894\n",
      "Epoch 21/300\n",
      "4930/4930 [==============================] - 0s 31us/sample - loss: 0.5718 - accuracy: 0.7734 - val_loss: 0.5337 - val_accuracy: 0.7903\n",
      "Epoch 22/300\n",
      "4930/4930 [==============================] - 0s 28us/sample - loss: 0.5781 - accuracy: 0.7740 - val_loss: 0.5338 - val_accuracy: 0.7894\n",
      "Epoch 23/300\n",
      "4930/4930 [==============================] - 0s 28us/sample - loss: 0.5738 - accuracy: 0.7722 - val_loss: 0.5329 - val_accuracy: 0.7889\n",
      "Epoch 24/300\n",
      "4930/4930 [==============================] - 0s 28us/sample - loss: 0.5756 - accuracy: 0.7771 - val_loss: 0.5319 - val_accuracy: 0.7861\n",
      "Epoch 25/300\n",
      "4930/4930 [==============================] - 0s 32us/sample - loss: 0.5750 - accuracy: 0.7692 - val_loss: 0.5315 - val_accuracy: 0.7875\n",
      "Epoch 26/300\n",
      "4930/4930 [==============================] - 0s 28us/sample - loss: 0.5691 - accuracy: 0.7759 - val_loss: 0.5304 - val_accuracy: 0.7880\n",
      "Epoch 27/300\n",
      "4930/4930 [==============================] - 0s 28us/sample - loss: 0.5688 - accuracy: 0.7813 - val_loss: 0.5298 - val_accuracy: 0.7880\n",
      "Epoch 28/300\n",
      "4930/4930 [==============================] - 0s 32us/sample - loss: 0.5667 - accuracy: 0.7765 - val_loss: 0.5293 - val_accuracy: 0.7875\n",
      "Epoch 29/300\n",
      "4930/4930 [==============================] - 0s 28us/sample - loss: 0.5733 - accuracy: 0.7769 - val_loss: 0.5293 - val_accuracy: 0.7899\n",
      "Epoch 30/300\n",
      "4930/4930 [==============================] - 0s 32us/sample - loss: 0.5684 - accuracy: 0.7744 - val_loss: 0.5287 - val_accuracy: 0.7880\n",
      "Epoch 31/300\n",
      "4930/4930 [==============================] - 0s 28us/sample - loss: 0.5680 - accuracy: 0.7763 - val_loss: 0.5280 - val_accuracy: 0.7889\n",
      "Epoch 32/300\n",
      "4930/4930 [==============================] - 0s 32us/sample - loss: 0.5664 - accuracy: 0.7826 - val_loss: 0.5279 - val_accuracy: 0.7918\n",
      "Epoch 33/300\n",
      "4930/4930 [==============================] - 0s 28us/sample - loss: 0.5651 - accuracy: 0.7807 - val_loss: 0.5267 - val_accuracy: 0.7937\n",
      "Epoch 34/300\n",
      "4930/4930 [==============================] - 0s 33us/sample - loss: 0.5643 - accuracy: 0.7771 - val_loss: 0.5270 - val_accuracy: 0.7956\n",
      "Epoch 35/300\n",
      "4930/4930 [==============================] - 0s 28us/sample - loss: 0.5574 - accuracy: 0.7856 - val_loss: 0.5256 - val_accuracy: 0.7932\n",
      "Epoch 36/300\n",
      "4930/4930 [==============================] - 0s 34us/sample - loss: 0.5647 - accuracy: 0.7783 - val_loss: 0.5259 - val_accuracy: 0.7918\n",
      "Epoch 37/300\n",
      "4930/4930 [==============================] - 0s 28us/sample - loss: 0.5557 - accuracy: 0.7822 - val_loss: 0.5253 - val_accuracy: 0.7932\n",
      "Epoch 38/300\n",
      "4930/4930 [==============================] - 0s 28us/sample - loss: 0.5535 - accuracy: 0.7817 - val_loss: 0.5235 - val_accuracy: 0.7937\n",
      "Epoch 39/300\n",
      "4930/4930 [==============================] - 0s 31us/sample - loss: 0.5634 - accuracy: 0.7878 - val_loss: 0.5258 - val_accuracy: 0.7937\n",
      "Epoch 40/300\n",
      "4930/4930 [==============================] - 0s 31us/sample - loss: 0.5655 - accuracy: 0.7842 - val_loss: 0.5256 - val_accuracy: 0.7932\n",
      "Epoch 41/300\n",
      "4930/4930 [==============================] - 0s 29us/sample - loss: 0.5517 - accuracy: 0.7834 - val_loss: 0.5242 - val_accuracy: 0.7941\n",
      "Epoch 42/300\n",
      "4930/4930 [==============================] - 0s 33us/sample - loss: 0.5575 - accuracy: 0.7872 - val_loss: 0.5243 - val_accuracy: 0.7965\n",
      "Epoch 43/300\n",
      "4930/4930 [==============================] - 0s 28us/sample - loss: 0.5629 - accuracy: 0.7854 - val_loss: 0.5247 - val_accuracy: 0.7979\n",
      "Epoch 44/300\n",
      "4930/4930 [==============================] - 0s 33us/sample - loss: 0.5564 - accuracy: 0.7828 - val_loss: 0.5231 - val_accuracy: 0.7984\n",
      "Epoch 45/300\n",
      "4930/4930 [==============================] - 0s 32us/sample - loss: 0.5631 - accuracy: 0.7807 - val_loss: 0.5238 - val_accuracy: 0.7932\n",
      "Epoch 46/300\n",
      "4930/4930 [==============================] - 0s 29us/sample - loss: 0.5492 - accuracy: 0.7850 - val_loss: 0.5241 - val_accuracy: 0.7965\n",
      "Epoch 47/300\n",
      "4930/4930 [==============================] - 0s 32us/sample - loss: 0.5599 - accuracy: 0.7880 - val_loss: 0.5240 - val_accuracy: 0.7989\n",
      "Epoch 48/300\n",
      "4930/4930 [==============================] - 0s 32us/sample - loss: 0.5555 - accuracy: 0.7878 - val_loss: 0.5232 - val_accuracy: 0.7960\n",
      "Epoch 49/300\n",
      "4930/4930 [==============================] - 0s 33us/sample - loss: 0.5488 - accuracy: 0.7884 - val_loss: 0.5216 - val_accuracy: 0.7941\n",
      "Epoch 50/300\n",
      "4930/4930 [==============================] - 0s 33us/sample - loss: 0.5537 - accuracy: 0.7807 - val_loss: 0.5225 - val_accuracy: 0.7993\n",
      "Epoch 51/300\n",
      "4930/4930 [==============================] - 0s 28us/sample - loss: 0.5497 - accuracy: 0.7931 - val_loss: 0.5225 - val_accuracy: 0.7979\n",
      "Epoch 52/300\n",
      "4930/4930 [==============================] - 0s 28us/sample - loss: 0.5513 - accuracy: 0.7882 - val_loss: 0.5221 - val_accuracy: 0.7965\n",
      "Epoch 53/300\n",
      "4930/4930 [==============================] - 0s 28us/sample - loss: 0.5518 - accuracy: 0.7886 - val_loss: 0.5218 - val_accuracy: 0.7979\n",
      "Epoch 54/300\n",
      "4930/4930 [==============================] - 0s 33us/sample - loss: 0.5482 - accuracy: 0.7878 - val_loss: 0.5227 - val_accuracy: 0.7946\n",
      "Epoch 55/300\n",
      "4930/4930 [==============================] - 0s 33us/sample - loss: 0.5503 - accuracy: 0.7864 - val_loss: 0.5225 - val_accuracy: 0.7993\n"
     ]
    },
    {
     "name": "stdout",
     "output_type": "stream",
     "text": [
      "Epoch 56/300\n",
      "4930/4930 [==============================] - 0s 28us/sample - loss: 0.5555 - accuracy: 0.7921 - val_loss: 0.5231 - val_accuracy: 0.7989\n",
      "Epoch 57/300\n",
      "4930/4930 [==============================] - 0s 26us/sample - loss: 0.5490 - accuracy: 0.7919 - val_loss: 0.5220 - val_accuracy: 0.7993\n",
      "Epoch 58/300\n",
      "4930/4930 [==============================] - 0s 26us/sample - loss: 0.5544 - accuracy: 0.7858 - val_loss: 0.5221 - val_accuracy: 0.8003\n",
      "Epoch 59/300\n",
      "4930/4930 [==============================] - 0s 28us/sample - loss: 0.5497 - accuracy: 0.7844 - val_loss: 0.5209 - val_accuracy: 0.7989\n",
      "Epoch 60/300\n",
      "4930/4930 [==============================] - 0s 26us/sample - loss: 0.5469 - accuracy: 0.7909 - val_loss: 0.5214 - val_accuracy: 0.7965\n",
      "Epoch 61/300\n",
      "4930/4930 [==============================] - 0s 28us/sample - loss: 0.5549 - accuracy: 0.7901 - val_loss: 0.5199 - val_accuracy: 0.8003\n",
      "Epoch 62/300\n",
      "4930/4930 [==============================] - 0s 27us/sample - loss: 0.5471 - accuracy: 0.7890 - val_loss: 0.5202 - val_accuracy: 0.8008\n",
      "Epoch 63/300\n",
      "4930/4930 [==============================] - 0s 27us/sample - loss: 0.5560 - accuracy: 0.7923 - val_loss: 0.5211 - val_accuracy: 0.8012\n",
      "Epoch 64/300\n",
      "4930/4930 [==============================] - 0s 27us/sample - loss: 0.5444 - accuracy: 0.7905 - val_loss: 0.5193 - val_accuracy: 0.8003\n",
      "Epoch 65/300\n",
      "4930/4930 [==============================] - 0s 27us/sample - loss: 0.5461 - accuracy: 0.7911 - val_loss: 0.5217 - val_accuracy: 0.8008\n",
      "Epoch 66/300\n",
      "4930/4930 [==============================] - 0s 27us/sample - loss: 0.5485 - accuracy: 0.7895 - val_loss: 0.5209 - val_accuracy: 0.7998\n",
      "Epoch 67/300\n",
      "4930/4930 [==============================] - 0s 27us/sample - loss: 0.5426 - accuracy: 0.7911 - val_loss: 0.5201 - val_accuracy: 0.7989\n",
      "Epoch 68/300\n",
      "4930/4930 [==============================] - 0s 26us/sample - loss: 0.5447 - accuracy: 0.7884 - val_loss: 0.5202 - val_accuracy: 0.8022\n",
      "Epoch 69/300\n",
      "4930/4930 [==============================] - 0s 31us/sample - loss: 0.5425 - accuracy: 0.7911 - val_loss: 0.5197 - val_accuracy: 0.8008\n",
      "Epoch 70/300\n",
      "4930/4930 [==============================] - 0s 27us/sample - loss: 0.5467 - accuracy: 0.7862 - val_loss: 0.5198 - val_accuracy: 0.7979\n",
      "Epoch 71/300\n",
      "4930/4930 [==============================] - 0s 26us/sample - loss: 0.5455 - accuracy: 0.7870 - val_loss: 0.5198 - val_accuracy: 0.7998\n",
      "Epoch 72/300\n",
      "4930/4930 [==============================] - 0s 27us/sample - loss: 0.5385 - accuracy: 0.7921 - val_loss: 0.5188 - val_accuracy: 0.8012\n",
      "Epoch 73/300\n",
      "4930/4930 [==============================] - 0s 28us/sample - loss: 0.5443 - accuracy: 0.7874 - val_loss: 0.5180 - val_accuracy: 0.8027\n",
      "Epoch 74/300\n",
      "4930/4930 [==============================] - 0s 26us/sample - loss: 0.5503 - accuracy: 0.7876 - val_loss: 0.5185 - val_accuracy: 0.7984\n",
      "Epoch 75/300\n",
      "4930/4930 [==============================] - 0s 26us/sample - loss: 0.5468 - accuracy: 0.7876 - val_loss: 0.5198 - val_accuracy: 0.7993\n",
      "Epoch 76/300\n",
      "4930/4930 [==============================] - 0s 28us/sample - loss: 0.5399 - accuracy: 0.7935 - val_loss: 0.5191 - val_accuracy: 0.8008\n",
      "Epoch 77/300\n",
      "4930/4930 [==============================] - 0s 26us/sample - loss: 0.5452 - accuracy: 0.7870 - val_loss: 0.5206 - val_accuracy: 0.7998\n",
      "Epoch 78/300\n",
      "4930/4930 [==============================] - 0s 28us/sample - loss: 0.5424 - accuracy: 0.7872 - val_loss: 0.5197 - val_accuracy: 0.7965\n",
      "Epoch 79/300\n",
      "4930/4930 [==============================] - 0s 26us/sample - loss: 0.5393 - accuracy: 0.7941 - val_loss: 0.5191 - val_accuracy: 0.7970\n",
      "Epoch 80/300\n",
      "4930/4930 [==============================] - 0s 26us/sample - loss: 0.5405 - accuracy: 0.7892 - val_loss: 0.5189 - val_accuracy: 0.7956\n",
      "Epoch 81/300\n",
      "4930/4930 [==============================] - 0s 28us/sample - loss: 0.5409 - accuracy: 0.7976 - val_loss: 0.5182 - val_accuracy: 0.7998\n",
      "Epoch 82/300\n",
      "4930/4930 [==============================] - 0s 26us/sample - loss: 0.5417 - accuracy: 0.7927 - val_loss: 0.5189 - val_accuracy: 0.8012\n",
      "Epoch 83/300\n",
      "4930/4930 [==============================] - 0s 28us/sample - loss: 0.5339 - accuracy: 0.7959 - val_loss: 0.5190 - val_accuracy: 0.7960\n",
      "Epoch 84/300\n",
      "4930/4930 [==============================] - 0s 28us/sample - loss: 0.5400 - accuracy: 0.7943 - val_loss: 0.5182 - val_accuracy: 0.7984\n",
      "Epoch 85/300\n",
      "4930/4930 [==============================] - 0s 27us/sample - loss: 0.5379 - accuracy: 0.7968 - val_loss: 0.5189 - val_accuracy: 0.7937\n",
      "Epoch 86/300\n",
      "4930/4930 [==============================] - 0s 28us/sample - loss: 0.5438 - accuracy: 0.7925 - val_loss: 0.5202 - val_accuracy: 0.7927\n",
      "Epoch 87/300\n",
      "4930/4930 [==============================] - 0s 26us/sample - loss: 0.5442 - accuracy: 0.7937 - val_loss: 0.5210 - val_accuracy: 0.7970\n",
      "Epoch 88/300\n",
      "4930/4930 [==============================] - 0s 28us/sample - loss: 0.5361 - accuracy: 0.7974 - val_loss: 0.5184 - val_accuracy: 0.7960\n",
      "Epoch 89/300\n",
      "4930/4930 [==============================] - 0s 26us/sample - loss: 0.5373 - accuracy: 0.7917 - val_loss: 0.5199 - val_accuracy: 0.7970\n",
      "Epoch 90/300\n",
      "4930/4930 [==============================] - 0s 27us/sample - loss: 0.5393 - accuracy: 0.7963 - val_loss: 0.5182 - val_accuracy: 0.7965\n",
      "Epoch 91/300\n",
      "4930/4930 [==============================] - 0s 26us/sample - loss: 0.5448 - accuracy: 0.7911 - val_loss: 0.5184 - val_accuracy: 0.7984\n",
      "Epoch 92/300\n",
      "4930/4930 [==============================] - 0s 28us/sample - loss: 0.5426 - accuracy: 0.7868 - val_loss: 0.5192 - val_accuracy: 0.7970\n",
      "Epoch 93/300\n",
      "4930/4930 [==============================] - 0s 27us/sample - loss: 0.5414 - accuracy: 0.7915 - val_loss: 0.5179 - val_accuracy: 0.7998\n",
      "Epoch 94/300\n",
      "4930/4930 [==============================] - 0s 27us/sample - loss: 0.5367 - accuracy: 0.8010 - val_loss: 0.5175 - val_accuracy: 0.7965\n",
      "Epoch 95/300\n",
      "4930/4930 [==============================] - 0s 27us/sample - loss: 0.5387 - accuracy: 0.7921 - val_loss: 0.5175 - val_accuracy: 0.7960\n",
      "Epoch 96/300\n",
      "4930/4930 [==============================] - 0s 26us/sample - loss: 0.5312 - accuracy: 0.7945 - val_loss: 0.5183 - val_accuracy: 0.7927\n",
      "Epoch 97/300\n",
      "4930/4930 [==============================] - 0s 28us/sample - loss: 0.5415 - accuracy: 0.7870 - val_loss: 0.5190 - val_accuracy: 0.7960\n",
      "Epoch 98/300\n",
      "4930/4930 [==============================] - 0s 27us/sample - loss: 0.5418 - accuracy: 0.7866 - val_loss: 0.5195 - val_accuracy: 0.7965\n",
      "Epoch 99/300\n",
      "4930/4930 [==============================] - 0s 27us/sample - loss: 0.5372 - accuracy: 0.7980 - val_loss: 0.5187 - val_accuracy: 0.7984\n",
      "Epoch 100/300\n",
      "4930/4930 [==============================] - 0s 27us/sample - loss: 0.5404 - accuracy: 0.7927 - val_loss: 0.5206 - val_accuracy: 0.7956\n",
      "Epoch 101/300\n",
      "4930/4930 [==============================] - 0s 27us/sample - loss: 0.5320 - accuracy: 0.7980 - val_loss: 0.5195 - val_accuracy: 0.7998\n",
      "Epoch 102/300\n",
      "4930/4930 [==============================] - 0s 27us/sample - loss: 0.5370 - accuracy: 0.7998 - val_loss: 0.5198 - val_accuracy: 0.7951\n",
      "Epoch 103/300\n",
      "4930/4930 [==============================] - 0s 27us/sample - loss: 0.5308 - accuracy: 0.7992 - val_loss: 0.5183 - val_accuracy: 0.7937\n",
      "Epoch 104/300\n",
      "4930/4930 [==============================] - 0s 27us/sample - loss: 0.5452 - accuracy: 0.7872 - val_loss: 0.5200 - val_accuracy: 0.7970\n",
      "Epoch 105/300\n",
      "4930/4930 [==============================] - 0s 27us/sample - loss: 0.5401 - accuracy: 0.7951 - val_loss: 0.5208 - val_accuracy: 0.8003\n",
      "Epoch 106/300\n",
      "4930/4930 [==============================] - 0s 27us/sample - loss: 0.5406 - accuracy: 0.7957 - val_loss: 0.5186 - val_accuracy: 0.7989\n",
      "Epoch 107/300\n",
      "4930/4930 [==============================] - 0s 27us/sample - loss: 0.5418 - accuracy: 0.8010 - val_loss: 0.5198 - val_accuracy: 0.7998\n",
      "Epoch 108/300\n",
      "4930/4930 [==============================] - 0s 27us/sample - loss: 0.5388 - accuracy: 0.7951 - val_loss: 0.5196 - val_accuracy: 0.8003\n",
      "Epoch 109/300\n",
      "4930/4930 [==============================] - 0s 27us/sample - loss: 0.5415 - accuracy: 0.7957 - val_loss: 0.5196 - val_accuracy: 0.7989\n",
      "Epoch 110/300\n",
      "4930/4930 [==============================] - 0s 27us/sample - loss: 0.5445 - accuracy: 0.7921 - val_loss: 0.5187 - val_accuracy: 0.7941\n"
     ]
    },
    {
     "name": "stdout",
     "output_type": "stream",
     "text": [
      "Epoch 111/300\n",
      "4930/4930 [==============================] - 0s 26us/sample - loss: 0.5439 - accuracy: 0.7947 - val_loss: 0.5187 - val_accuracy: 0.7965\n",
      "Epoch 112/300\n",
      "4930/4930 [==============================] - 0s 25us/sample - loss: 0.5377 - accuracy: 0.7968 - val_loss: 0.5188 - val_accuracy: 0.8017\n",
      "Epoch 113/300\n",
      "4930/4930 [==============================] - 0s 28us/sample - loss: 0.5382 - accuracy: 0.7961 - val_loss: 0.5204 - val_accuracy: 0.7979\n",
      "Epoch 114/300\n",
      "4930/4930 [==============================] - 0s 27us/sample - loss: 0.5297 - accuracy: 0.7980 - val_loss: 0.5202 - val_accuracy: 0.7998\n",
      "Epoch 115/300\n",
      "2432/4930 [=============>................] - ETA: 0s - loss: 0.5320 - accuracy: 0.8026Restoring model weights from the end of the best epoch.\n",
      "4930/4930 [==============================] - 0s 27us/sample - loss: 0.5298 - accuracy: 0.8008 - val_loss: 0.5201 - val_accuracy: 0.7998\n",
      "Epoch 00115: early stopping\n"
     ]
    },
    {
     "data": {
      "text/plain": [
       "<tensorflow.python.keras.callbacks.History at 0x7fa82710c150>"
      ]
     },
     "execution_count": 27,
     "metadata": {},
     "output_type": "execute_result"
    }
   ],
   "source": [
    "model.fit(x=X_train, \n",
    "          y=y_train,\n",
    "          epochs=300,\n",
    "          validation_data=(X_test, y_test), verbose=1,\n",
    "          batch_size=128,\n",
    "          callbacks=[early_stop],\n",
    "          class_weight= class_weight\n",
    "          )"
   ]
  },
  {
   "cell_type": "code",
   "execution_count": 28,
   "metadata": {},
   "outputs": [
    {
     "data": {
      "text/plain": [
       "<AxesSubplot:>"
      ]
     },
     "execution_count": 28,
     "metadata": {},
     "output_type": "execute_result"
    },
    {
     "data": {
      "image/png": "[encoded data removed]",
      "text/plain": [
       "<Figure size 432x288 with 1 Axes>"
      ]
     },
     "metadata": {
      "needs_background": "light"
     },
     "output_type": "display_data"
    }
   ],
   "source": [
    "model_loss = pd.DataFrame(model.history.history)\n",
    "model_loss.plot()"
   ]
  },
  {
   "cell_type": "code",
   "execution_count": null,
   "metadata": {},
   "outputs": [],
   "source": [
    "# These plots show us a good fit of our model to the data"
   ]
  },
  {
   "cell_type": "code",
   "execution_count": 29,
   "metadata": {},
   "outputs": [],
   "source": [
    "predictions = model.predict_classes(X_test)"
   ]
  },
  {
   "cell_type": "code",
   "execution_count": 30,
   "metadata": {},
   "outputs": [],
   "source": [
    "from sklearn.metrics import classification_report,confusion_matrix,roc_auc_score"
   ]
  },
  {
   "cell_type": "code",
   "execution_count": 31,
   "metadata": {},
   "outputs": [
    {
     "name": "stdout",
     "output_type": "stream",
     "text": [
      "              precision    recall  f1-score   support\n",
      "\n",
      "           0       0.87      0.85      0.86      1539\n",
      "           1       0.62      0.65      0.63       574\n",
      "\n",
      "    accuracy                           0.80      2113\n",
      "   macro avg       0.74      0.75      0.75      2113\n",
      "weighted avg       0.80      0.80      0.80      2113\n",
      "\n"
     ]
    }
   ],
   "source": [
    "print(classification_report(y_test,predictions))"
   ]
  },
  {
   "cell_type": "code",
   "execution_count": 32,
   "metadata": {},
   "outputs": [
    {
     "name": "stdout",
     "output_type": "stream",
     "text": [
      "Test Loss: 0.423\n",
      "Test Accuracy: 0.796\n"
     ]
    }
   ],
   "source": [
    "accuracy = model.evaluate(X_test, y_test, verbose=False)\n",
    "print('Test Loss:',round(accuracy[0],3))\n",
    "print('Test Accuracy:',round(accuracy[1],3))"
   ]
  },
  {
   "cell_type": "code",
   "execution_count": null,
   "metadata": {},
   "outputs": [],
   "source": [
    "# Our model was good to explain loyal customers, and we improve the recall score > explain the target feature"
   ]
  }
 ],
 "metadata": {
  "kernelspec": {
   "display_name": "Python 3",
   "language": "python",
   "name": "python3"
  },
  "language_info": {
   "codemirror_mode": {
    "name": "ipython",
    "version": 3
   },
   "file_extension": ".py",
   "mimetype": "text/x-python",
   "name": "python",
   "nbconvert_exporter": "python",
   "pygments_lexer": "ipython3",
   "version": "3.7.10"
  }
 },
 "nbformat": 4,
 "nbformat_minor": 4
}
