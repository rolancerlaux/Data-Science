{
 "cells": [
  {
   "cell_type": "markdown",
   "metadata": {},
   "source": [
    "## Scraping Tweets and Cleaning Data"
   ]
  },
  {
   "cell_type": "code",
   "execution_count": 1,
   "metadata": {},
   "outputs": [],
   "source": [
    "# Imports\n",
    "import tweepy\n",
    "from textblob import TextBlob"
   ]
  },
  {
   "cell_type": "markdown",
   "metadata": {},
   "source": [
    "### My Twitter API Authentication Variables"
   ]
  },
  {
   "cell_type": "code",
   "execution_count": 2,
   "metadata": {},
   "outputs": [],
   "source": [
    "API_key = ' '\n",
    "API_key_secret = ' '"
   ]
  },
  {
   "cell_type": "code",
   "execution_count": 3,
   "metadata": {},
   "outputs": [],
   "source": [
    "access_token = ' '\n",
    "access_token_secret = ' '"
   ]
  },
  {
   "cell_type": "code",
   "execution_count": 4,
   "metadata": {},
   "outputs": [],
   "source": [
    "auth = tweepy.OAuthHandler(API_key, API_key_secret)\n",
    "auth.set_access_token(access_token, access_token_secret)"
   ]
  },
  {
   "cell_type": "markdown",
   "metadata": {},
   "source": [
    "### API"
   ]
  },
  {
   "cell_type": "code",
   "execution_count": 5,
   "metadata": {},
   "outputs": [],
   "source": [
    "api = tweepy.API(auth)"
   ]
  },
  {
   "cell_type": "markdown",
   "metadata": {},
   "source": [
    "### Scraping Tweets"
   ]
  },
  {
   "cell_type": "code",
   "execution_count": 6,
   "metadata": {},
   "outputs": [],
   "source": [
    "count = 100\n",
    "tweets = api.search(q='dollar',count=count)"
   ]
  },
  {
   "cell_type": "code",
   "execution_count": 11,
   "metadata": {},
   "outputs": [],
   "source": [
    "import nltk\n",
    "from nltk.sentiment.vader import SentimentIntensityAnalyzer"
   ]
  },
  {
   "cell_type": "code",
   "execution_count": 9,
   "metadata": {},
   "outputs": [],
   "source": [
    "positive = 0\n",
    "negative = 0\n",
    "neutral = 0\n",
    "polarity = 0\n",
    "\n",
    "tweet_list = []\n",
    "positive_list = []\n",
    "negative_list = []\n",
    "neutral_list = []"
   ]
  },
  {
   "cell_type": "code",
   "execution_count": 10,
   "metadata": {},
   "outputs": [],
   "source": [
    "for tweet in tweets:\n",
    "    tweet_list.append(tweet.text)\n",
    "    analysis = TextBlob(tweet.text)\n",
    "    score = SentimentIntensityAnalyzer().polarity_scores(tweet.text)\n",
    "    neg = score['neg']\n",
    "    neu = score['neu']\n",
    "    pos = score['pos']\n",
    "    comp = score['compound']\n",
    "    polarity += analysis.sentiment.polarity\n",
    "    if neg > pos:\n",
    "        negative_list.append(tweet.text)\n",
    "        negative += 1\n",
    "\n",
    "    elif pos > neg:\n",
    "        positive_list.append(tweet.text)\n",
    "        positive += 1\n",
    "    \n",
    "    elif pos == neg:\n",
    "        neutral_list.append(tweet.text)\n",
    "        neutral += 1"
   ]
  },
  {
   "cell_type": "code",
   "execution_count": 11,
   "metadata": {},
   "outputs": [],
   "source": [
    "def percentage(part, whole):\n",
    "    return 100 * float(part)/float(whole)"
   ]
  },
  {
   "cell_type": "code",
   "execution_count": 12,
   "metadata": {},
   "outputs": [],
   "source": [
    "positive = percentage(positive, count)\n",
    "negative = percentage(negative, count)\n",
    "neutral = percentage(neutral, count)\n",
    "polarity = percentage(polarity, count)\n",
    "positive = format(positive, '.2f')\n",
    "negative = format(negative, '.2f')\n",
    "neutral = format(neutral, '.2f')"
   ]
  },
  {
   "cell_type": "markdown",
   "metadata": {},
   "source": [
    "### Data Manipulation"
   ]
  },
  {
   "cell_type": "code",
   "execution_count": 3,
   "metadata": {},
   "outputs": [],
   "source": [
    "import numpy as np\n",
    "import pandas as pd"
   ]
  },
  {
   "cell_type": "code",
   "execution_count": 14,
   "metadata": {},
   "outputs": [
    {
     "name": "stdout",
     "output_type": "stream",
     "text": [
      "total number:  100\n",
      "positive number:  40\n",
      "negative number:  30\n",
      "neutral number:  30\n"
     ]
    }
   ],
   "source": [
    "tweet_list = pd.DataFrame(tweet_list)\n",
    "neutral_list = pd.DataFrame(neutral_list)\n",
    "negative_list = pd.DataFrame(negative_list)\n",
    "positive_list = pd.DataFrame(positive_list)\n",
    "print('Total number: ',len(tweet_list))\n",
    "print('Positive number: ',len(positive_list))\n",
    "print('Negative number: ', len(negative_list))\n",
    "print('Neutral number: ',len(neutral_list))"
   ]
  },
  {
   "cell_type": "code",
   "execution_count": 2,
   "metadata": {},
   "outputs": [],
   "source": [
    "import matplotlib.pyplot as plt\n",
    "import seaborn as sns\n",
    "%matplotlib inline"
   ]
  },
  {
   "cell_type": "markdown",
   "metadata": {},
   "source": [
    "### Creating a new DataFrame"
   ]
  },
  {
   "cell_type": "code",
   "execution_count": 16,
   "metadata": {},
   "outputs": [],
   "source": [
    "# Removing the duplicates\n",
    "tweet_list.drop_duplicates(inplace = True)"
   ]
  },
  {
   "cell_type": "code",
   "execution_count": 20,
   "metadata": {},
   "outputs": [],
   "source": [
    "data = pd.DataFrame(tweet_list)"
   ]
  },
  {
   "cell_type": "code",
   "execution_count": 21,
   "metadata": {},
   "outputs": [
    {
     "data": {
      "text/html": [
       "<div>\n",
       "<style scoped>\n",
       "    .dataframe tbody tr th:only-of-type {\n",
       "        vertical-align: middle;\n",
       "    }\n",
       "\n",
       "    .dataframe tbody tr th {\n",
       "        vertical-align: top;\n",
       "    }\n",
       "\n",
       "    .dataframe thead th {\n",
       "        text-align: right;\n",
       "    }\n",
       "</style>\n",
       "<table border=\"1\" class=\"dataframe\">\n",
       "  <thead>\n",
       "    <tr style=\"text-align: right;\">\n",
       "      <th></th>\n",
       "      <th>0</th>\n",
       "    </tr>\n",
       "  </thead>\n",
       "  <tbody>\n",
       "    <tr>\n",
       "      <th>0</th>\n",
       "      <td>RT @AjepArts: The amount of people in my menti...</td>\n",
       "    </tr>\n",
       "    <tr>\n",
       "      <th>1</th>\n",
       "      <td>RT @5555academy: $CBBT x PKG 💎\\n\\n$SAVA went f...</td>\n",
       "    </tr>\n",
       "    <tr>\n",
       "      <th>2</th>\n",
       "      <td>A two dollar joint is still a good deal. $sndl</td>\n",
       "    </tr>\n",
       "    <tr>\n",
       "      <th>3</th>\n",
       "      <td>RT @DonKwahn: I hate that dollar and a dream f...</td>\n",
       "    </tr>\n",
       "    <tr>\n",
       "      <th>4</th>\n",
       "      <td>RT @BabyNeedABottle: @JohnFetterman TEN TRILLI...</td>\n",
       "    </tr>\n",
       "  </tbody>\n",
       "</table>\n",
       "</div>"
      ],
      "text/plain": [
       "                                                   0\n",
       "0  RT @AjepArts: The amount of people in my menti...\n",
       "1  RT @5555academy: $CBBT x PKG 💎\\n\\n$SAVA went f...\n",
       "2     A two dollar joint is still a good deal. $sndl\n",
       "3  RT @DonKwahn: I hate that dollar and a dream f...\n",
       "4  RT @BabyNeedABottle: @JohnFetterman TEN TRILLI..."
      ]
     },
     "execution_count": 21,
     "metadata": {},
     "output_type": "execute_result"
    }
   ],
   "source": [
    "data.head()"
   ]
  },
  {
   "cell_type": "code",
   "execution_count": 26,
   "metadata": {},
   "outputs": [],
   "source": [
    "data['text'] = data[0]"
   ]
  },
  {
   "cell_type": "markdown",
   "metadata": {},
   "source": [
    "### Cleaning the Texts"
   ]
  },
  {
   "cell_type": "code",
   "execution_count": 27,
   "metadata": {},
   "outputs": [],
   "source": [
    "import re\n",
    "import string"
   ]
  },
  {
   "cell_type": "code",
   "execution_count": 28,
   "metadata": {},
   "outputs": [],
   "source": [
    "stopwords = nltk.corpus.stopwords.words('english')"
   ]
  },
  {
   "cell_type": "code",
   "execution_count": 29,
   "metadata": {},
   "outputs": [],
   "source": [
    "remove_rt = lambda x: re.sub('RT @\\w+: ',\" \",x)\n",
    "rt = lambda x: re.sub('(@[A-Za-z0-9]+)|([^0-9A-Za-z \\t])|(\\w+:\\/\\/\\S+)',' ',x)\n",
    "data['text'] = data.text.map(remove_rt).map(rt)\n",
    "data['text'] = data.text.str.lower()"
   ]
  },
  {
   "cell_type": "code",
   "execution_count": 30,
   "metadata": {},
   "outputs": [
    {
     "data": {
      "text/html": [
       "<div>\n",
       "<style scoped>\n",
       "    .dataframe tbody tr th:only-of-type {\n",
       "        vertical-align: middle;\n",
       "    }\n",
       "\n",
       "    .dataframe tbody tr th {\n",
       "        vertical-align: top;\n",
       "    }\n",
       "\n",
       "    .dataframe thead th {\n",
       "        text-align: right;\n",
       "    }\n",
       "</style>\n",
       "<table border=\"1\" class=\"dataframe\">\n",
       "  <thead>\n",
       "    <tr style=\"text-align: right;\">\n",
       "      <th></th>\n",
       "      <th>0</th>\n",
       "      <th>text</th>\n",
       "    </tr>\n",
       "  </thead>\n",
       "  <tbody>\n",
       "    <tr>\n",
       "      <th>0</th>\n",
       "      <td>RT @AjepArts: The amount of people in my menti...</td>\n",
       "      <td>the amount of people in my mentions trying so...</td>\n",
       "    </tr>\n",
       "    <tr>\n",
       "      <th>1</th>\n",
       "      <td>RT @5555academy: $CBBT x PKG 💎\\n\\n$SAVA went f...</td>\n",
       "      <td>cbbt x pkg     sava went from  1 63 to  65 o...</td>\n",
       "    </tr>\n",
       "    <tr>\n",
       "      <th>2</th>\n",
       "      <td>A two dollar joint is still a good deal. $sndl</td>\n",
       "      <td>a two dollar joint is still a good deal   sndl</td>\n",
       "    </tr>\n",
       "    <tr>\n",
       "      <th>3</th>\n",
       "      <td>RT @DonKwahn: I hate that dollar and a dream f...</td>\n",
       "      <td>i hate that dollar and a dream fairytale ass ...</td>\n",
       "    </tr>\n",
       "    <tr>\n",
       "      <th>4</th>\n",
       "      <td>RT @BabyNeedABottle: @JohnFetterman TEN TRILLI...</td>\n",
       "      <td>ten trillion dollar reward for proof of big...</td>\n",
       "    </tr>\n",
       "  </tbody>\n",
       "</table>\n",
       "</div>"
      ],
      "text/plain": [
       "                                                   0  \\\n",
       "0  RT @AjepArts: The amount of people in my menti...   \n",
       "1  RT @5555academy: $CBBT x PKG 💎\\n\\n$SAVA went f...   \n",
       "2     A two dollar joint is still a good deal. $sndl   \n",
       "3  RT @DonKwahn: I hate that dollar and a dream f...   \n",
       "4  RT @BabyNeedABottle: @JohnFetterman TEN TRILLI...   \n",
       "\n",
       "                                                text  \n",
       "0   the amount of people in my mentions trying so...  \n",
       "1    cbbt x pkg     sava went from  1 63 to  65 o...  \n",
       "2     a two dollar joint is still a good deal   sndl  \n",
       "3   i hate that dollar and a dream fairytale ass ...  \n",
       "4     ten trillion dollar reward for proof of big...  "
      ]
     },
     "execution_count": 30,
     "metadata": {},
     "output_type": "execute_result"
    }
   ],
   "source": [
    "data.head()"
   ]
  },
  {
   "cell_type": "code",
   "execution_count": 31,
   "metadata": {},
   "outputs": [],
   "source": [
    "# Creating the polarity and subjectivity columns, which are the values that the TextBlob returns \n",
    "data[['polarity', 'subjectivity']] = data['text'].apply(lambda Text: pd.Series(TextBlob(Text).sentiment))"
   ]
  },
  {
   "cell_type": "code",
   "execution_count": 32,
   "metadata": {},
   "outputs": [
    {
     "data": {
      "text/html": [
       "<div>\n",
       "<style scoped>\n",
       "    .dataframe tbody tr th:only-of-type {\n",
       "        vertical-align: middle;\n",
       "    }\n",
       "\n",
       "    .dataframe tbody tr th {\n",
       "        vertical-align: top;\n",
       "    }\n",
       "\n",
       "    .dataframe thead th {\n",
       "        text-align: right;\n",
       "    }\n",
       "</style>\n",
       "<table border=\"1\" class=\"dataframe\">\n",
       "  <thead>\n",
       "    <tr style=\"text-align: right;\">\n",
       "      <th></th>\n",
       "      <th>0</th>\n",
       "      <th>text</th>\n",
       "      <th>polarity</th>\n",
       "      <th>subjectivity</th>\n",
       "    </tr>\n",
       "  </thead>\n",
       "  <tbody>\n",
       "    <tr>\n",
       "      <th>0</th>\n",
       "      <td>RT @AjepArts: The amount of people in my menti...</td>\n",
       "      <td>the amount of people in my mentions trying so...</td>\n",
       "      <td>-0.095833</td>\n",
       "      <td>0.470833</td>\n",
       "    </tr>\n",
       "    <tr>\n",
       "      <th>1</th>\n",
       "      <td>RT @5555academy: $CBBT x PKG 💎\\n\\n$SAVA went f...</td>\n",
       "      <td>cbbt x pkg     sava went from  1 63 to  65 o...</td>\n",
       "      <td>0.000000</td>\n",
       "      <td>0.000000</td>\n",
       "    </tr>\n",
       "    <tr>\n",
       "      <th>2</th>\n",
       "      <td>A two dollar joint is still a good deal. $sndl</td>\n",
       "      <td>a two dollar joint is still a good deal   sndl</td>\n",
       "      <td>0.700000</td>\n",
       "      <td>0.600000</td>\n",
       "    </tr>\n",
       "    <tr>\n",
       "      <th>3</th>\n",
       "      <td>RT @DonKwahn: I hate that dollar and a dream f...</td>\n",
       "      <td>i hate that dollar and a dream fairytale ass ...</td>\n",
       "      <td>-0.150000</td>\n",
       "      <td>0.787500</td>\n",
       "    </tr>\n",
       "    <tr>\n",
       "      <th>4</th>\n",
       "      <td>RT @BabyNeedABottle: @JohnFetterman TEN TRILLI...</td>\n",
       "      <td>ten trillion dollar reward for proof of big...</td>\n",
       "      <td>0.000000</td>\n",
       "      <td>0.050000</td>\n",
       "    </tr>\n",
       "  </tbody>\n",
       "</table>\n",
       "</div>"
      ],
      "text/plain": [
       "                                                   0  \\\n",
       "0  RT @AjepArts: The amount of people in my menti...   \n",
       "1  RT @5555academy: $CBBT x PKG 💎\\n\\n$SAVA went f...   \n",
       "2     A two dollar joint is still a good deal. $sndl   \n",
       "3  RT @DonKwahn: I hate that dollar and a dream f...   \n",
       "4  RT @BabyNeedABottle: @JohnFetterman TEN TRILLI...   \n",
       "\n",
       "                                                text  polarity  subjectivity  \n",
       "0   the amount of people in my mentions trying so... -0.095833      0.470833  \n",
       "1    cbbt x pkg     sava went from  1 63 to  65 o...  0.000000      0.000000  \n",
       "2     a two dollar joint is still a good deal   sndl  0.700000      0.600000  \n",
       "3   i hate that dollar and a dream fairytale ass ... -0.150000      0.787500  \n",
       "4     ten trillion dollar reward for proof of big...  0.000000      0.050000  "
      ]
     },
     "execution_count": 32,
     "metadata": {},
     "output_type": "execute_result"
    }
   ],
   "source": [
    "# Checking the head\n",
    "data.head()"
   ]
  },
  {
   "cell_type": "code",
   "execution_count": 33,
   "metadata": {},
   "outputs": [],
   "source": [
    "for index, row in data['text'].iteritems():\n",
    "    score = SentimentIntensityAnalyzer().polarity_scores(row)\n",
    "    neg = score['neg']\n",
    "    neu = score['neu']\n",
    "    pos = score['pos']\n",
    "    comp = score['compound']\n",
    "    if neg > pos:\n",
    "        data.loc[index, 'sentiment'] = \"negative\"\n",
    "    elif pos > neg:\n",
    "        data.loc[index, 'sentiment'] = \"positive\"\n",
    "    else:\n",
    "        data.loc[index, 'sentiment'] = \"neutral\"\n",
    "    data.loc[index, 'neg'] = neg\n",
    "    data.loc[index, 'neu'] = neu\n",
    "    data.loc[index, 'pos'] = pos\n",
    "    data.loc[index, 'compound'] = comp"
   ]
  },
  {
   "cell_type": "code",
   "execution_count": 34,
   "metadata": {
    "scrolled": true
   },
   "outputs": [
    {
     "data": {
      "text/html": [
       "<div>\n",
       "<style scoped>\n",
       "    .dataframe tbody tr th:only-of-type {\n",
       "        vertical-align: middle;\n",
       "    }\n",
       "\n",
       "    .dataframe tbody tr th {\n",
       "        vertical-align: top;\n",
       "    }\n",
       "\n",
       "    .dataframe thead th {\n",
       "        text-align: right;\n",
       "    }\n",
       "</style>\n",
       "<table border=\"1\" class=\"dataframe\">\n",
       "  <thead>\n",
       "    <tr style=\"text-align: right;\">\n",
       "      <th></th>\n",
       "      <th>0</th>\n",
       "      <th>text</th>\n",
       "      <th>polarity</th>\n",
       "      <th>subjectivity</th>\n",
       "      <th>sentiment</th>\n",
       "      <th>neg</th>\n",
       "      <th>neu</th>\n",
       "      <th>pos</th>\n",
       "      <th>compound</th>\n",
       "    </tr>\n",
       "  </thead>\n",
       "  <tbody>\n",
       "    <tr>\n",
       "      <th>0</th>\n",
       "      <td>RT @AjepArts: The amount of people in my menti...</td>\n",
       "      <td>the amount of people in my mentions trying so...</td>\n",
       "      <td>-0.095833</td>\n",
       "      <td>0.470833</td>\n",
       "      <td>negative</td>\n",
       "      <td>0.085</td>\n",
       "      <td>0.915</td>\n",
       "      <td>0.000</td>\n",
       "      <td>-0.2183</td>\n",
       "    </tr>\n",
       "    <tr>\n",
       "      <th>1</th>\n",
       "      <td>RT @5555academy: $CBBT x PKG 💎\\n\\n$SAVA went f...</td>\n",
       "      <td>cbbt x pkg     sava went from  1 63 to  65 o...</td>\n",
       "      <td>0.000000</td>\n",
       "      <td>0.000000</td>\n",
       "      <td>neutral</td>\n",
       "      <td>0.000</td>\n",
       "      <td>1.000</td>\n",
       "      <td>0.000</td>\n",
       "      <td>0.0000</td>\n",
       "    </tr>\n",
       "    <tr>\n",
       "      <th>2</th>\n",
       "      <td>A two dollar joint is still a good deal. $sndl</td>\n",
       "      <td>a two dollar joint is still a good deal   sndl</td>\n",
       "      <td>0.700000</td>\n",
       "      <td>0.600000</td>\n",
       "      <td>positive</td>\n",
       "      <td>0.000</td>\n",
       "      <td>0.707</td>\n",
       "      <td>0.293</td>\n",
       "      <td>0.4404</td>\n",
       "    </tr>\n",
       "    <tr>\n",
       "      <th>3</th>\n",
       "      <td>RT @DonKwahn: I hate that dollar and a dream f...</td>\n",
       "      <td>i hate that dollar and a dream fairytale ass ...</td>\n",
       "      <td>-0.150000</td>\n",
       "      <td>0.787500</td>\n",
       "      <td>negative</td>\n",
       "      <td>0.380</td>\n",
       "      <td>0.409</td>\n",
       "      <td>0.211</td>\n",
       "      <td>-0.7783</td>\n",
       "    </tr>\n",
       "    <tr>\n",
       "      <th>4</th>\n",
       "      <td>RT @BabyNeedABottle: @JohnFetterman TEN TRILLI...</td>\n",
       "      <td>ten trillion dollar reward for proof of big...</td>\n",
       "      <td>0.000000</td>\n",
       "      <td>0.050000</td>\n",
       "      <td>negative</td>\n",
       "      <td>0.382</td>\n",
       "      <td>0.462</td>\n",
       "      <td>0.155</td>\n",
       "      <td>-0.6597</td>\n",
       "    </tr>\n",
       "  </tbody>\n",
       "</table>\n",
       "</div>"
      ],
      "text/plain": [
       "                                                   0  \\\n",
       "0  RT @AjepArts: The amount of people in my menti...   \n",
       "1  RT @5555academy: $CBBT x PKG 💎\\n\\n$SAVA went f...   \n",
       "2     A two dollar joint is still a good deal. $sndl   \n",
       "3  RT @DonKwahn: I hate that dollar and a dream f...   \n",
       "4  RT @BabyNeedABottle: @JohnFetterman TEN TRILLI...   \n",
       "\n",
       "                                                text  polarity  subjectivity  \\\n",
       "0   the amount of people in my mentions trying so... -0.095833      0.470833   \n",
       "1    cbbt x pkg     sava went from  1 63 to  65 o...  0.000000      0.000000   \n",
       "2     a two dollar joint is still a good deal   sndl  0.700000      0.600000   \n",
       "3   i hate that dollar and a dream fairytale ass ... -0.150000      0.787500   \n",
       "4     ten trillion dollar reward for proof of big...  0.000000      0.050000   \n",
       "\n",
       "  sentiment    neg    neu    pos  compound  \n",
       "0  negative  0.085  0.915  0.000   -0.2183  \n",
       "1   neutral  0.000  1.000  0.000    0.0000  \n",
       "2  positive  0.000  0.707  0.293    0.4404  \n",
       "3  negative  0.380  0.409  0.211   -0.7783  \n",
       "4  negative  0.382  0.462  0.155   -0.6597  "
      ]
     },
     "execution_count": 34,
     "metadata": {},
     "output_type": "execute_result"
    }
   ],
   "source": [
    "data.head()"
   ]
  },
  {
   "cell_type": "markdown",
   "metadata": {},
   "source": [
    "### Saving the df"
   ]
  },
  {
   "cell_type": "code",
   "execution_count": 35,
   "metadata": {},
   "outputs": [],
   "source": [
    "compression_opts = dict(method='zip',\n",
    "                       archive_name='twitter.csv')  \n",
    "data.to_csv('twitter.zip', index=False,\n",
    "           compression=compression_opts)  "
   ]
  },
  {
   "cell_type": "markdown",
   "metadata": {},
   "source": [
    "## Loading the New Data"
   ]
  },
  {
   "cell_type": "code",
   "execution_count": null,
   "metadata": {},
   "outputs": [],
   "source": [
    "# Summary:\n",
    "\n",
    "# text: it's the tweet after it's cleaned\n",
    "\n",
    "# polarity: score ranging from -1 to 1\n",
    "\n",
    "# subjectivity: score ranging from -1 to 1\n",
    "\n",
    "# sentiment: positive / negative or neutral\n",
    "\n",
    "# neg: negative scores\n",
    "\n",
    "# neu: neutral scores\n",
    "\n",
    "# pos: positive scores\n",
    "\n",
    "# compound: normalized score (intensity) "
   ]
  },
  {
   "cell_type": "code",
   "execution_count": 4,
   "metadata": {},
   "outputs": [],
   "source": [
    "twitter_df = pd.read_csv('twitter.csv')"
   ]
  },
  {
   "cell_type": "code",
   "execution_count": 8,
   "metadata": {},
   "outputs": [],
   "source": [
    "del twitter_df['0']"
   ]
  },
  {
   "cell_type": "code",
   "execution_count": 9,
   "metadata": {},
   "outputs": [
    {
     "data": {
      "text/html": [
       "<div>\n",
       "<style scoped>\n",
       "    .dataframe tbody tr th:only-of-type {\n",
       "        vertical-align: middle;\n",
       "    }\n",
       "\n",
       "    .dataframe tbody tr th {\n",
       "        vertical-align: top;\n",
       "    }\n",
       "\n",
       "    .dataframe thead th {\n",
       "        text-align: right;\n",
       "    }\n",
       "</style>\n",
       "<table border=\"1\" class=\"dataframe\">\n",
       "  <thead>\n",
       "    <tr style=\"text-align: right;\">\n",
       "      <th></th>\n",
       "      <th>text</th>\n",
       "      <th>polarity</th>\n",
       "      <th>subjectivity</th>\n",
       "      <th>sentiment</th>\n",
       "      <th>neg</th>\n",
       "      <th>neu</th>\n",
       "      <th>pos</th>\n",
       "      <th>compound</th>\n",
       "    </tr>\n",
       "  </thead>\n",
       "  <tbody>\n",
       "    <tr>\n",
       "      <th>0</th>\n",
       "      <td>the amount of people in my mentions trying so...</td>\n",
       "      <td>-0.095833</td>\n",
       "      <td>0.470833</td>\n",
       "      <td>negative</td>\n",
       "      <td>0.085</td>\n",
       "      <td>0.915</td>\n",
       "      <td>0.000</td>\n",
       "      <td>-0.2183</td>\n",
       "    </tr>\n",
       "    <tr>\n",
       "      <th>1</th>\n",
       "      <td>cbbt x pkg     sava went from  1 63 to  65 o...</td>\n",
       "      <td>0.000000</td>\n",
       "      <td>0.000000</td>\n",
       "      <td>neutral</td>\n",
       "      <td>0.000</td>\n",
       "      <td>1.000</td>\n",
       "      <td>0.000</td>\n",
       "      <td>0.0000</td>\n",
       "    </tr>\n",
       "    <tr>\n",
       "      <th>2</th>\n",
       "      <td>a two dollar joint is still a good deal   sndl</td>\n",
       "      <td>0.700000</td>\n",
       "      <td>0.600000</td>\n",
       "      <td>positive</td>\n",
       "      <td>0.000</td>\n",
       "      <td>0.707</td>\n",
       "      <td>0.293</td>\n",
       "      <td>0.4404</td>\n",
       "    </tr>\n",
       "    <tr>\n",
       "      <th>3</th>\n",
       "      <td>i hate that dollar and a dream fairytale ass ...</td>\n",
       "      <td>-0.150000</td>\n",
       "      <td>0.787500</td>\n",
       "      <td>negative</td>\n",
       "      <td>0.380</td>\n",
       "      <td>0.409</td>\n",
       "      <td>0.211</td>\n",
       "      <td>-0.7783</td>\n",
       "    </tr>\n",
       "    <tr>\n",
       "      <th>4</th>\n",
       "      <td>ten trillion dollar reward for proof of big...</td>\n",
       "      <td>0.000000</td>\n",
       "      <td>0.050000</td>\n",
       "      <td>negative</td>\n",
       "      <td>0.382</td>\n",
       "      <td>0.462</td>\n",
       "      <td>0.155</td>\n",
       "      <td>-0.6597</td>\n",
       "    </tr>\n",
       "  </tbody>\n",
       "</table>\n",
       "</div>"
      ],
      "text/plain": [
       "                                                text  polarity  subjectivity  \\\n",
       "0   the amount of people in my mentions trying so... -0.095833      0.470833   \n",
       "1    cbbt x pkg     sava went from  1 63 to  65 o...  0.000000      0.000000   \n",
       "2     a two dollar joint is still a good deal   sndl  0.700000      0.600000   \n",
       "3   i hate that dollar and a dream fairytale ass ... -0.150000      0.787500   \n",
       "4     ten trillion dollar reward for proof of big...  0.000000      0.050000   \n",
       "\n",
       "  sentiment    neg    neu    pos  compound  \n",
       "0  negative  0.085  0.915  0.000   -0.2183  \n",
       "1   neutral  0.000  1.000  0.000    0.0000  \n",
       "2  positive  0.000  0.707  0.293    0.4404  \n",
       "3  negative  0.380  0.409  0.211   -0.7783  \n",
       "4  negative  0.382  0.462  0.155   -0.6597  "
      ]
     },
     "execution_count": 9,
     "metadata": {},
     "output_type": "execute_result"
    }
   ],
   "source": [
    "twitter_df.head()"
   ]
  },
  {
   "cell_type": "code",
   "execution_count": 10,
   "metadata": {},
   "outputs": [
    {
     "name": "stdout",
     "output_type": "stream",
     "text": [
      "<class 'pandas.core.frame.DataFrame'>\n",
      "RangeIndex: 87 entries, 0 to 86\n",
      "Data columns (total 8 columns):\n",
      " #   Column        Non-Null Count  Dtype  \n",
      "---  ------        --------------  -----  \n",
      " 0   text          87 non-null     object \n",
      " 1   polarity      87 non-null     float64\n",
      " 2   subjectivity  87 non-null     float64\n",
      " 3   sentiment     87 non-null     object \n",
      " 4   neg           87 non-null     float64\n",
      " 5   neu           87 non-null     float64\n",
      " 6   pos           87 non-null     float64\n",
      " 7   compound      87 non-null     float64\n",
      "dtypes: float64(6), object(2)\n",
      "memory usage: 5.6+ KB\n"
     ]
    }
   ],
   "source": [
    "twitter_df.info()"
   ]
  },
  {
   "cell_type": "code",
   "execution_count": 13,
   "metadata": {},
   "outputs": [
    {
     "data": {
      "text/plain": [
       "<matplotlib.axes._subplots.AxesSubplot at 0x7fcbe0cbf110>"
      ]
     },
     "execution_count": 13,
     "metadata": {},
     "output_type": "execute_result"
    },
    {
     "data": {
      "image/png": "[encoded data removed]",
      "text/plain": [
       "<Figure size 432x288 with 1 Axes>"
      ]
     },
     "metadata": {
      "needs_background": "light"
     },
     "output_type": "display_data"
    }
   ],
   "source": [
    "# Countplot\n",
    "sns.countplot(x='sentiment', data=twitter_df, palette='Oranges')"
   ]
  }
 ],
 "metadata": {
  "kernelspec": {
   "display_name": "Python 3",
   "language": "python",
   "name": "python3"
  },
  "language_info": {
   "codemirror_mode": {
    "name": "ipython",
    "version": 3
   },
   "file_extension": ".py",
   "mimetype": "text/x-python",
   "name": "python",
   "nbconvert_exporter": "python",
   "pygments_lexer": "ipython3",
   "version": "3.7.6"
  }
 },
 "nbformat": 4,
 "nbformat_minor": 4
}
