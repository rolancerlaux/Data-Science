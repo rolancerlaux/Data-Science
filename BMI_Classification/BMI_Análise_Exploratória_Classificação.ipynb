{
 "cells": [
  {
   "cell_type": "code",
   "execution_count": 1,
   "metadata": {},
   "outputs": [
    {
     "name": "stdout",
     "output_type": "stream",
     "text": [
      "Setup complete!\n"
     ]
    }
   ],
   "source": [
    "# Importing the libraries\n",
    "import numpy as np\n",
    "import pandas as pd\n",
    "import matplotlib.pyplot as plt\n",
    "import seaborn as sns\n",
    "import warnings\n",
    "%matplotlib inline\n",
    "print('Setup complete!')"
   ]
  },
  {
   "cell_type": "code",
   "execution_count": 2,
   "metadata": {},
   "outputs": [],
   "source": [
    "warnings.filterwarnings('ignore')"
   ]
  },
  {
   "cell_type": "markdown",
   "metadata": {},
   "source": [
    "## The data"
   ]
  },
  {
   "cell_type": "code",
   "execution_count": 3,
   "metadata": {},
   "outputs": [],
   "source": [
    "# Loading the data\n",
    "bmi = pd.read_csv('BMI.csv')"
   ]
  },
  {
   "cell_type": "code",
   "execution_count": 4,
   "metadata": {},
   "outputs": [
    {
     "data": {
      "text/html": [
       "<div>\n",
       "<style scoped>\n",
       "    .dataframe tbody tr th:only-of-type {\n",
       "        vertical-align: middle;\n",
       "    }\n",
       "\n",
       "    .dataframe tbody tr th {\n",
       "        vertical-align: top;\n",
       "    }\n",
       "\n",
       "    .dataframe thead th {\n",
       "        text-align: right;\n",
       "    }\n",
       "</style>\n",
       "<table border=\"1\" class=\"dataframe\">\n",
       "  <thead>\n",
       "    <tr style=\"text-align: right;\">\n",
       "      <th></th>\n",
       "      <th>Gender</th>\n",
       "      <th>Height</th>\n",
       "      <th>Weight</th>\n",
       "      <th>Index</th>\n",
       "    </tr>\n",
       "  </thead>\n",
       "  <tbody>\n",
       "    <tr>\n",
       "      <th>0</th>\n",
       "      <td>Male</td>\n",
       "      <td>174</td>\n",
       "      <td>96</td>\n",
       "      <td>4</td>\n",
       "    </tr>\n",
       "    <tr>\n",
       "      <th>1</th>\n",
       "      <td>Male</td>\n",
       "      <td>189</td>\n",
       "      <td>87</td>\n",
       "      <td>2</td>\n",
       "    </tr>\n",
       "    <tr>\n",
       "      <th>2</th>\n",
       "      <td>Female</td>\n",
       "      <td>185</td>\n",
       "      <td>110</td>\n",
       "      <td>4</td>\n",
       "    </tr>\n",
       "    <tr>\n",
       "      <th>3</th>\n",
       "      <td>Female</td>\n",
       "      <td>195</td>\n",
       "      <td>104</td>\n",
       "      <td>3</td>\n",
       "    </tr>\n",
       "    <tr>\n",
       "      <th>4</th>\n",
       "      <td>Male</td>\n",
       "      <td>149</td>\n",
       "      <td>61</td>\n",
       "      <td>3</td>\n",
       "    </tr>\n",
       "  </tbody>\n",
       "</table>\n",
       "</div>"
      ],
      "text/plain": [
       "   Gender  Height  Weight  Index\n",
       "0    Male     174      96      4\n",
       "1    Male     189      87      2\n",
       "2  Female     185     110      4\n",
       "3  Female     195     104      3\n",
       "4    Male     149      61      3"
      ]
     },
     "execution_count": 4,
     "metadata": {},
     "output_type": "execute_result"
    }
   ],
   "source": [
    "# Check the head, info , describe and null values\n",
    "bmi.head()"
   ]
  },
  {
   "cell_type": "code",
   "execution_count": 5,
   "metadata": {},
   "outputs": [
    {
     "name": "stdout",
     "output_type": "stream",
     "text": [
      "<class 'pandas.core.frame.DataFrame'>\n",
      "RangeIndex: 500 entries, 0 to 499\n",
      "Data columns (total 4 columns):\n",
      " #   Column  Non-Null Count  Dtype \n",
      "---  ------  --------------  ----- \n",
      " 0   Gender  500 non-null    object\n",
      " 1   Height  500 non-null    int64 \n",
      " 2   Weight  500 non-null    int64 \n",
      " 3   Index   500 non-null    int64 \n",
      "dtypes: int64(3), object(1)\n",
      "memory usage: 15.8+ KB\n"
     ]
    }
   ],
   "source": [
    "bmi.info()"
   ]
  },
  {
   "cell_type": "code",
   "execution_count": 6,
   "metadata": {},
   "outputs": [],
   "source": [
    "# About the target column\n",
    "# 0 - Extremely Weak; 1 - Weak; 2 - Normal; 3 - Overweight; 4 - Obesity; 5 - Extreme Obesity"
   ]
  },
  {
   "cell_type": "code",
   "execution_count": 7,
   "metadata": {},
   "outputs": [
    {
     "data": {
      "text/plain": [
       "Gender    0\n",
       "Height    0\n",
       "Weight    0\n",
       "Index     0\n",
       "dtype: int64"
      ]
     },
     "execution_count": 7,
     "metadata": {},
     "output_type": "execute_result"
    }
   ],
   "source": [
    "bmi.isnull().sum(axis=0)"
   ]
  },
  {
   "cell_type": "code",
   "execution_count": 8,
   "metadata": {},
   "outputs": [
    {
     "data": {
      "text/html": [
       "<div>\n",
       "<style scoped>\n",
       "    .dataframe tbody tr th:only-of-type {\n",
       "        vertical-align: middle;\n",
       "    }\n",
       "\n",
       "    .dataframe tbody tr th {\n",
       "        vertical-align: top;\n",
       "    }\n",
       "\n",
       "    .dataframe thead th {\n",
       "        text-align: right;\n",
       "    }\n",
       "</style>\n",
       "<table border=\"1\" class=\"dataframe\">\n",
       "  <thead>\n",
       "    <tr style=\"text-align: right;\">\n",
       "      <th></th>\n",
       "      <th>count</th>\n",
       "      <th>mean</th>\n",
       "      <th>std</th>\n",
       "      <th>min</th>\n",
       "      <th>25%</th>\n",
       "      <th>50%</th>\n",
       "      <th>75%</th>\n",
       "      <th>max</th>\n",
       "    </tr>\n",
       "  </thead>\n",
       "  <tbody>\n",
       "    <tr>\n",
       "      <th>Height</th>\n",
       "      <td>500.0</td>\n",
       "      <td>169.944</td>\n",
       "      <td>16.375261</td>\n",
       "      <td>140.0</td>\n",
       "      <td>156.0</td>\n",
       "      <td>170.5</td>\n",
       "      <td>184.0</td>\n",
       "      <td>199.0</td>\n",
       "    </tr>\n",
       "    <tr>\n",
       "      <th>Weight</th>\n",
       "      <td>500.0</td>\n",
       "      <td>106.000</td>\n",
       "      <td>32.382607</td>\n",
       "      <td>50.0</td>\n",
       "      <td>80.0</td>\n",
       "      <td>106.0</td>\n",
       "      <td>136.0</td>\n",
       "      <td>160.0</td>\n",
       "    </tr>\n",
       "    <tr>\n",
       "      <th>Index</th>\n",
       "      <td>500.0</td>\n",
       "      <td>3.748</td>\n",
       "      <td>1.355053</td>\n",
       "      <td>0.0</td>\n",
       "      <td>3.0</td>\n",
       "      <td>4.0</td>\n",
       "      <td>5.0</td>\n",
       "      <td>5.0</td>\n",
       "    </tr>\n",
       "  </tbody>\n",
       "</table>\n",
       "</div>"
      ],
      "text/plain": [
       "        count     mean        std    min    25%    50%    75%    max\n",
       "Height  500.0  169.944  16.375261  140.0  156.0  170.5  184.0  199.0\n",
       "Weight  500.0  106.000  32.382607   50.0   80.0  106.0  136.0  160.0\n",
       "Index   500.0    3.748   1.355053    0.0    3.0    4.0    5.0    5.0"
      ]
     },
     "execution_count": 8,
     "metadata": {},
     "output_type": "execute_result"
    }
   ],
   "source": [
    "bmi.describe().transpose()"
   ]
  },
  {
   "cell_type": "markdown",
   "metadata": {},
   "source": [
    "## Let's explore the data"
   ]
  },
  {
   "cell_type": "code",
   "execution_count": 9,
   "metadata": {},
   "outputs": [
    {
     "data": {
      "text/plain": [
       "<seaborn.axisgrid.PairGrid at 0x7fcc544068d0>"
      ]
     },
     "execution_count": 9,
     "metadata": {},
     "output_type": "execute_result"
    },
    {
     "data": {
      "image/png": "[encoded data removed]",
      "text/plain": [
       "<Figure size 612.125x540 with 12 Axes>"
      ]
     },
     "metadata": {
      "needs_background": "light"
     },
     "output_type": "display_data"
    }
   ],
   "source": [
    "# Resume\n",
    "sns.pairplot(bmi, hue='Gender')"
   ]
  },
  {
   "cell_type": "code",
   "execution_count": 10,
   "metadata": {},
   "outputs": [
    {
     "data": {
      "text/plain": [
       "<matplotlib.axes._subplots.AxesSubplot at 0x7fcc54acec10>"
      ]
     },
     "execution_count": 10,
     "metadata": {},
     "output_type": "execute_result"
    },
    {
     "data": {
      "image/png": "[encoded data removed]",
      "text/plain": [
       "<Figure size 432x288 with 1 Axes>"
      ]
     },
     "metadata": {
      "needs_background": "light"
     },
     "output_type": "display_data"
    }
   ],
   "source": [
    "# Countplot of the Gender column\n",
    "sns.countplot(x='Gender',data=bmi,palette='Oranges')"
   ]
  },
  {
   "cell_type": "code",
   "execution_count": 11,
   "metadata": {},
   "outputs": [
    {
     "data": {
      "text/plain": [
       "<matplotlib.axes._subplots.AxesSubplot at 0x7fcc54920bd0>"
      ]
     },
     "execution_count": 11,
     "metadata": {},
     "output_type": "execute_result"
    },
    {
     "data": {
      "image/png": "[encoded data removed]",
      "text/plain": [
       "<Figure size 432x288 with 1 Axes>"
      ]
     },
     "metadata": {
      "needs_background": "light"
     },
     "output_type": "display_data"
    }
   ],
   "source": [
    "# Checking outliers in the data\n",
    "sns.boxplot(x='Gender',y='Height',data=bmi,palette='Oranges')"
   ]
  },
  {
   "cell_type": "code",
   "execution_count": 12,
   "metadata": {},
   "outputs": [
    {
     "data": {
      "text/plain": [
       "<matplotlib.axes._subplots.AxesSubplot at 0x7fcc54d790d0>"
      ]
     },
     "execution_count": 12,
     "metadata": {},
     "output_type": "execute_result"
    },
    {
     "data": {
      "image/png": "[encoded data removed]",
      "text/plain": [
       "<Figure size 432x288 with 1 Axes>"
      ]
     },
     "metadata": {
      "needs_background": "light"
     },
     "output_type": "display_data"
    }
   ],
   "source": [
    "sns.boxplot(x='Gender', y='Weight',data=bmi,palette='Oranges')"
   ]
  },
  {
   "cell_type": "code",
   "execution_count": 13,
   "metadata": {},
   "outputs": [
    {
     "data": {
      "text/plain": [
       "<matplotlib.axes._subplots.AxesSubplot at 0x7fcc54e566d0>"
      ]
     },
     "execution_count": 13,
     "metadata": {},
     "output_type": "execute_result"
    },
    {
     "data": {
      "image/png": "[encoded data removed]",
      "text/plain": [
       "<Figure size 576x360 with 1 Axes>"
      ]
     },
     "metadata": {
      "needs_background": "light"
     },
     "output_type": "display_data"
    }
   ],
   "source": [
    "# From this graph, we can see a slight positive correlation\n",
    "plt.figure(figsize=(8,5))\n",
    "plt.title('Average Weight for each Index value')\n",
    "sns.barplot(x='Index',y='Weight',hue='Gender',data=bmi,palette='Oranges')"
   ]
  },
  {
   "cell_type": "code",
   "execution_count": 14,
   "metadata": {},
   "outputs": [
    {
     "data": {
      "text/plain": [
       "<matplotlib.legend.Legend at 0x7fcc5506b2d0>"
      ]
     },
     "execution_count": 14,
     "metadata": {},
     "output_type": "execute_result"
    },
    {
     "data": {
      "image/png": "[encoded data removed]",
      "text/plain": [
       "<Figure size 576x360 with 1 Axes>"
      ]
     },
     "metadata": {
      "needs_background": "light"
     },
     "output_type": "display_data"
    }
   ],
   "source": [
    "# Now from this graph we can see a slight negative correlation \n",
    "plt.figure(figsize=(8,5))\n",
    "plt.title('Average Weight for each Index value')\n",
    "sns.barplot(x='Index',y='Height',hue='Gender',data=bmi,palette='Oranges')\n",
    "plt.legend(bbox_to_anchor=(1.01,1),loc=2,borderaxespad=0)"
   ]
  },
  {
   "cell_type": "code",
   "execution_count": 15,
   "metadata": {},
   "outputs": [],
   "source": [
    "# Creating a new feature\n",
    "bmi['BMI'] = round(bmi['Weight']/((bmi['Height']/100)**2),2)"
   ]
  },
  {
   "cell_type": "code",
   "execution_count": 16,
   "metadata": {},
   "outputs": [
    {
     "data": {
      "text/html": [
       "<div>\n",
       "<style scoped>\n",
       "    .dataframe tbody tr th:only-of-type {\n",
       "        vertical-align: middle;\n",
       "    }\n",
       "\n",
       "    .dataframe tbody tr th {\n",
       "        vertical-align: top;\n",
       "    }\n",
       "\n",
       "    .dataframe thead th {\n",
       "        text-align: right;\n",
       "    }\n",
       "</style>\n",
       "<table border=\"1\" class=\"dataframe\">\n",
       "  <thead>\n",
       "    <tr style=\"text-align: right;\">\n",
       "      <th></th>\n",
       "      <th>Gender</th>\n",
       "      <th>Height</th>\n",
       "      <th>Weight</th>\n",
       "      <th>Index</th>\n",
       "      <th>BMI</th>\n",
       "    </tr>\n",
       "  </thead>\n",
       "  <tbody>\n",
       "    <tr>\n",
       "      <th>0</th>\n",
       "      <td>Male</td>\n",
       "      <td>174</td>\n",
       "      <td>96</td>\n",
       "      <td>4</td>\n",
       "      <td>31.71</td>\n",
       "    </tr>\n",
       "    <tr>\n",
       "      <th>1</th>\n",
       "      <td>Male</td>\n",
       "      <td>189</td>\n",
       "      <td>87</td>\n",
       "      <td>2</td>\n",
       "      <td>24.36</td>\n",
       "    </tr>\n",
       "    <tr>\n",
       "      <th>2</th>\n",
       "      <td>Female</td>\n",
       "      <td>185</td>\n",
       "      <td>110</td>\n",
       "      <td>4</td>\n",
       "      <td>32.14</td>\n",
       "    </tr>\n",
       "    <tr>\n",
       "      <th>3</th>\n",
       "      <td>Female</td>\n",
       "      <td>195</td>\n",
       "      <td>104</td>\n",
       "      <td>3</td>\n",
       "      <td>27.35</td>\n",
       "    </tr>\n",
       "    <tr>\n",
       "      <th>4</th>\n",
       "      <td>Male</td>\n",
       "      <td>149</td>\n",
       "      <td>61</td>\n",
       "      <td>3</td>\n",
       "      <td>27.48</td>\n",
       "    </tr>\n",
       "  </tbody>\n",
       "</table>\n",
       "</div>"
      ],
      "text/plain": [
       "   Gender  Height  Weight  Index    BMI\n",
       "0    Male     174      96      4  31.71\n",
       "1    Male     189      87      2  24.36\n",
       "2  Female     185     110      4  32.14\n",
       "3  Female     195     104      3  27.35\n",
       "4    Male     149      61      3  27.48"
      ]
     },
     "execution_count": 16,
     "metadata": {},
     "output_type": "execute_result"
    }
   ],
   "source": [
    "# Checking the head again\n",
    "bmi.head()"
   ]
  },
  {
   "cell_type": "code",
   "execution_count": 17,
   "metadata": {},
   "outputs": [
    {
     "data": {
      "text/plain": [
       "Text(4, 19, 'BMI = 18')"
      ]
     },
     "execution_count": 17,
     "metadata": {},
     "output_type": "execute_result"
    },
    {
     "data": {
      "image/png": "[encoded data removed]",
      "text/plain": [
       "<Figure size 720x432 with 1 Axes>"
      ]
     },
     "metadata": {
      "needs_background": "light"
     },
     "output_type": "display_data"
    }
   ],
   "source": [
    "# Checking the BMI distribution by the Index\n",
    "plt.figure(figsize=(10,6))\n",
    "plt.title('Index vs BMI')\n",
    "sns.lineplot(x='Index',y='BMI',hue='Gender',marker='o',data=bmi,palette='Oranges')\n",
    "plt.legend(bbox_to_anchor=(1.01,1),loc=2,borderaxespad=0)\n",
    "plt.axhline(18, ls='--')\n",
    "plt.axhline(25, ls='--')\n",
    "plt.text(4,26, \"BMI = 25\")\n",
    "plt.text(4,19, \"BMI = 18\")"
   ]
  },
  {
   "cell_type": "code",
   "execution_count": 18,
   "metadata": {},
   "outputs": [
    {
     "data": {
      "text/plain": [
       "<matplotlib.axes._subplots.AxesSubplot at 0x7fcc55386fd0>"
      ]
     },
     "execution_count": 18,
     "metadata": {},
     "output_type": "execute_result"
    },
    {
     "data": {
      "image/png": "[encoded data removed]",
      "text/plain": [
       "<Figure size 432x288 with 2 Axes>"
      ]
     },
     "metadata": {
      "needs_background": "light"
     },
     "output_type": "display_data"
    }
   ],
   "source": [
    "sns.heatmap(bmi.corr(),annot=True, cmap='Oranges')"
   ]
  },
  {
   "cell_type": "markdown",
   "metadata": {},
   "source": [
    "## Let's go to modeling "
   ]
  },
  {
   "cell_type": "code",
   "execution_count": 19,
   "metadata": {},
   "outputs": [],
   "source": [
    "from sklearn.model_selection import train_test_split"
   ]
  },
  {
   "cell_type": "code",
   "execution_count": 20,
   "metadata": {},
   "outputs": [],
   "source": [
    "# Encoding the column Gender\n",
    "bmi['Gender'] = bmi['Gender'].map({'Male':0, 'Female':1})"
   ]
  },
  {
   "cell_type": "code",
   "execution_count": 21,
   "metadata": {},
   "outputs": [],
   "source": [
    "# Spliting the data\n",
    "X_train, X_test, y_train, y_test = train_test_split(bmi.drop('Index',axis=1), \n",
    "                                                    bmi['Index'], test_size=0.20, \n",
    "                                                    random_state=42)"
   ]
  },
  {
   "cell_type": "code",
   "execution_count": 22,
   "metadata": {},
   "outputs": [],
   "source": [
    "# First let's choose some of the more common models for cross-validation:\n",
    "# Logistic Regression\n",
    "# SVC\n",
    "# Decision Tree\n",
    "# Random Forest"
   ]
  },
  {
   "cell_type": "code",
   "execution_count": 23,
   "metadata": {},
   "outputs": [],
   "source": [
    "from sklearn.linear_model import LogisticRegression\n",
    "from sklearn.svm import SVC\n",
    "from sklearn.tree import DecisionTreeClassifier\n",
    "from sklearn.ensemble import RandomForestClassifier\n",
    "from sklearn.model_selection import GridSearchCV, cross_val_score, StratifiedKFold, learning_curve"
   ]
  },
  {
   "cell_type": "code",
   "execution_count": 24,
   "metadata": {},
   "outputs": [],
   "source": [
    "from sklearn.metrics import classification_report,confusion_matrix"
   ]
  },
  {
   "cell_type": "code",
   "execution_count": 25,
   "metadata": {},
   "outputs": [],
   "source": [
    "from sklearn import metrics"
   ]
  },
  {
   "cell_type": "code",
   "execution_count": 26,
   "metadata": {},
   "outputs": [],
   "source": [
    "kfold = StratifiedKFold(n_splits=5)"
   ]
  },
  {
   "cell_type": "code",
   "execution_count": 27,
   "metadata": {},
   "outputs": [
    {
     "data": {
      "image/png": "[encoded data removed]",
      "text/plain": [
       "<Figure size 432x288 with 1 Axes>"
      ]
     },
     "metadata": {
      "needs_background": "light"
     },
     "output_type": "display_data"
    }
   ],
   "source": [
    "random_state = 42\n",
    "classifiers = []\n",
    "classifiers.append(SVC(random_state=random_state))\n",
    "classifiers.append(DecisionTreeClassifier(random_state=random_state))\n",
    "classifiers.append(RandomForestClassifier(random_state=random_state))\n",
    "classifiers.append(LogisticRegression(random_state = random_state))\n",
    "\n",
    "cv_results = []\n",
    "for classifier in classifiers:\n",
    "    cv_results.append(cross_val_score(classifier, X_train, y = y_train, scoring = \"accuracy\", cv = kfold, n_jobs=4))\n",
    "\n",
    "cv_means = []\n",
    "cv_std = []\n",
    "\n",
    "for cv_result in cv_results:\n",
    "    cv_means.append(cv_result.mean())\n",
    "    cv_std.append(cv_result.std())\n",
    "\n",
    "cv_res = pd.DataFrame({'CrossValMeans':cv_means,'CrossValErrors':cv_std,'Algorithm':['SVC','Decision Tree', 'Random Forest', 'Logistic Regression']})\n",
    "\n",
    "g = sns.barplot('CrossValMeans','Algorithm',data = cv_res, palette='Oranges',orient = 'h',**{'xerr':cv_std})\n",
    "g.set_xlabel('Mean Accuracy')\n",
    "g = g.set_title('Cross validation scores')"
   ]
  },
  {
   "cell_type": "markdown",
   "metadata": {},
   "source": [
    "# Training the models"
   ]
  },
  {
   "cell_type": "code",
   "execution_count": 28,
   "metadata": {},
   "outputs": [],
   "source": [
    "# The list that will recieve the scores values\n",
    "acscores = []"
   ]
  },
  {
   "cell_type": "markdown",
   "metadata": {},
   "source": [
    "### Suport Vector Machine > SVC"
   ]
  },
  {
   "cell_type": "code",
   "execution_count": 29,
   "metadata": {},
   "outputs": [],
   "source": [
    "svc = SVC()"
   ]
  },
  {
   "cell_type": "code",
   "execution_count": 30,
   "metadata": {},
   "outputs": [
    {
     "data": {
      "text/plain": [
       "SVC()"
      ]
     },
     "execution_count": 30,
     "metadata": {},
     "output_type": "execute_result"
    }
   ],
   "source": [
    "svc.fit(X_train,y_train)"
   ]
  },
  {
   "cell_type": "code",
   "execution_count": 31,
   "metadata": {},
   "outputs": [],
   "source": [
    "pred_SVC = svc.predict(X_test)\n",
    "accuracy = metrics.accuracy_score(y_test, pred_SVC)\n",
    "acscores.append(accuracy)"
   ]
  },
  {
   "cell_type": "code",
   "execution_count": 32,
   "metadata": {},
   "outputs": [
    {
     "name": "stdout",
     "output_type": "stream",
     "text": [
      "              precision    recall  f1-score   support\n",
      "\n",
      "           0       0.00      0.00      0.00         1\n",
      "           1       0.00      0.00      0.00         4\n",
      "           2       0.69      1.00      0.82        18\n",
      "           3       0.55      0.75      0.63         8\n",
      "           4       0.96      0.77      0.85        30\n",
      "           5       0.97      0.97      0.97        39\n",
      "\n",
      "    accuracy                           0.85       100\n",
      "   macro avg       0.53      0.58      0.55       100\n",
      "weighted avg       0.84      0.85      0.83       100\n",
      "\n"
     ]
    }
   ],
   "source": [
    "print(classification_report(y_test,pred_SVC))"
   ]
  },
  {
   "cell_type": "code",
   "execution_count": 33,
   "metadata": {},
   "outputs": [],
   "source": [
    "from sklearn.model_selection import GridSearchCV "
   ]
  },
  {
   "cell_type": "code",
   "execution_count": 34,
   "metadata": {},
   "outputs": [],
   "source": [
    "param_grid = {'C': [0.1, 1, 10, 100, 1000], 'gamma': [1, 0.1, 0.01, 0.001, 0.0001], 'kernel': ['rbf']}"
   ]
  },
  {
   "cell_type": "code",
   "execution_count": 35,
   "metadata": {},
   "outputs": [],
   "source": [
    "grid = GridSearchCV(SVC(),param_grid,refit=True, verbose=3)"
   ]
  },
  {
   "cell_type": "code",
   "execution_count": 36,
   "metadata": {},
   "outputs": [
    {
     "name": "stdout",
     "output_type": "stream",
     "text": [
      "Fitting 5 folds for each of 25 candidates, totalling 125 fits\n",
      "[CV 1/5] END .....................C=0.1, gamma=1, kernel=rbf; total time=   0.0s\n",
      "[CV 2/5] END .....................C=0.1, gamma=1, kernel=rbf; total time=   0.0s\n",
      "[CV 3/5] END .....................C=0.1, gamma=1, kernel=rbf; total time=   0.0s\n",
      "[CV 4/5] END .....................C=0.1, gamma=1, kernel=rbf; total time=   0.0s\n",
      "[CV 5/5] END .....................C=0.1, gamma=1, kernel=rbf; total time=   0.0s\n",
      "[CV 1/5] END ...................C=0.1, gamma=0.1, kernel=rbf; total time=   0.0s\n",
      "[CV 2/5] END ...................C=0.1, gamma=0.1, kernel=rbf; total time=   0.0s\n",
      "[CV 3/5] END ...................C=0.1, gamma=0.1, kernel=rbf; total time=   0.0s\n",
      "[CV 4/5] END ...................C=0.1, gamma=0.1, kernel=rbf; total time=   0.0s\n",
      "[CV 5/5] END ...................C=0.1, gamma=0.1, kernel=rbf; total time=   0.0s\n",
      "[CV 1/5] END ..................C=0.1, gamma=0.01, kernel=rbf; total time=   0.0s\n",
      "[CV 2/5] END ..................C=0.1, gamma=0.01, kernel=rbf; total time=   0.0s\n",
      "[CV 3/5] END ..................C=0.1, gamma=0.01, kernel=rbf; total time=   0.0s\n",
      "[CV 4/5] END ..................C=0.1, gamma=0.01, kernel=rbf; total time=   0.0s\n",
      "[CV 5/5] END ..................C=0.1, gamma=0.01, kernel=rbf; total time=   0.0s\n",
      "[CV 1/5] END .................C=0.1, gamma=0.001, kernel=rbf; total time=   0.0s\n",
      "[CV 2/5] END .................C=0.1, gamma=0.001, kernel=rbf; total time=   0.0s\n",
      "[CV 3/5] END .................C=0.1, gamma=0.001, kernel=rbf; total time=   0.0s\n",
      "[CV 4/5] END .................C=0.1, gamma=0.001, kernel=rbf; total time=   0.0s\n",
      "[CV 5/5] END .................C=0.1, gamma=0.001, kernel=rbf; total time=   0.0s\n",
      "[CV 1/5] END ................C=0.1, gamma=0.0001, kernel=rbf; total time=   0.0s\n",
      "[CV 2/5] END ................C=0.1, gamma=0.0001, kernel=rbf; total time=   0.0s\n",
      "[CV 3/5] END ................C=0.1, gamma=0.0001, kernel=rbf; total time=   0.0s\n",
      "[CV 4/5] END ................C=0.1, gamma=0.0001, kernel=rbf; total time=   0.0s\n",
      "[CV 5/5] END ................C=0.1, gamma=0.0001, kernel=rbf; total time=   0.0s\n",
      "[CV 1/5] END .......................C=1, gamma=1, kernel=rbf; total time=   0.0s\n",
      "[CV 2/5] END .......................C=1, gamma=1, kernel=rbf; total time=   0.0s\n",
      "[CV 3/5] END .......................C=1, gamma=1, kernel=rbf; total time=   0.0s\n",
      "[CV 4/5] END .......................C=1, gamma=1, kernel=rbf; total time=   0.0s\n",
      "[CV 5/5] END .......................C=1, gamma=1, kernel=rbf; total time=   0.0s\n",
      "[CV 1/5] END .....................C=1, gamma=0.1, kernel=rbf; total time=   0.0s\n",
      "[CV 2/5] END .....................C=1, gamma=0.1, kernel=rbf; total time=   0.0s\n",
      "[CV 3/5] END .....................C=1, gamma=0.1, kernel=rbf; total time=   0.0s\n",
      "[CV 4/5] END .....................C=1, gamma=0.1, kernel=rbf; total time=   0.0s\n",
      "[CV 5/5] END .....................C=1, gamma=0.1, kernel=rbf; total time=   0.0s\n",
      "[CV 1/5] END ....................C=1, gamma=0.01, kernel=rbf; total time=   0.0s\n",
      "[CV 2/5] END ....................C=1, gamma=0.01, kernel=rbf; total time=   0.0s\n",
      "[CV 3/5] END ....................C=1, gamma=0.01, kernel=rbf; total time=   0.0s\n",
      "[CV 4/5] END ....................C=1, gamma=0.01, kernel=rbf; total time=   0.0s\n",
      "[CV 5/5] END ....................C=1, gamma=0.01, kernel=rbf; total time=   0.0s\n",
      "[CV 1/5] END ...................C=1, gamma=0.001, kernel=rbf; total time=   0.0s\n",
      "[CV 2/5] END ...................C=1, gamma=0.001, kernel=rbf; total time=   0.0s\n",
      "[CV 3/5] END ...................C=1, gamma=0.001, kernel=rbf; total time=   0.0s\n",
      "[CV 4/5] END ...................C=1, gamma=0.001, kernel=rbf; total time=   0.0s\n",
      "[CV 5/5] END ...................C=1, gamma=0.001, kernel=rbf; total time=   0.0s\n",
      "[CV 1/5] END ..................C=1, gamma=0.0001, kernel=rbf; total time=   0.0s\n",
      "[CV 2/5] END ..................C=1, gamma=0.0001, kernel=rbf; total time=   0.0s\n",
      "[CV 3/5] END ..................C=1, gamma=0.0001, kernel=rbf; total time=   0.0s\n",
      "[CV 4/5] END ..................C=1, gamma=0.0001, kernel=rbf; total time=   0.0s\n",
      "[CV 5/5] END ..................C=1, gamma=0.0001, kernel=rbf; total time=   0.0s\n",
      "[CV 1/5] END ......................C=10, gamma=1, kernel=rbf; total time=   0.0s\n",
      "[CV 2/5] END ......................C=10, gamma=1, kernel=rbf; total time=   0.0s\n",
      "[CV 3/5] END ......................C=10, gamma=1, kernel=rbf; total time=   0.0s\n",
      "[CV 4/5] END ......................C=10, gamma=1, kernel=rbf; total time=   0.0s\n",
      "[CV 5/5] END ......................C=10, gamma=1, kernel=rbf; total time=   0.0s\n",
      "[CV 1/5] END ....................C=10, gamma=0.1, kernel=rbf; total time=   0.0s\n",
      "[CV 2/5] END ....................C=10, gamma=0.1, kernel=rbf; total time=   0.0s\n",
      "[CV 3/5] END ....................C=10, gamma=0.1, kernel=rbf; total time=   0.0s\n",
      "[CV 4/5] END ....................C=10, gamma=0.1, kernel=rbf; total time=   0.0s\n",
      "[CV 5/5] END ....................C=10, gamma=0.1, kernel=rbf; total time=   0.0s\n",
      "[CV 1/5] END ...................C=10, gamma=0.01, kernel=rbf; total time=   0.0s\n",
      "[CV 2/5] END ...................C=10, gamma=0.01, kernel=rbf; total time=   0.0s\n",
      "[CV 3/5] END ...................C=10, gamma=0.01, kernel=rbf; total time=   0.0s\n",
      "[CV 4/5] END ...................C=10, gamma=0.01, kernel=rbf; total time=   0.0s\n",
      "[CV 5/5] END ...................C=10, gamma=0.01, kernel=rbf; total time=   0.0s\n",
      "[CV 1/5] END ..................C=10, gamma=0.001, kernel=rbf; total time=   0.0s\n",
      "[CV 2/5] END ..................C=10, gamma=0.001, kernel=rbf; total time=   0.0s\n",
      "[CV 3/5] END ..................C=10, gamma=0.001, kernel=rbf; total time=   0.0s\n",
      "[CV 4/5] END ..................C=10, gamma=0.001, kernel=rbf; total time=   0.0s\n",
      "[CV 5/5] END ..................C=10, gamma=0.001, kernel=rbf; total time=   0.0s\n",
      "[CV 1/5] END .................C=10, gamma=0.0001, kernel=rbf; total time=   0.0s\n",
      "[CV 2/5] END .................C=10, gamma=0.0001, kernel=rbf; total time=   0.0s\n",
      "[CV 3/5] END .................C=10, gamma=0.0001, kernel=rbf; total time=   0.0s\n",
      "[CV 4/5] END .................C=10, gamma=0.0001, kernel=rbf; total time=   0.0s\n",
      "[CV 5/5] END .................C=10, gamma=0.0001, kernel=rbf; total time=   0.0s\n",
      "[CV 1/5] END .....................C=100, gamma=1, kernel=rbf; total time=   0.1s\n",
      "[CV 2/5] END .....................C=100, gamma=1, kernel=rbf; total time=   0.0s\n",
      "[CV 3/5] END .....................C=100, gamma=1, kernel=rbf; total time=   0.0s\n",
      "[CV 4/5] END .....................C=100, gamma=1, kernel=rbf; total time=   0.0s\n",
      "[CV 5/5] END .....................C=100, gamma=1, kernel=rbf; total time=   0.0s\n",
      "[CV 1/5] END ...................C=100, gamma=0.1, kernel=rbf; total time=   0.0s\n",
      "[CV 2/5] END ...................C=100, gamma=0.1, kernel=rbf; total time=   0.0s\n",
      "[CV 3/5] END ...................C=100, gamma=0.1, kernel=rbf; total time=   0.0s\n",
      "[CV 4/5] END ...................C=100, gamma=0.1, kernel=rbf; total time=   0.0s\n",
      "[CV 5/5] END ...................C=100, gamma=0.1, kernel=rbf; total time=   0.0s\n",
      "[CV 1/5] END ..................C=100, gamma=0.01, kernel=rbf; total time=   0.0s\n",
      "[CV 2/5] END ..................C=100, gamma=0.01, kernel=rbf; total time=   0.0s\n",
      "[CV 3/5] END ..................C=100, gamma=0.01, kernel=rbf; total time=   0.0s\n",
      "[CV 4/5] END ..................C=100, gamma=0.01, kernel=rbf; total time=   0.0s\n",
      "[CV 5/5] END ..................C=100, gamma=0.01, kernel=rbf; total time=   0.0s\n",
      "[CV 1/5] END .................C=100, gamma=0.001, kernel=rbf; total time=   0.0s\n",
      "[CV 2/5] END .................C=100, gamma=0.001, kernel=rbf; total time=   0.0s\n",
      "[CV 3/5] END .................C=100, gamma=0.001, kernel=rbf; total time=   0.0s\n",
      "[CV 4/5] END .................C=100, gamma=0.001, kernel=rbf; total time=   0.0s\n",
      "[CV 5/5] END .................C=100, gamma=0.001, kernel=rbf; total time=   0.0s\n",
      "[CV 1/5] END ................C=100, gamma=0.0001, kernel=rbf; total time=   0.0s\n",
      "[CV 2/5] END ................C=100, gamma=0.0001, kernel=rbf; total time=   0.0s\n",
      "[CV 3/5] END ................C=100, gamma=0.0001, kernel=rbf; total time=   0.0s\n",
      "[CV 4/5] END ................C=100, gamma=0.0001, kernel=rbf; total time=   0.0s\n",
      "[CV 5/5] END ................C=100, gamma=0.0001, kernel=rbf; total time=   0.0s\n",
      "[CV 1/5] END ....................C=1000, gamma=1, kernel=rbf; total time=   0.0s\n"
     ]
    },
    {
     "name": "stdout",
     "output_type": "stream",
     "text": [
      "[CV 2/5] END ....................C=1000, gamma=1, kernel=rbf; total time=   0.0s\n",
      "[CV 3/5] END ....................C=1000, gamma=1, kernel=rbf; total time=   0.0s\n",
      "[CV 4/5] END ....................C=1000, gamma=1, kernel=rbf; total time=   0.0s\n",
      "[CV 5/5] END ....................C=1000, gamma=1, kernel=rbf; total time=   0.0s\n",
      "[CV 1/5] END ..................C=1000, gamma=0.1, kernel=rbf; total time=   0.0s\n",
      "[CV 2/5] END ..................C=1000, gamma=0.1, kernel=rbf; total time=   0.0s\n",
      "[CV 3/5] END ..................C=1000, gamma=0.1, kernel=rbf; total time=   0.0s\n",
      "[CV 4/5] END ..................C=1000, gamma=0.1, kernel=rbf; total time=   0.1s\n",
      "[CV 5/5] END ..................C=1000, gamma=0.1, kernel=rbf; total time=   0.1s\n",
      "[CV 1/5] END .................C=1000, gamma=0.01, kernel=rbf; total time=   0.0s\n",
      "[CV 2/5] END .................C=1000, gamma=0.01, kernel=rbf; total time=   0.0s\n",
      "[CV 3/5] END .................C=1000, gamma=0.01, kernel=rbf; total time=   0.0s\n",
      "[CV 4/5] END .................C=1000, gamma=0.01, kernel=rbf; total time=   0.0s\n",
      "[CV 5/5] END .................C=1000, gamma=0.01, kernel=rbf; total time=   0.0s\n",
      "[CV 1/5] END ................C=1000, gamma=0.001, kernel=rbf; total time=   0.0s\n",
      "[CV 2/5] END ................C=1000, gamma=0.001, kernel=rbf; total time=   0.0s\n",
      "[CV 3/5] END ................C=1000, gamma=0.001, kernel=rbf; total time=   0.0s\n",
      "[CV 4/5] END ................C=1000, gamma=0.001, kernel=rbf; total time=   0.0s\n",
      "[CV 5/5] END ................C=1000, gamma=0.001, kernel=rbf; total time=   0.0s\n",
      "[CV 1/5] END ...............C=1000, gamma=0.0001, kernel=rbf; total time=   0.0s\n",
      "[CV 2/5] END ...............C=1000, gamma=0.0001, kernel=rbf; total time=   0.0s\n",
      "[CV 3/5] END ...............C=1000, gamma=0.0001, kernel=rbf; total time=   0.0s\n",
      "[CV 4/5] END ...............C=1000, gamma=0.0001, kernel=rbf; total time=   0.0s\n",
      "[CV 5/5] END ...............C=1000, gamma=0.0001, kernel=rbf; total time=   0.0s\n"
     ]
    },
    {
     "data": {
      "text/plain": [
       "GridSearchCV(estimator=SVC(),\n",
       "             param_grid={'C': [0.1, 1, 10, 100, 1000],\n",
       "                         'gamma': [1, 0.1, 0.01, 0.001, 0.0001],\n",
       "                         'kernel': ['rbf']},\n",
       "             verbose=3)"
      ]
     },
     "execution_count": 36,
     "metadata": {},
     "output_type": "execute_result"
    }
   ],
   "source": [
    "grid.fit(X_train,y_train)"
   ]
  },
  {
   "cell_type": "code",
   "execution_count": 37,
   "metadata": {},
   "outputs": [
    {
     "data": {
      "text/plain": [
       "{'C': 1000, 'gamma': 0.0001, 'kernel': 'rbf'}"
      ]
     },
     "execution_count": 37,
     "metadata": {},
     "output_type": "execute_result"
    }
   ],
   "source": [
    "grid.best_params_"
   ]
  },
  {
   "cell_type": "code",
   "execution_count": 38,
   "metadata": {},
   "outputs": [
    {
     "data": {
      "text/plain": [
       "SVC(C=1000, gamma=0.0001)"
      ]
     },
     "execution_count": 38,
     "metadata": {},
     "output_type": "execute_result"
    }
   ],
   "source": [
    "grid.best_estimator_"
   ]
  },
  {
   "cell_type": "code",
   "execution_count": 39,
   "metadata": {},
   "outputs": [],
   "source": [
    "grid_pred = grid.predict(X_test)\n",
    "accuracy = metrics.accuracy_score(y_test, grid_pred)\n",
    "acscores.append(accuracy)"
   ]
  },
  {
   "cell_type": "code",
   "execution_count": 40,
   "metadata": {},
   "outputs": [
    {
     "name": "stdout",
     "output_type": "stream",
     "text": [
      "              precision    recall  f1-score   support\n",
      "\n",
      "           0       1.00      1.00      1.00         1\n",
      "           1       1.00      1.00      1.00         4\n",
      "           2       1.00      1.00      1.00        18\n",
      "           3       1.00      1.00      1.00         8\n",
      "           4       0.93      0.93      0.93        30\n",
      "           5       0.95      0.95      0.95        39\n",
      "\n",
      "    accuracy                           0.96       100\n",
      "   macro avg       0.98      0.98      0.98       100\n",
      "weighted avg       0.96      0.96      0.96       100\n",
      "\n"
     ]
    }
   ],
   "source": [
    "print(classification_report(y_test,grid_pred))"
   ]
  },
  {
   "cell_type": "markdown",
   "metadata": {},
   "source": [
    "### Decision Tree Classifier"
   ]
  },
  {
   "cell_type": "code",
   "execution_count": 41,
   "metadata": {},
   "outputs": [
    {
     "data": {
      "text/plain": [
       "DecisionTreeClassifier()"
      ]
     },
     "execution_count": 41,
     "metadata": {},
     "output_type": "execute_result"
    }
   ],
   "source": [
    "dtree = DecisionTreeClassifier()\n",
    "\n",
    "dtree.fit(X_train, y_train)"
   ]
  },
  {
   "cell_type": "code",
   "execution_count": 42,
   "metadata": {},
   "outputs": [],
   "source": [
    "pred_dtree = dtree.predict(X_test)\n",
    "accuracy = metrics.accuracy_score(y_test, pred_dtree)\n",
    "acscores.append(accuracy)"
   ]
  },
  {
   "cell_type": "code",
   "execution_count": 43,
   "metadata": {},
   "outputs": [
    {
     "name": "stdout",
     "output_type": "stream",
     "text": [
      "              precision    recall  f1-score   support\n",
      "\n",
      "           0       1.00      1.00      1.00         1\n",
      "           1       1.00      1.00      1.00         4\n",
      "           2       1.00      1.00      1.00        18\n",
      "           3       1.00      1.00      1.00         8\n",
      "           4       1.00      0.97      0.98        30\n",
      "           5       0.97      1.00      0.99        39\n",
      "\n",
      "    accuracy                           0.99       100\n",
      "   macro avg       1.00      0.99      1.00       100\n",
      "weighted avg       0.99      0.99      0.99       100\n",
      "\n"
     ]
    }
   ],
   "source": [
    "print(classification_report(y_test,pred_dtree))"
   ]
  },
  {
   "cell_type": "markdown",
   "metadata": {},
   "source": [
    "### Random Forest Classifier"
   ]
  },
  {
   "cell_type": "code",
   "execution_count": 44,
   "metadata": {},
   "outputs": [],
   "source": [
    "rfc = RandomForestClassifier(n_estimators=500)"
   ]
  },
  {
   "cell_type": "code",
   "execution_count": 45,
   "metadata": {},
   "outputs": [
    {
     "data": {
      "text/plain": [
       "RandomForestClassifier(n_estimators=500)"
      ]
     },
     "execution_count": 45,
     "metadata": {},
     "output_type": "execute_result"
    }
   ],
   "source": [
    "rfc.fit(X_train, y_train)"
   ]
  },
  {
   "cell_type": "code",
   "execution_count": 46,
   "metadata": {},
   "outputs": [],
   "source": [
    "rfc_pred = rfc.predict(X_test)\n",
    "accuracy = metrics.accuracy_score(y_test, rfc_pred)\n",
    "acscores.append(accuracy)"
   ]
  },
  {
   "cell_type": "code",
   "execution_count": 47,
   "metadata": {},
   "outputs": [
    {
     "name": "stdout",
     "output_type": "stream",
     "text": [
      "              precision    recall  f1-score   support\n",
      "\n",
      "           0       1.00      1.00      1.00         1\n",
      "           1       1.00      1.00      1.00         4\n",
      "           2       1.00      1.00      1.00        18\n",
      "           3       1.00      1.00      1.00         8\n",
      "           4       1.00      0.97      0.98        30\n",
      "           5       0.97      1.00      0.99        39\n",
      "\n",
      "    accuracy                           0.99       100\n",
      "   macro avg       1.00      0.99      1.00       100\n",
      "weighted avg       0.99      0.99      0.99       100\n",
      "\n"
     ]
    }
   ],
   "source": [
    "print(classification_report(y_test,rfc_pred))"
   ]
  },
  {
   "cell_type": "markdown",
   "metadata": {},
   "source": [
    "### Logistic Regression"
   ]
  },
  {
   "cell_type": "code",
   "execution_count": 48,
   "metadata": {},
   "outputs": [],
   "source": [
    "logmodel = LogisticRegression()"
   ]
  },
  {
   "cell_type": "code",
   "execution_count": 49,
   "metadata": {},
   "outputs": [],
   "source": [
    "from sklearn import preprocessing"
   ]
  },
  {
   "cell_type": "code",
   "execution_count": 50,
   "metadata": {},
   "outputs": [
    {
     "data": {
      "text/plain": [
       "array([[-1.        , -0.56559786, -0.52781773, -0.23494122],\n",
       "       [-1.        ,  0.52179989,  0.64786069,  0.15424099],\n",
       "       [-1.        ,  0.09892299,  1.01912756,  0.69322164],\n",
       "       ...,\n",
       "       [-1.        ,  0.46138891,  0.98818865,  0.44208896],\n",
       "       [-1.        , -0.14272096,  1.60696677,  1.35409709],\n",
       "       [-1.        , -0.56559786,  1.51415005,  1.634602  ]])"
      ]
     },
     "execution_count": 50,
     "metadata": {},
     "output_type": "execute_result"
    }
   ],
   "source": [
    "scaler = preprocessing.StandardScaler().fit(X_train)\n",
    "scaler\n",
    "\n",
    "scaler.mean_\n",
    "\n",
    "scaler.scale_\n",
    "\n",
    "X_scaled = scaler.transform(X_train)\n",
    "X_scaled"
   ]
  },
  {
   "cell_type": "code",
   "execution_count": 51,
   "metadata": {},
   "outputs": [
    {
     "data": {
      "text/plain": [
       "array([ 0.00000000e+00, -6.83897383e-16, -6.21724894e-17,  2.28705943e-16])"
      ]
     },
     "execution_count": 51,
     "metadata": {},
     "output_type": "execute_result"
    }
   ],
   "source": [
    "X_scaled.mean(axis=0)"
   ]
  },
  {
   "cell_type": "code",
   "execution_count": 52,
   "metadata": {},
   "outputs": [
    {
     "data": {
      "text/plain": [
       "array([1., 1., 1., 1.])"
      ]
     },
     "execution_count": 52,
     "metadata": {},
     "output_type": "execute_result"
    }
   ],
   "source": [
    "X_scaled.std(axis=0)"
   ]
  },
  {
   "cell_type": "code",
   "execution_count": 53,
   "metadata": {},
   "outputs": [
    {
     "data": {
      "text/plain": [
       "LogisticRegression()"
      ]
     },
     "execution_count": 53,
     "metadata": {},
     "output_type": "execute_result"
    }
   ],
   "source": [
    "logmodel.fit(X_train, y_train)"
   ]
  },
  {
   "cell_type": "code",
   "execution_count": 54,
   "metadata": {},
   "outputs": [],
   "source": [
    "logmodel_pred = logmodel.predict(X_test)\n",
    "accuracy = metrics.accuracy_score(y_test, logmodel_pred)\n",
    "acscores.append(accuracy)"
   ]
  },
  {
   "cell_type": "code",
   "execution_count": 55,
   "metadata": {},
   "outputs": [
    {
     "name": "stdout",
     "output_type": "stream",
     "text": [
      "              precision    recall  f1-score   support\n",
      "\n",
      "           0       1.00      1.00      1.00         1\n",
      "           1       0.75      0.75      0.75         4\n",
      "           2       0.89      0.94      0.92        18\n",
      "           3       0.70      0.88      0.78         8\n",
      "           4       0.93      0.87      0.90        30\n",
      "           5       0.97      0.95      0.96        39\n",
      "\n",
      "    accuracy                           0.91       100\n",
      "   macro avg       0.87      0.90      0.88       100\n",
      "weighted avg       0.92      0.91      0.91       100\n",
      "\n"
     ]
    }
   ],
   "source": [
    "print(classification_report(y_test,logmodel_pred))"
   ]
  },
  {
   "cell_type": "markdown",
   "metadata": {},
   "source": [
    "# Conclusion"
   ]
  },
  {
   "cell_type": "code",
   "execution_count": 56,
   "metadata": {},
   "outputs": [
    {
     "data": {
      "text/plain": [
       "[0.85, 0.96, 0.99, 0.99, 0.91]"
      ]
     },
     "execution_count": 56,
     "metadata": {},
     "output_type": "execute_result"
    }
   ],
   "source": [
    "acscores"
   ]
  },
  {
   "cell_type": "code",
   "execution_count": 58,
   "metadata": {
    "scrolled": true
   },
   "outputs": [
    {
     "data": {
      "text/plain": [
       "<matplotlib.axes._subplots.AxesSubplot at 0x7fcc5634fcd0>"
      ]
     },
     "execution_count": 58,
     "metadata": {},
     "output_type": "execute_result"
    },
    {
     "data": {
      "image/png": "[encoded data removed]",
      "text/plain": [
       "<Figure size 576x288 with 1 Axes>"
      ]
     },
     "metadata": {
      "needs_background": "light"
     },
     "output_type": "display_data"
    }
   ],
   "source": [
    "models_names = ['SVC','Grid SVC','Decision Tree', 'Random Forest', 'Logistic Regression']\n",
    "plt.figure(figsize=(8,4))\n",
    "plt.ylabel('Accuracy')\n",
    "plt.tight_layout()\n",
    "sns.barplot(x=models_names,y=acscores, palette='Oranges')"
   ]
  },
  {
   "cell_type": "code",
   "execution_count": 59,
   "metadata": {},
   "outputs": [],
   "source": [
    "# The most efficient model was the Random Forest"
   ]
  },
  {
   "cell_type": "markdown",
   "metadata": {},
   "source": [
    "### Saving the model"
   ]
  },
  {
   "cell_type": "code",
   "execution_count": 60,
   "metadata": {},
   "outputs": [],
   "source": [
    "import joblib"
   ]
  },
  {
   "cell_type": "code",
   "execution_count": 61,
   "metadata": {},
   "outputs": [],
   "source": [
    "filename = 'BMI_model.sav'"
   ]
  },
  {
   "cell_type": "code",
   "execution_count": 62,
   "metadata": {},
   "outputs": [
    {
     "data": {
      "text/plain": [
       "['BMI_model.sav']"
      ]
     },
     "execution_count": 62,
     "metadata": {},
     "output_type": "execute_result"
    }
   ],
   "source": [
    "joblib.dump(logmodel, filename)"
   ]
  }
 ],
 "metadata": {
  "kernelspec": {
   "display_name": "Python 3",
   "language": "python",
   "name": "python3"
  },
  "language_info": {
   "codemirror_mode": {
    "name": "ipython",
    "version": 3
   },
   "file_extension": ".py",
   "mimetype": "text/x-python",
   "name": "python",
   "nbconvert_exporter": "python",
   "pygments_lexer": "ipython3",
   "version": "3.7.6"
  }
 },
 "nbformat": 4,
 "nbformat_minor": 4
}
